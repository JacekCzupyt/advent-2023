{
 "cells": [
  {
   "cell_type": "code",
   "execution_count": 5,
   "id": "initial_id",
   "metadata": {
    "collapsed": true,
    "ExecuteTime": {
     "end_time": "2023-12-10T12:27:24.514832500Z",
     "start_time": "2023-12-10T12:27:24.401813400Z"
    }
   },
   "outputs": [],
   "source": [
    "import numpy as np"
   ]
  },
  {
   "cell_type": "code",
   "execution_count": 98,
   "outputs": [],
   "source": [
    "input = \"\"\".F----7F7F7F7F-7....\n",
    ".|F--7||||||||FJ....\n",
    ".||.FJ||||||||L7....\n",
    "FJL7L7LJLJ||LJ.L-7..\n",
    "L--J.L7...LJS7F-7L7.\n",
    "....F-J..F7FJ|L7L7L7\n",
    "....L7.F7||L7|.L7L7|\n",
    ".....|FJLJ|FJ|F7|.LJ\n",
    "....FJL-7.||.||||...\n",
    "....L---J.LJ.LJLJ...\"\"\""
   ],
   "metadata": {
    "collapsed": false,
    "ExecuteTime": {
     "end_time": "2023-12-10T13:43:46.675047Z",
     "start_time": "2023-12-10T13:43:46.662044400Z"
    }
   },
   "id": "852f48608d1acdb3"
  },
  {
   "cell_type": "code",
   "execution_count": 105,
   "outputs": [],
   "source": [
    "input = \"\"\".-FL-L777F-F.7-LJF-7.F|7F7.FF---7-F-L|-F-JJ-LL.J-F7.L-LJFF-LFFJ7.FF-F|FFFJ77-F-LF|--7-FL.JJ.F-F7|--F77|JJFLF-|-F-F-7-7-77F-7FF.FF7F7F--|.7.F\n",
    "--|J.F-7-|7F|7-|FF-J-7L|JL--.LF|.7J||F77|7.FL-7-77|--L|.F7FLJ--F--7.LL-7|LFL7-FJL|7|J.F|7LJ7..LJJ..LLJJ..F.L7J77LL7L-F-LL|J-J.FFLL7|JJLL7|-|\n",
    "|.F-7-L..J-JJL7.||..L|--JF7...-FLJ7|L|J|777.|--J|LJF7--LLJ77.|7L77|F||7|-|L|J.|L|LJJJ7LJ-..FL|FJF7F|.F|L7|FLJ7FLJL|J.--|.|.7FJ-L7.FF.|F|7.FJ\n",
    "7J.-J7.FFLF--.-FJ7|--J7--F|77L-|J7|..F.L7-7.J.|J|.F-F7JL-7.F7FLL|-|-JL-JFFF7J-|7F7L7.7L|LLF7||L7||L7.-J|FL..|-||J.LF7|F.F--J|J77|-JLFL|LJF-7\n",
    "JJ.FL7|77.L7|-.FJ-|-F.|7J|.FJLFJ7-|.7LJF|.7JJ.L.LFJFL|LLFJ7|.L7||FJ7|7|7L7J|..LFJ|F7-F.L7LL|L7L7L|L|FFL7|L--JLL7.FFFJ-L-.---JLL---7FJ7L|FJ.|\n",
    "L7-|JFF77J--|.L|--JFF7LJF--7|LL-|.LF|LF-7.LL77|FLJ-JFF7.-|JF7JL7-7.LJF|7J.L.FL7JFJFL7LL.-7J|-J||-JJLL-.|LF||.FF--FJ|7.|F-.F7J.|L7||7F-7|FJ-7\n",
    "F|J|F|LFJ..F|JJ.7FJ-F7FJ7JLJJ-|-7-L|LL||F77.J.FF7..L|JLF-7-7JJ-7-F7|FFJ77FF-JF|.|||FFJ|7L|-JJ.FJ-L-7J|-F-7F--7JJ||FF-77|LJ|L.|J7L-FJF|FJJF7J\n",
    "7-FJF7---77F7.F|J|JF||LJL-.||.FFF7.F7F-7||J7L7JLL-.L|7FF7F7J|77.FJ77-JLL-777---FJJ|FJ-L77.J|LF7L||--F-JL7|L7FJ|.F--JFJ-7JLJ77|-JJFLF7.F--J-.\n",
    "|JJL-|-JF|FL|-FJF-77||7-JL|J.FFJ|L-JLJFJ||.|7|J7JJ.F---J|||7-|7FJL||7|L|-|L7..L||FLJ7F|FJ--FFF7.F7J|J|F-JL-J|7F7L-7FJJFJ7FJJFJFL-7.LL7|77|FJ\n",
    "L|-7FJJ.7JFJJ|L.JL|-L-L7.F77LF7LL----7L-J|F7F77L7F-L---7|||J..L-F77F77FF.|-7.---L7L|L7-7J.FF7||F|F77LF|F---7L7||F7||7J||LJFL-.|7JFF7-LJLLL7|\n",
    "L7LL-.FJJ-|7FL-77F77.||7F|L7|||F7F---JF--J||||7FF7J.|-FJ|||F-7J.F--J|F7F7.|.|.LL.-.L7|FJJ7FJLJ|F-J|F-7LJF7L|FJ|LJ||L---7||LJLFL7JL7JL|F--LJ-\n",
    "LL7FJJ|J|-FLJJ..|-JFF-LL-L7|FJ|||L---7|F7||||L7FJ|JFF-JFJ|LJFJ7FL--7||LJ|7-FJ..LF-J|7-FJ.LL--7|L-7||FJF-J|FJL7L-7LJF7F-JJJJ--7|FJ|J|.FLJJF7J\n",
    "F--7JF-FF-FJL-F.|.F|JJ7.LF|LJFJ||F--7|||L7||L7||FJ7LL-7|FJF-J.7FF--J|L7FJJ-F7F7LF7L77-JJ.|F77|L-7|LJL7L-7|L7FJF-JF-JLJ.|7|-7JJL7-L7L7F7.LLL-\n",
    "JFL--J-LL7L77JF-|F7J-FJ-F-JF7L7||L-7||||FJ|L7||||F7F-7|LJFJF-7--L--7L7||J.FJLJ|.|F7F7.|JF-JL7L7FJ|F--JF-JL-JL7|F-JF-7F7LJ77|7FL-7FJJ-L-7L|.|\n",
    "|7.FJJ7.|.FL|-F--JL7-L7LL--JL7LJ|F7||||||7|FJ||||||L7LJF-J.|FJ7JJF-JFJ|L-7L-7FJFFJ|||.F7L-7FJFJL7||F7JL-----7LJL--JFJ||7LF||-|77L-J|J.|JLLF|\n",
    "7.-JFF|-JF7J|LL--7FJ-FF7L.F-7L-7||LJLJLJ|FJ|.|||LJL7L-7L-7FJL7|-FL-7L7|F-JF-JL-7|FJ||FJL7FJL7L-7LJ|||F7JF--7|F-----JF|L7.|LL.L-7JJ.77-F-F77|\n",
    "L7..J--JF77-J.L|FJL7F7F7-FL7L7FJ||F7FS-7LJFJFJ|L--7|-FJF-JL7FJF-7F7|FJ||F7L7F--J|L-J|L7FJL-7|F-JF7||LJL7|F7LJL-----7FJFJ-FJ|F7|.F--LL-|F-7|7\n",
    "FJ7.JJ|.FL--.7LFJF7||LJL7F7L7||FJLJLJF7L7FJFJFJ|F-JL7L7L-7FJL7L7||LJ|J|||L7|L7F7L--7L-J|F-7||L7FJLJL7F-JLJL7F------J|FJF7J7FLL77|F7JF-F|JLJ7\n",
    "|L777L-L777F-J-L7|LJL--7|||F|LJ|F7F7FJL-JL7L7|F7L7F7L7L7FJ|F-JFJ|L-7|FJLJFJ|FJ|||F7L--7|L7|||FJL-7F-J|F7-F7|L7F7F7F7|L-JL7-LJ7F-L-7-J.-|7FJ7\n",
    "L7|.7J7L|F-L|FF7|L-7F7L|LJL7L-7|||||L--7F7L7|||L7LJL7L7||FJ|F7|FJF7|LJF-7L7||FJL7||LF7||FJLJ|L7F-JL-7LJ|FJ||FJ|LJLJ||F---J.FLJ|7F|.F|FF-7-L7\n",
    "F|J7.F7-L7.FFFJLJF-J|L7L7F-JF7||||||F-7LJ|FJ||L7L7F7|FJ|||FJ|LJ|FJLJF-J-L7|||L-7||L7||||L--7|7|||F-7L-7|L7|||FJF7F-J||F7LF777LL-77--JJ--|7.J\n",
    "FJJ.|.J7FL|7JL7F7L7LL7|.|L-7|LJLJ||||FJ|FJL7|L7|FJ|LJ|FJLJL7L-7|L--7L-7F7LJ||.FJ|L7LJ|||F7-||FJL7|FJF7|L7|LJ||FJLJF7|||L-JL-7.|.|JL-F|J7F|7J\n",
    "|FL7F77LF-F77.LJL7|F7|L7|F7|L-7F-J|LJ|F7L7FJ|FJ|L7L-7|L---7|F7||F-7|F-J|L7FJL7|FJFL-7LJLJL7||L-7|||7|LJFJL7FJ||F7J|LJ||F-7F7|-L-L7.FJ|FFJ7-7\n",
    "|LF|--J..||L7-F--JLJ|L7|LJ||LFJ|F7L-7|||FJL7|L-JFJ|FJ|F7F7|||||||FJ||F7L7||F-J||-F7|L----7||L77|LJL7L-7|7FJL7|||L-JF7|||JLJLJ|.||JFLL7F-J|JF\n",
    "|..L|JJ7.-L7|.L----7|.||F-JL7L7|||7FJLJ|L-7||F--JF7L7||||||||LJ|||FJ||L-JLJ|F7|L7|L7F7F7FJ||FJFJF--JF7|L7L-7LJLJF--JLJ|L-7F7|F|-JF-|||J|.--J\n",
    "|7FFJLFJ-LFJ|F7FF--JL-J|L--7|FJ||L7L--7L--JLJL-7FJL7|LJ||LJ||F-J|||FJL---7FJ||L7LJFJ||||L7||L-JFJ.F7||L7L7-|F--7L77F7-|F-J|L7J|--L7FJJLF-L7|\n",
    ".-F7-FJ|.LL7LJL-JF7F7F7|-F-J|L7|L7|F7JL---7F---JL7FJ|F-JL-7|||F7||||F7F7FJL7||FJF-J|||||FJ|L-7FJ|FJ||L7L7|FJL-7L7L-JL-J|F-JFJ7...|7F-7-|.FF7\n",
    "7.L77F7-L-J|F7F--JLJLJ|L7|F7L7||FJ|||F-7-FJL-7F7FJL7|L-7F-JLJ||LJ||||LJ|L7FJ|||FJF7FJ||||FJF-JL-7L7|L7|-|||F--J7L-----7||F-JJF7JJ.FJ-JL|.FL-\n",
    "L7FJ-7F-J--LJLJF7F--7FJFJLJL7LJ|L7|||L7|FJF--J|||F-J|F-JL---7||F-J|||F-JFJL7|||L7||L7||||L7L7F--JFJ|FJL7|LJL---7F7F7F7LJ||F77||F|-J|F7FLFJJ.\n",
    "||JF7J|JL7.FF--J|L-7|L7L7F-7L-7L-J||L7|LJFJLF7|LJL-7|L-7JF77|LJ|F7||||F7L7FJ|||FJ||FJLJ||FJFJL7F7|FJL-7|L7F----J|||LJL7FJLJL7||7JJLFLJ7-FJF|\n",
    "7|-L-7|.J-LLL7F7L--JL-JFJ|FJF7L--7LJFJL-7L-7||L-7F-J|F-JFJL7L-7||LJLJ|||FJL7|LJ|FJ|L--7LJL-JF-J||||F7FJL7||F7LF7|||F--JL7F--J|L7|77|-L77|FF|\n",
    ".|7JFL77L|LL.LJL--7F7F7L7||FJ|-F7L-7L7F-JF-J|L7||||FJL7FJF-J7FJLJF7F-J||L-7||F-J|FJF7FJF----JFFJ|||||L-7LJ|||FJLJLJL---7|L--7|FJFF|LF-7FL7.L\n",
    "-LJ--J||F-77FF---7||LJL7LJ|L7L-JL--JFJL-7|F7L7L-JL7L7FJ|FJFF7L7F-JLJF-JL7F||||F7||J||L7L-7F7F7L7||||L7L|F-J|LJF7F------J|F--J||F7F--JFJJL777\n",
    ".FL-L7LL|-|-FJF-7|LJF7FJF7L7L-7F7F-7|F7FJ||L7L--7FJ-||FJ|F7||FJL-7F7L--7|FJLJ||||L7||FJF-J|LJ|FJ|||L7L7|L-7|F-JLJFF-7F--JL---JLJLJF--JJ.7|FL\n",
    "7--|-L7|JL|.L7|FJL--JLJFJL7L--J|||FJ|||L7||FJF7|||F7||L7|||||L7F-J||F7-||L-7FJ||L7|||L7|F7|F-JL7||||L7||F-J||F7|F7L7||F----------7|-JJJ7|L-J\n",
    "FJF7F|-7.L|FLLJL-------JLFJF-7FJLJL7LJL7||||FJL7|||||L-J||||L7||F7|||L7||F7|L7||FJ||L7||||||F7FJLJL7FJ||L--JLJL7|L-J||L-------7F7LJ.||-FL7|7\n",
    "L77L-J7F7FFFF7F--7F-7F--7L-JFJ|F---JLF-J|LJ||7FJ|LJ|L-7FJ|||FJ|||||LJFJ||||L7|||L7||FJ|||||LJ||F---J|-||F--7F-7LJF--J|F----7F-J||F7-|J-7LJL|\n",
    "LF|-LL7LJFF7||L-7|L7|L7FJF--JFJL-7F-7L7FJF-JL7|FJF-JF7|L7||||FJ||||F7L7|LJ|FJLJ|FJ|||FJ|||L7|LJL7F-7|FJ|L7FJL7|F7|F--JL7JF7LJF7|LJL7LF-7L|.|\n",
    "JJ..7LJ7F7|||L-7|L-JL7||LL7F-JF7-LJFJ7||FJF7FJ|L7L7FJLJFJ|||||FJ||||L-JL7F|L-7FJ|FJ|||7||L7L--7-||FJ|L7|F|L-7||||LJF-7FJFJL--JLJF-7L7|FJF7-7\n",
    "||L||LLFJLJ|L-7|L---7LJL-7||F7||F7-L-7||L7||L7L7L7||F7FJFJLJ|||FJLJL-7F7|FJF7|L7|L7|||FJL7L7F7L7LJL7|7||FJF7LJLJL7FJ|LJ7L7F-7F7FJJL7LJ|.7L7-\n",
    "F7-|FF7L-7FJF7|L7F7LL--7FJLJ||||||F--J||FJ||FJFJFJ|LJ|L7|F--J|||FF---J|LJ|FJLJJLJFJ|LJL7FJFJ|L7L7F7LJFJ|L-J|F7F-7|L-7LF7FJL7LJLJ7J7L-7L7.|J7\n",
    "-7FF7J7FFJL-J|L7LJL----JL7F-JLJLJ|L--7|||FJ|L7|FJ|L7FJFJ|L7F7||L7L-7F7L-7LJLF--7FL7|F--JL7L-J|L7LJ|F-JFJ-F7LJLJFJL--JFJLJF7L7F77F7F-7|FJFJ-7\n",
    "L||||-FFL---7|FJF7F-----7|L-7F7F7L---JLJ|L7L7||L--7|L7|FJFJ|LJL7|.FJ||F7|F7FJF-JF7LJL7F-7L-7F--JF7|L-7|F-JL----JF7F--JF-7|L7LJL7|||FJLJ7-FL7\n",
    "FF7||F7JF---JLJFJLJF7F7L||F7LJLJL7F---77L-JFJ||F--J|FJ|||L7L7J-LJFJFJLJ|LJLJFJF-JL--7|L7|F7||F7FJLJ|FJ|L-----7F-JLJF7FJFJL7|F-7LJLJ|F|.|FJ.|\n",
    "F|LJLJL-JF7F7F7L-7-|LJL-JLJ|F7F77LJF--JF7F7|FJ|L--7||L||F7L7L7F7FJFJF--JF7F7L7|F7F-7LJFJ||LJ||||F7F7L-JF----7LJF---JLJ-L7FJLJLL-7F7L7J-7-7FF\n",
    "FL-7F---7|LJLJ|F7|FJF---7F7LJLJL7F-JF7F||||LJ||F7FJLJFJ||L-JFJ|LJFJ7L-7FJ||L-J||LJFJF7|FJL-7|||||||||F7L---7L--JF--7F--7|L-77F--J||FJ|J.L--|\n",
    "|LLLJ-F-J|F---J|||L-JF--J|L----7LJF7|L7|LJL--7||LJF-7L7|L-7FJJ|F7L-7|FJ|FJL-7.LJF-JFJLJ|F7FJLJLJ|||L-JL-7F7L----JF7LJF7||F7L7L7F7||L-7.JJ|FL\n",
    "J-7.F7L--JL7F7FJLJF-7L7F-JFF7F7L--J||FJ|F7F-7||L--JFJFJL7FJL7FJ||F-JFJFJ|F-7L--7L7FJF7LLJ||F----J|L----7LJ|F7F7F7|L7FJLJLJ|FJFLJLJ|F-J7|7L7J\n",
    "|FJ-|L-----J|LJ-F7L7|7LJF--JLJL----J|L-J|||7LJ|F--7L7L7FJ|F-J|FJ|L-7|FJJLJF|F7FJFJL-JL7F-J|L-7F-7L7F7F-JF7LJLJLJLJFJ|F--7FJL7F--7|LJJLJ77JF7\n",
    "L7|||F---7F7L7F-JL-JL7FFJF7F7F7F7F--JF7FJLJF7FJL-7L-J-|L7LJF-J|FJF7|||F----J|LJFL7F--7|L7FJF-J|FL7LJ|L--JL------7|L7LJF-J|F7LJF7L-7-F-L7-.7J\n",
    ".J-FLJFLLLJ|FJL--7F-7L-JFJLJLJLJ||F--JLJF7FJ|L7F7L---7|FJF7L7FJ|FJ||||L----7|F7F-JL-7||FJ|FJF7|F7L-7L-----------JF-JF-JF7LJL7FJL-7|||F.|.|J.\n",
    "FL7LL.|FF--JL7F--J|-L7F7|JF--7F-J|L---7FJ|L7L7|||F7F-JLJ|||7|L7|L7LJLJF7F7FJLJ||F7F7|LJL-JL7|LJ|L--JF7F7F-------7|F7L--JL-7JLJJ.LLJFL--J7.-7\n",
    "FFJJ|.F7L---7|L-7FJF7LJLJFJF7LJF7|LF7FJL7L-JFJ||LJ|L-7F--JL-JFJL7L-7F-JLJLJF7FJ||LJ|L--7F--J||FJF7F7|LJLJF------JLJL-7F7F7L-7F7.7L|77|J.|.LL\n",
    ".FJ-F7||F--7LJF-J|7||JF7JL7|L7FJLJFJLJ7FJF7FJFJL-7L--JL-7F-7FJF7|F7|L-----7||L7|L-7|F-7||F-7|FJFJ||||F---JF7F77F7F-7FJ|LJL-7LJL-77L7-|.7.77L\n",
    "FJ|||||||F-JF-JF7|FJL-JL-7LJ7LJFF7L----JFJ|L7L---JJF7F7FJL7|L-J|LJ||F-----J||FJL--J||FJ|||FJ|L7|FJ|LJL7F--JLJL-JLJFJL7L--77L7F7FJJ7|L|JL7J|.\n",
    "FF--|LJ|||-FJF7|LJL7F---7|F7F7F7||FF----JFL-JF77F7FJLJ||F7||F7FJF-J||F---7FJ|L----7LJL-JLJL-J.LJL7|F7FLJF---------JF-JF-7L-7||LJ-|JF-J|F7|LJ\n",
    "LJ7LL-7LJL-JFJ||F--J|F--JLJLJLJLJL7L--7F-7F7FJL7|||F--J|||||||L7L--JLJ-F-JL7L7F7F7L7|LF7F7F-----7LJ||F77L---------7L-7|FJF-JLJ|J.|7F7F7|F|-J\n",
    ".J7JL7L7F7F7L7LJL--7|L--7F7F7F7F-7|F--JL7||||F-J|LJL--7||||||L7|F-7F7|FJF7FJ7||LJL-J7FJLJ|L---7FJF-JLJL--------7F-JF7LJL7L-7.L|JF7-LJL|-|||J\n",
    "7F77.-FJ|LJ|FJ-F7F-JL7F-J|||||||FJLJF7F7|LJLJ|F-JF7F7FJ||||LJFLJL7LJL-JFJ|L7FJL7F7F-7L--7L----JL-JF-----------7|L--JL7F7L7FJ--JFLJ-F-7JJ|7F-\n",
    "L7|77.L7L7FJL-7||L7F-JL--JLJLJLJ|F--JLJLJF7F7LJF-JLJLJJLJLJ.L|7F-JF7F-7L7L7||F7LJLJFJF--JF7F--7F--JF7F--------JL--7F7|||LLJLF|JLLF7-7.|J|.7.\n",
    "L-|--F-JFJL7F7||L-J|F7F7F7FF7F--J|F------JLJL--JF7F--7F7-F7F7.LL7FJLJJ|FJ|LJ||L7F7FJJL--7|LJF-J|.F-JLJF---------7LLJLJ||F----7LFF7|JFFL.-7|7\n",
    "|.||||F7|JLLJLJL---J|LJLJL-J|L---JL-----------7.|||F-J|L7||7||JLLJF---JL---7||7LJ||J.F7FJ|F-JF7|FJF---JLF------7L7F7F7|LJF-7FJ.|L7J7LL|.F-JJ\n",
    "F.|--LJLJ7-L7|FLLF--JF-7F7F7|F7F----7F7F-7F7F7L-JLJL--JFJ||F777..LL7F7F7F7FJ|L--7LJF7|LJFJL-7|LJL-JFF7F7L---7F7L7LJLJLJF-JL||---.|.JJF||JLFJ\n",
    "|7LLFJLLJ..||-7.LL---J|LJLJ||||L---7LJ|L7LJ|||F7F7F---7|FJLJL7F7FF-J||||||L7L7F7L--J|L--J.F7LJLF-7F7|LJL---7LJL7L-----7L7F7LJF|-J.||-F|J.||J\n",
    "LJ7L||J-LF-LJ-J-F----------JLJL----JF7L-JF7LJLJ|||L--7LJL7F7FJ|L-JF-J|||||FJF|||F---J|F---JL7F7L7LJ|L--7F-7L---JF7F--7L7LJL-7F--.7L|7|LF-J|J\n",
    "F7LF-77-7J.LFJFFL-7F7F7F---7F-7F----JL---JL--7FJ|L7F-JF7FJ|LJLL7F7|F-J|LJLJLFLJLJF7F--JF7F-7|||FL-7L--7LJFJF7F7||||F-JJL-7F-J7FLFJFL7-.J7-L7\n",
    "FJF7LJ7F|77F77LFF-J|||LJF--JL7LJF------7F--7FJL-JJLJF7|||FJF7JL||LJ|F7L----7J.F|FJLJF7FJ||FJLJ|F7|L7F7L7JL-JLJL-JLJL----7|L--77-LLJ7|J.LJ7F-\n",
    "LLFJ||F-7F7||F7JL--J||F7L-7F7|F-JF----7LJF7LJF7F7F7FJ||LJL-JL7.LJJL|||F-7F-JL--FL--7|||.LJL--7LJL--J|L7L----------7F7F--JL---J7-.L7F7-J7FJ7J\n",
    "|.J-77L7LJ||LJ|LF--7LJ|L--J|LJL--JF---JF-JL--JLJLJ||FJ|F-----JF--7-LJ|L7||-|.L-LLJFLJLJF--7JFJF7F---J.L7F--7F7F7F7LJLJF7F7JF7F7J7FL.J.L|-LF7\n",
    "7FL7|F7L-7LJF-JFL-7|F7L----JF-7F77L7F--JF-----7F--J||FJL---7F7|F-JJL-L-JLJ.F7JL|FL-J|LLL-7|FJFJ||F-----J|F7||LJLJL7JF-JLJ|FJLJL7LJF-F---J.LL\n",
    "F-F7-F7F7|F-JF7F--J||L7F-7F7L7|||F7LJF-7L----7LJ-F7|||F----J|||L-77||FJ.||FL7LFFF7LJLFF7FJLJFJ-||L----7FJ||LJF-7F7L-JF---J|F---J-|7|L.7JFJLJ\n",
    "LF-7L|||LJ|F7||L--7|L7|L7||L-J||LJL--J7L----7L-7FJLJLJL7F7F7||L7FJF|J7.F||F----F7JJ-FF|LJF-7|F7LJF7F-7LJFJL--J-LJL7F7L77F-J|F7J7.FLJJ7F7-JFJ\n",
    "F|FJF||L-7LJLJL7F-JL7||FJ||F-7LJF----------7L--JL-7F---J||||||FJL-7J|L7FLJ||F|J|||-F--JF-JFJ||L--J|L7|F7L--7F----7LJL-JFJF-J|L7F--7J.LFJJ.J7\n",
    "L|L--J|F7L--7F-JL--7|||L7|LJ-L7FJF---------J|F-7F7||-F7FJ|||||L7F7L77.F7-LFF77FJL7JL---JF7L-J|F--7|FJLJL---J|F---JF-7F7|FJF7|FJL7FJ||F|7|7L7\n",
    "L|F7F7LJL-7FJL---7J|||L-JL77F7LJ-L--------7FFJFJ|||L-JLJFJ|LJL-J|L7|J.||FLF7F7L7FJ7JF---JL7F7LJF-JLJF7F7F7.FJ|F---JFJ|LJL-JLJL-7||F7.-7F-F7J\n",
    "FLJLJ|F7F7LJF--7FJFJ|L---7L-J|F-7F7F-----7L7L7|FJLJF7F-7L-JF7F7FJLLJJLF7F-J|||FJL-7.L---7FJ|L-7|F7F7|LJLJL7L7LJF---JFJF----7F7FJ|||L7LLJFL||\n",
    "|JLL-||LJL7FJF-JL7L7|F7F7L--7|L7LJLJF-7F7L-JFJLJF--JLJJL--7||||L-7-LJF||L-7|||L7F7|F-7F-JL7L7FJLJLJLJ-F---JF|F-JF7|FJFJLF-7LJ||J|||FJF7-JFJJ\n",
    ".--LFJL77.LJLL--7L-JLJLJ|F7J||.L---7|FJ||F-7|F--JF7F7F---7||LJ|F-J-|FF|L7-|LJL7||LJ|FJL--7L-JL-77.F7F7L-----J|F-JL7L7|F7|FJF7LJFJ||L-JL7F|7|\n",
    "-7FLL--J-F----7|L7F-7F-7||L7||F77F7LJL-JLJFJ||F--JLJLJF--J|L7||L7|.FF7L7|.L7F-J|L-7|L7F7FJF7F-7L7FJLJL------7LJF--JFJLJLJL-JL-7L7LJF7F-J-FF7\n",
    "FL7JJ.L||L---7L-7LJLLJL||L7LJLJ|FJL-7F-7F7L-JLJF7F7F--JFF7L-JFJFJ77F||FJ|F7|L7FJF-JL7LJLJFJLJFL7LJF--------7|F7|-F-JF-7F------JFJF7|||JFL|L-\n",
    "-7.F-FJF-----JF7L----7FJL-JF--7LJF-7LJ.|||F7F--JLJ|L---7|L--7L7|-F--J|L7|||L7|L7L-7FJF---J7F--7|F-JLF7F----JLJ|L-JF-J.|L-----7F|FJ||LJ-7JLFJ\n",
    "|-77.|.L7F----JL7F--7LJF7F-JF7L--JFJLF7LJ|||L---7||F7F7||F--J-|L7L7F7L-JLJL-J|FJF-JL-JF-7F7L-7|LJF--J|L--7F7JFJF7FJF-7L7F-7F7L-JL7LJ.J.|.L|7\n",
    "L7J.F|7JLJF-----J|F-JF7||||FJL-7F7L--JL7-LJL7F-7L7|||||LJL7F-7L7|-LJL7F-----7||FJF7F7.L7LJ|JFJL7FL7F7|F77LJL7|FJLJF|FJFJL7LJ|F---J||.|.7..|7\n",
    "||7.F||F7FJF----7||F7|||||FJF-7LJL----7L---7||FJFJ||LJ|F-7||FJLLJ7F77LJLF77FJ||L7|LJ|F7L-7L7L-7|F7LJ|LJL---7|||F---JL7|F7L-7|L--7LJ--JFLLLJJ\n",
    "L7--F77|LJFJF---J|LJLJ||LJL-J|L7F----7L7F--JLJL7L7||F-J|FJ||||F7F7||F7F7||FJFJ|FJL7FJ||F7L7L--J|||F-JF7F--7LJLJ|F----J|||F-JL---J.J||F-7J-||\n",
    "||..||FJF7|FL----JF---J|F--7F--J|F--7L7|L-----7L-JLJL--JL7LJL7||||||||||||L7L-JL--JL-J||L7L---7LJLJF7|||F-JFF7L|L----7|||L--7F7|F7.FF|-.L.F-\n",
    "FF-F|LJFJ||F------JF---JL-7LJF7FJL-7L-JL7F-7F7L--7F--7F7-L---J|LJLJ||||||L-JF---------JL7L--77L----JLJLJL---JL7|F----JLJL7F7LJL7|L-7.7J7FF77\n",
    "F--7L7FJ7||L7F7F7F7|F--7F7L--JLJJF-JF7F7LJ7LJL7F-JL-7LJL-7.F7LL--7FJ||||L--7L---77F7F7F-JF-7L-----------7F7F--J|L---7F-7FJ|L7F7LJF-J.F77FJFJ\n",
    "L-7|F||LFJ|FJ|LJLJLJL-7||L7F-----JF-JLJL-7F7F7LJLF7FJF---JFJL-7LFJL7||||.F7|F---JFJ|||L-7|FJF7F--7F-7F-7LJLJ|F-JF--7LJFJL7|7|||F-JJ.F|LJ.F|J\n",
    "FFJL-J|.L7|L7|F------7||L7LJF--7F-JF7F7F-J|LJL7F7||L7|LF7|L7F-JFJF7||LJL-JLJ|F7F7L7|||F7LJL7|LJF7LJ|LJFJF7F--JF7L-7|F7L-7|L7|||L--7-FL7|7F.|\n",
    "LL7F7FJ7LLJ-LJ|F----7LJL-JF-JF7LJF7|LJLJF7|F--J|||L7||FJL7L||F7|FJ||L7F7F7F7LJ|||FJLJ||||F7||F-JL----7L-JLJF-7|L--JLJL--JL-JLJL---J777LJ-|.F\n",
    "LFLJ||JL|JLF.LLJF---JF7F--JF-JL-7|LJ-F7FJ|||F-7||L7|||L-7L7|||LJL7LJ7||||LJ|F-J||L--7|||FJ|||L------7L-----JF|L--7F7F-7F7F7LF7JF7J7||L7FLL.|\n",
    "F7FFJ|JFF7LJ-|LFL----J||7F7L---7|L--7|LJFJ|||FJ|L-JLJ|F7|FJ||L-7FJJF7LJ||F-J|F7||F7FJLJ||FJLJF7F--7FJF------7|F-7LJLJFJ|LJL-JL-JL--7-7FJF|F7\n",
    "||FL-JF-J7J.FF7F7.F7F7LJFJ|JF7FJL---J|F-JFJLJL7L--7F-J|LJL7|L7FJ|F-J|F7LJL-7||LJ|||L--7||L77FJLJF7LJFJF-----JLJJL7F--JL|F----------J|L-.FFFJ\n",
    "JJ..J7|J.--7F|LJL-JLJL--JFJFJLJF7F---JL--JF---JF7FJL7|L7F-J|FJL7LJF-J||7F7FJ||F-J|L7F7||L7L7L--7|L--JFJF-----7F7-|L----JL----7F---7-J|-F-LF7\n",
    "|F-7JFLF.|-F-JF-----7F7F7L7L--7|||F----7F7L--7FJLJF7L7FJL-7||F-JF-JF-JL7|LJFJ|L7-L7||LJ|JL7L--7||F---JFJF----J|L7|F-7F7F-----J|F--JLLL7L|.|.\n",
    "FLF7-7F|7JJL7FJF7|F7LJLJL7L--7LJLJL7LF7LJL---JL---J|FJL7F-J||L7FJF7L--7|L-7|-|FJF-J|L-7|F7|F--JLJL--7FJ-L---7FJFJ|L7LJ|L---7LFJL-7|FLLF7J7||\n",
    "7-LF-LJJ...LLJFJL-JL-----JF-7L--7F7L-JL---7.F-7F7F-JL-7||F7||FJ|FJL7F-J|.FJL7|L7L7FJF-JLJ|||F7F7F-7-||F----7||FJ7L-JF7L7F--JFJF7FJ-L-JL---J7\n",
    "JJ||7.J7FL-F7LL7F7F7F7F---JFL--7LJL---7F-7|FJFJ||L---7|||||||L7||F-JL-7|FJF-J|FJFJL7L-7F-J||||||L7L7LJL---7LJ|L--7F-J|LLJF7FJFJLJJJFF-7.FLLJ\n",
    "|.7LJ-FJ-FF|L--J|||||||F---77F7L-----7|L7LJ|FJ-|L7F-7|||LJ|||FJLJL--7FJ|L7L-7||FJF-JF-JL--JLJ||L7L7L7|F---JF7|F--J|F-JF7F|LJFJLF|-FFL7|.|.LF\n",
    "FF77J-|J-FFL-7F7|||LJLJL--7|FJL------JL7L7FJ|F7L7|L7LJLJF-J||L-7F---JL7|FJF-J||L7|F7L-7F-----J|FJ|L7L7L----JLJ|F7F||F-JL-JF7L-7-F7J|-|J|-7.7\n",
    "L||.LJ.|7FJF7LJLJLJ|F-7F-7|LJF-------7|L-J|FJ||FJL7L--7FJJFJ||FJL-7F7FJ|L7L-7|L7|LJ|F7|L-7FF7|||F7FL7|F7F-----J|L-JLJF-7F-J|F7|7||FF.|..JLF-\n",
    "LLL7FF|FF7L|L-77F7-FJFJL7LJF-JF77F--7L7.F-J|7||L-7|F7FJ|F7L7L7L7F-J|||FJ7|F-JL7|L-7||||F-JFJL7||||F7||||L------JF----J.|L-7LJLJFJ|7|77.FJ7.L\n",
    ".|L--LFL|L-JF7L-JL-JFJF7L-7|F-JL-JF7L-JFJF7|FJ|F7|||||FJ|L7L7|FJ|F7|||L7FJ|F7FJ|F7|||||L7FJF-J|||||||||L---7F7F7L-7F--7L-7L7F7FJFJF--7-J.FJJ\n",
    "F|.L7FJLL---J|F7F--7L-JL-7LJL-7F7FJ|LF7L7|LJ|FJ||||||||7L7|J|||FJ|||||FJL7|||L7||||||||FJL7|F7||||||||L---7|||||F-J|F-JF7L-J||L7|||F7|.L-FJJ\n",
    "FJ-.FL777F---J|LJF7L----7|F7F7||||JL7|L-JL7FJL7|||LJ||L7FJ|FJ||L7||||||F7|LJ|FJ||||||||L7FJ||LJ||||LJ|F7F7|LJLJ|L-7||F-J|.F-JL-JL-J|LJ-F7LF7\n",
    "|LLF77JF-L7F7FJF-J|LF7F-JLJLJLJ|||F-JL-7F-JL-7||LJF-JL7|L7||7||||||||||||L-7|L7||||||||F|L7|L7F||||F-J||||L7-F7L-7LJLJF7L-JF7F-7F-7L-7FJ7.L.\n",
    "J-.L|JFLJ|LJ|||L-7L-JLJF7F7F-7FJ|||F7F7||F7F-J|L7FJF7FJL-J||FJL7||||LJLJ|F-J|FJ||||LJ||FJFJL7L7||||L-7|LJL7L-JL-7|F7F7|L---JLJ.|L7L7FJJ.J7L7\n",
    "LL-..-JL-FLLLJF77L--7F-J||LJFJL7||||||||||||F-JFJL7|||F7F-J||F7|||||F---J|F7LJJLJ||F-J|L-J7-|FJ||LJF-JL-7FJF7F7FJLJ||||F--7F7F7L7L7LJJ.----L\n",
    "|J|F|JF|7F--7FJL----JL7FJL7FJF7|LJ|||||||||||F7L-7||LJ|LJF7|||LJ|||||F--7LJL----7||L-7L---7FJL7|L-7L-7F7|L7|LJ|L7F7||LJ|F-J||||-L-J77FLJFJFL\n",
    "7.|FJ-|7-L-7LJF--7F-7FJL7FJL7|||F-J|||||||LJ|||F-J||F-JF7|||||F7||LJ||F-JF-7F---JLJF-JF7F7||F-J|F-JF-J||L7|L-7|FJ|LJL7FJL7.||||F7F-777|FL7L|\n",
    "|F-JLFJ-F--JF7L7J||FJ|F-JL-7||||L7FJ||LJLJF7|||L7JLJ|F7|||LJ|||LJL7FLJL-7L7|L--7F--JF7|||LJLJF-JL-7|F7|L7|L7FJLJLL7F7LJF7L7|||LJLJFJLJ77LF7|\n",
    "JLJLLLJJL--7||FJFJ|L-J|F7F7|||LJFLJ.|L7F7FJLJ|L7L-7JLJ|||L-7||L7F7L7.F--JFJ|F7FJL-7FJ|||L7F7FJF-7FJ|||L7||FJL--7F-J|L7FJ|FJ|||F--7L77FF-JL|7\n",
    "L7F77J.7FFFJ|||J|FJF--J|||||LJF-----JFJ|LJF7FJFJF7L7F7|||F-J||FJ|L-JFJF-7|LLJ|L-7FJL7||L7LJ|L7|FJL7|||FJLJL7F7FJL7FJFJL7|L-JLJ|F7L7|L|.|-FF7\n",
    "F-LJ|7|.|-L-JLJ7LJ|L7F7|LJ|L-7L-7F7F7L7L-7|LJ7L7|L7||LJ||L-7LJL7|F--JFJFJ|F-7|F-JL7FJLJFJF7|-LJ|F7||||L--7FJ||L7F|L7L7FJL7F7F7LJL7LJ7|.JF--J\n",
    "-.LFJLJJ..LJ||.F---7||LJF-JF7|F-J||||FJ|FJL7F7FJL7LJL7FJL--JF7FJ|L7F7L7L7LJFJ|L-7FJL--7L7|LJF-7||||||L7F-JL-JL7L7|FJFJ|F7LJ||L7F7L7JJ7F7L7|.\n",
    "|FFJ7JLL7||--L7L7F7LJL7FL7FJ|||F7|LJ||F-JF7LJ|L7FJF7FJL--7F7|LJFJFJ||FJ|L7FJL|F-JL7F7FJF|L--JFJ||||||FJL----7-|FJ|L7L7LJ|F-JL7|||FJFLLF7-|.J\n",
    "|7L||L|J|-J7F|FLLJL7F7|F-JL7||||||F-J|L7FJ|F-J7LJFJLJF7F7LJ||F7L7L7|LJ|F7||F7LJFF-J|LJF-JF7F7L7||||LJL-7F7F-JFJL7L-JFJF7|L7F-JLJLJL-JFJLFLLJ\n",
    "L7JJ|7JF-7FF--J|.LFJ|LJL-7FJLJ||LJL-7|FJ|FJL--7F-JF-7||||F7|||L7L7LJF7FJLJLJL7F-JF7L-7L-7|||L-JLJ||F--7|||L7FJF7|F7F|FJLJL|L----7JL|F||J|L|J\n",
    "|J|-||L|.-JJJJJFF-L-JF---JL-7FJL7F--J|L7|L7F--JL-7L7||LJ||LJLJFJFJF-JLJF7F-7FJL7FJ|F7|7FJ||L----7||L-7LJ||FJL7|LJ|L-JL---7L7F---JL-F--7FF7L|\n",
    "F7F7-J---L-L.LFF7LL-LL7F-7F7|L7FJL7F7|FJ|.|L--7F-JFJLJJFJL7F--JFJFJF7F7||L7|L7FJ|FJ||L7L7|L7F--7|||7FJF7||L-7|L7LL-7F-7F7|FJL---7--JLL.-J-FJ\n",
    "7-|7.|||7|7F7.FLJ7|F|JLJJ||LJLLJF-J|LJL7L7|F7FJL7FJF---JF-JL-7FJFJFJLJLJ|FJ|FJ|FJL7||FJ.|L7|L-7||||FJFJ|||F7|L7L7-FJ|FJ||||F-7F-J-7-7-LJ.||J\n",
    "|L||FF7LFF-FLFJ7F7-7JFJ-FLJ.|FJJL-7|F-7L7|||LJ7FJL7|F7F7|F---J|FL7|F----JL7|L7|L77LJ|L7FJFJ|F-JLJLJL7|FJ||||L7L7L7L7|L7|LJ||J||JJ7LF777|FL-F\n",
    "..FJFJJ7LJF---7F|J||JL|L|-|-L7|.|FJ|L7L-J||||F7L7FJLJLJLJ|F7F7L-7||L---7F-J|FJ|FJF-7L7|L7|||L-----7FJ|L7||||FJFJFJ-||7|L-7||FLJJ7J-|JL77|J7L\n",
    "|F|J.|FJ7F-J7L--||JJF7L7J||J7F7-FJFJFJF7FJ|L-JL7||F------J|LJL7FJLJ|F--JL7LLJFJL-JFJFJ|FJL7|F7F7F7|L7|7||LJ||-L7|F-JL7|F-J||-JJ..|-JLL|JJJL|\n",
    "LFJ|FLJFJJLL7-|LLJ.F|-F|J-|.-||FJFJJL7||L7|F7F-J||L--7F7F7|F--J|F7F-JF-7FJF-7|F-7FJ-L7|L-7|LJ||||LJ-||FJL7FLJJFJ|L-7FJ|L-7LJJ|.F-..|.LJ|7|7|\n",
    "LL--J7LJ|..FLF|.FF-.|-F|.7-L.|LJFJL77LJL7||||L7FJL7LFLJ|||||F--J||L-7|7|L-JFJ||FJL-7FJ|LFJL-7LJ||J|.|||F7L--7.L7|7FJ|FJF-JFL7LLJJ-L|7-7LJ7JJ\n",
    "F7FFLFJFL77L-J|F-L--7.||-7.FF|F7L77|F---J||||FJL7FJ-F--J|LJLJF--JL--JL7L-7FJ-|||F-7|L-J7L-7FJ-L|L7|FJ|||L7F7L-7LJ-L7|L-J.|7.J|.|L.LJ.7|7.-.L\n",
    "7L7JLLFF--L.|.L-77L.|-7LJ.LLL||L7L7-L7F7FJ|||L77LJ|LL7F7L7-LFJF-----7FJF-J|F7|||||LJJJLF--J|L|LL-JFJFJ||L||L--J|.7JLJJ-LLJ.F-777.7.F|.|-|J7.\n",
    "J-.|7.FJ-|.-77-J--JFLFF7|77-|||7L7|JJLJLJ|||L7L-7.||LLJL7L7JL7|F----J|-L-7LJ||||L-7J7L-L7F7|-JJ.|.L7|JLJ-LJ-|7.7F--LJLFJ|.F-7|FL77F--7JL|LL|\n",
    "|JLLL7|7J.F|JF7.|L-77|J|7-J--||JJLJ7J..F|F||FJF-J-|-F|.FJFJJFJ||F7F-7L--7L7FJLJL7FJ7FL-J||LJF|.FL7LLJ77|FLJ-|7-L7J7FL7-JFF77LF-.LL-JF||L-7L|\n",
    "-7..F-J|--FJ||.FJLFJF|.LF-|7FLJF||LL---FL-LJL7|7J||FF-.L-JJF|FJLJ|||L7F7|-|L-7.LLJL777F-LJJ-7.FL7LJ||LL--7L7JJ--JFF---J7LJJF--JFF-L7||L-LL-J\n",
    "F77F7L-JL|.FL-J7LF--F-J-L-JFJJ-|-LJF77|L|LL|||L7|F.F-7-|J|||||J.L||-FJ||L7|F-J-|LJ7L-J-L|L|-J--7F-7-F-.FLJ.|LL7J-JLJ.|-L7L-J-L7LL7FJLLL7.|7.\n",
    "||.-|--J-J-77|.F7|JJ.|J77.FLL7.L7F--FJJ|L|J.LL7|JLFJFJL|7FJ-LJ7.FLJ|L7||FJ|L-77--.FJJ7LFJJF..FL7|.JJL.-7.JJ.||LJ.LLJ.77FJ7|J|F||LFJ.J7.|7L-7\n",
    "LL7JJJ7|J.L|F--F|777L-F-|.|JLLJ--F7L||L-.L7F|LLJ..LL|.F-JJJFLL7-FJFF7|||L7L--JJLL7LJ.FFLJ..|.JF|--|LF--F.|F|JF-|-.|J.|LJLFJ-L7FJ-777.F|FJJ-|\n",
    "L||L|----F.7J..LLJ-FJ-JL|-7.|-|7.L-F7-|FJ-|7F-JJFL..J7|||-F|JLLJF-|7-LJL-JLJ7LJL|-L-FF-J-|7JFLJ|L.|F--F7-F7JLF-J-FL..FFJFJ|FL|JJ|L77.F|J..FJ\n",
    "7L|-7F|-|LL77...|J.-7L7-L-7-L.L-7JF||7--|7|||-LJ|JFJ||-|7FFFJ.|F-JLJ||.||..FFFL-|.|--JL77L--|.FJ.J-|JF||.|J.FF-|7F7.-7|F|--F7|..JJ|L7.L7--F7\n",
    "--|7.L--||J|J-L-J.7L|L-.FLJ7F7|F|FFJLF7J|JL.L7|7JF-L7||JLF-J|LJ.|JFL-|FJ-L-JLF7FFLF.J.FLJ7J..F|7F|-LF7L--7.FL7FL7777LFJ7|F-LJ7F|7LL.L7F||F|7\n",
    ".L77FJ|.|L7||.|.F-F-|7F7-7FL|LJ-J-JJ-|F-|L|FLLJLF|7-FL---7-|JFL-J.LJ-JJ-||.L7----.L7|.----.LFJJL-J.L-L.|LF7LJFJFLJJFL7-F|--7J--.|LJF|L||FJ-.\n",
    "7LLL-.7--LJJJ7-7J-JJLJ-JL|--|JL-JJ|.F.FJ.-J.L.|.L.|L|-JJLJ-L--J-J-|LLLL7--7J.|.LJ.|.LJJ--J.LLJLJJ--.LLJ7LJJ.LLJFL--FJL-JJ-7LJLL-|--FLFJ|-LL.\"\"\""
   ],
   "metadata": {
    "collapsed": false,
    "ExecuteTime": {
     "end_time": "2023-12-10T13:43:57.400717500Z",
     "start_time": "2023-12-10T13:43:57.390776300Z"
    }
   },
   "id": "692e68c9d6bbe1ad"
  },
  {
   "cell_type": "code",
   "execution_count": 106,
   "outputs": [],
   "source": [
    "tile_dict = {\n",
    "    \"-\": [(0, 1), (0, -1)],\n",
    "    \"|\": [(1, 0), (-1, 0)],\n",
    "    \"L\": [(-1, 0), (0, 1)],\n",
    "    \"J\": [(-1, 0), (0, -1)],\n",
    "    \"7\": [(1, 0), (0, -1)],\n",
    "    \"F\": [(1, 0), (0, 1)],\n",
    "    \".\": [],\n",
    "    \"S\": [(0, 1), (0, -1), (1, 0), (-1, 0)]\n",
    "}"
   ],
   "metadata": {
    "collapsed": false,
    "ExecuteTime": {
     "end_time": "2023-12-10T13:43:57.556758600Z",
     "start_time": "2023-12-10T13:43:57.538751700Z"
    }
   },
   "id": "66b731a946b6ee14"
  },
  {
   "cell_type": "code",
   "execution_count": 107,
   "outputs": [
    {
     "data": {
      "text/plain": "array([['.', '-', 'F', ..., '7', '.', 'F'],\n       ['-', '-', '|', ..., '|', '-', '|'],\n       ['|', '.', 'F', ..., '.', 'F', 'J'],\n       ...,\n       ['-', '-', '|', ..., 'F', '|', '7'],\n       ['.', 'L', '7', ..., 'J', '-', '.'],\n       ['7', 'L', 'L', ..., 'L', 'L', '.']], dtype='<U1')"
     },
     "execution_count": 107,
     "metadata": {},
     "output_type": "execute_result"
    }
   ],
   "source": [
    "pipe_map = np.array([[c for c in line] for line in input.split(\"\\n\")])\n",
    "pipe_map"
   ],
   "metadata": {
    "collapsed": false,
    "ExecuteTime": {
     "end_time": "2023-12-10T13:43:57.666820600Z",
     "start_time": "2023-12-10T13:43:57.654821800Z"
    }
   },
   "id": "c669d9a7f1123828"
  },
  {
   "cell_type": "code",
   "execution_count": 108,
   "outputs": [
    {
     "name": "stdout",
     "output_type": "stream",
     "text": [
      "(99, 97) (98, 97) 6831\n"
     ]
    },
    {
     "data": {
      "text/plain": "array([[-2, -2, -2, ..., -2, -2, -2],\n       [-2, -2, -2, ..., -2, -2, -2],\n       [-2, -2, -2, ..., -2, -2, -2],\n       ...,\n       [-2, -2, -2, ..., -2, -2, -2],\n       [-2, -2, -2, ..., -2, -2, -2],\n       [-2, -2, -2, ..., -2, -2, -2]])"
     },
     "execution_count": 108,
     "metadata": {},
     "output_type": "execute_result"
    }
   ],
   "source": [
    "visited = np.ones_like(pipe_map, dtype=int) * -2\n",
    "\n",
    "start = tuple(i[0] for i in np.where(pipe_map == \"S\"))\n",
    "visited[start] = 0\n",
    "\n",
    "source = np.ones((*visited.shape, 2), dtype=tuple) * -2\n",
    "\n",
    "end = []\n",
    "\n",
    "def bfs(map, visited, start):\n",
    "    queue = [start]\n",
    "    while len(queue) > 0:\n",
    "        node = queue[0]\n",
    "        queue = queue[1:]\n",
    "        for dir in tile_dict[map[node]]:\n",
    "            target = (node[0] + dir[0], node[1] + dir[1])\n",
    "            if (\n",
    "                target[0] >= 0 and target[1] >= 0 and\n",
    "                target[0] < map.shape[0] and target[1] < map.shape[1] and\n",
    "                visited[target] != visited[node] - 1 and\n",
    "                (-dir[0], -dir[1]) in tile_dict[map[target]]\n",
    "            ):\n",
    "                if visited[target] >= visited[node]:\n",
    "                    print(target, node, visited[target])\n",
    "                    end.append(target)\n",
    "                    end.append(node)\n",
    "                    continue\n",
    "                visited[target] = visited[node] + 1\n",
    "                source[target] = np.array(node)\n",
    "                queue.append(target)\n",
    "        \n",
    "\n",
    "bfs(pipe_map, visited, start)\n",
    "visited"
   ],
   "metadata": {
    "collapsed": false,
    "ExecuteTime": {
     "end_time": "2023-12-10T13:43:57.854659400Z",
     "start_time": "2023-12-10T13:43:57.780661800Z"
    }
   },
   "id": "f2ca77d9bf0c4c7d"
  },
  {
   "cell_type": "markdown",
   "source": [
    "## Part 2"
   ],
   "metadata": {
    "collapsed": false
   },
   "id": "5529ef026e605d5a"
  },
  {
   "cell_type": "code",
   "execution_count": 109,
   "outputs": [
    {
     "data": {
      "text/plain": "({(113, 26),\n  (13, 88),\n  (32, 101),\n  (118, 104),\n  (71, 29),\n  (16, 93),\n  (90, 42),\n  (35, 106),\n  (29, 32),\n  (48, 45),\n  (92, 88),\n  (111, 101),\n  (83, 39),\n  (124, 40),\n  (69, 104),\n  (50, 91),\n  (41, 42),\n  (127, 45),\n  (27, 107),\n  (25, 34),\n  (44, 47),\n  (85, 48),\n  (104, 98),\n  (30, 112),\n  (117, 37),\n  (62, 101),\n  (103, 102),\n  (122, 115),\n  (120, 42),\n  (20, 104),\n  (106, 107),\n  (39, 117),\n  (59, 32),\n  (78, 45),\n  (23, 109),\n  (97, 58),\n  (36, 48),\n  (96, 99),\n  (55, 61),\n  (113, 39),\n  (13, 101),\n  (99, 104),\n  (118, 117),\n  (71, 42),\n  (112, 43),\n  (57, 107),\n  (131, 56),\n  (76, 120),\n  (16, 106),\n  (29, 45),\n  (115, 48),\n  (15, 110),\n  (48, 58),\n  (92, 101),\n  (18, 115),\n  (105, 40),\n  (50, 104),\n  (124, 53),\n  (69, 117),\n  (110, 118),\n  (108, 45),\n  (8, 107),\n  (127, 58),\n  (27, 120),\n  (25, 47),\n  (66, 48),\n  (11, 112),\n  (85, 61),\n  (30, 125),\n  (84, 102),\n  (43, 64),\n  (103, 115),\n  (87, 107),\n  (106, 120),\n  (59, 45),\n  (78, 58),\n  (119, 59),\n  (64, 123),\n  (45, 110),\n  (17, 48),\n  (36, 61),\n  (110, 10),\n  (96, 112),\n  (99, 117),\n  (38, 107),\n  (112, 56),\n  (57, 120),\n  (131, 69),\n  (98, 121),\n  (115, 61),\n  (101, 126),\n  (54, 51),\n  (73, 64),\n  (45, 2),\n  (105, 53),\n  (31, 67),\n  (91, 118),\n  (110, 131),\n  (108, 58),\n  (22, 18),\n  (94, 123),\n  (75, 110),\n  (107, 62),\n  (52, 126),\n  (126, 75),\n  (24, 64),\n  (84, 115),\n  (43, 77),\n  (101, 18),\n  (87, 120),\n  (40, 8),\n  (100, 59),\n  (45, 123),\n  (119, 72),\n  (17, 61),\n  (58, 62),\n  (77, 75),\n  (75, 2),\n  (94, 15),\n  (61, 67),\n  (80, 80),\n  (121, 118),\n  (52, 18),\n  (93, 19),\n  (79, 121),\n  (38, 120),\n  (82, 126),\n  (54, 64),\n  (114, 78),\n  (12, 67),\n  (86, 16),\n  (31, 80),\n  (70, 8),\n  (89, 21),\n  (75, 123),\n  (88, 62),\n  (47, 24),\n  (107, 75),\n  (33, 126),\n  (126, 88),\n  (79, 13),\n  (65, 78),\n  (82, 18),\n  (109, 121),\n  (68, 83),\n  (40, 21),\n  (100, 72),\n  (67, 124),\n  (26, 86),\n  (58, 75),\n  (42, 67),\n  (116, 16),\n  (61, 80),\n  (80, 93),\n  (33, 18),\n  (74, 19),\n  (93, 32),\n  (32, 22),\n  (51, 35),\n  (109, 13),\n  (35, 27),\n  (95, 78),\n  (114, 91),\n  (67, 16),\n  (86, 29),\n  (53, 81),\n  (72, 94),\n  (70, 21),\n  (130, 72),\n  (89, 34),\n  (56, 86),\n  (28, 24),\n  (88, 75),\n  (129, 76),\n  (47, 37),\n  (46, 78),\n  (65, 91),\n  (63, 18),\n  (104, 19),\n  (49, 83),\n  (68, 96),\n  (21, 21),\n  (62, 22),\n  (81, 35),\n  (26, 99),\n  (125, 78),\n  (39, 38),\n  (42, 80),\n  (83, 81),\n  (116, 29),\n  (102, 94),\n  (19, 96),\n  (60, 97),\n  (32, 35),\n  (118, 38),\n  (51, 48),\n  (16, 27),\n  (35, 40),\n  (95, 91),\n  (34, 81),\n  (53, 94),\n  (72, 107),\n  (92, 22),\n  (37, 86),\n  (111, 35),\n  (56, 99),\n  (28, 37),\n  (69, 38),\n  (14, 102),\n  (129, 89),\n  (113, 81),\n  (27, 41),\n  (104, 32),\n  (30, 46),\n  (90, 97),\n  (62, 35),\n  (81, 48),\n  (122, 49),\n  (48, 100),\n  (20, 38),\n  (125, 91),\n  (39, 51),\n  (23, 43),\n  (83, 94),\n  (96, 33),\n  (41, 97),\n  (60, 110),\n  (25, 89),\n  (99, 38),\n  (44, 102),\n  (118, 51),\n  (13, 35),\n  (16, 40),\n  (57, 41),\n  (117, 92),\n  (34, 94),\n  (120, 97),\n  (92, 35),\n  (37, 99),\n  (111, 48),\n  (78, 100),\n  (97, 113),\n  (50, 38),\n  (69, 51),\n  (110, 52),\n  (55, 116),\n  (14, 115),\n  (8, 41),\n  (113, 94),\n  (27, 54),\n  (11, 46),\n  (71, 97),\n  (30, 59),\n  (90, 110),\n  (84, 36),\n  (29, 100),\n  (103, 49),\n  (48, 113),\n  (122, 62),\n  (87, 41),\n  (20, 51),\n  (106, 54),\n  (6, 116),\n  (23, 56),\n  (105, 95),\n  (64, 57),\n  (124, 108),\n  (96, 46),\n  (55, 8),\n  (108, 100),\n  (41, 110),\n  (22, 60),\n  (25, 102),\n  (99, 51),\n  (44, 115),\n  (85, 116),\n  (38, 41),\n  (57, 54),\n  (117, 105),\n  (43, 119),\n  (15, 57),\n  (120, 110),\n  (59, 100),\n  (18, 62),\n  (78, 113),\n  (97, 126),\n  (17, 103),\n  (91, 52),\n  (36, 116),\n  (110, 65),\n  (50, 51),\n  (8, 54),\n  (94, 57),\n  (11, 59),\n  (85, 8),\n  (52, 60),\n  (112, 111),\n  (84, 49),\n  (43, 11),\n  (103, 62),\n  (115, 116),\n  (29, 113),\n  (87, 54),\n  (106, 67),\n  (73, 119),\n  (45, 57),\n  (105, 108),\n  (64, 70),\n  (108, 113),\n  (22, 73),\n  (121, 52),\n  (80, 14),\n  (66, 116),\n  (85, 129),\n  (38, 54),\n  (24, 119),\n  (98, 68),\n  (82, 60),\n  (15, 70),\n  (101, 73),\n  (73, 11),\n  (114, 12),\n  (100, 114),\n  (59, 113),\n  (119, 127),\n  (18, 75),\n  (31, 14),\n  (17, 116),\n  (91, 65),\n  (36, 129),\n  (77, 130),\n  (75, 57),\n  (94, 70),\n  (135, 71),\n  (33, 60),\n  (52, 73),\n  (112, 124),\n  (24, 11),\n  (115, 129),\n  (109, 55),\n  (68, 17),\n  (128, 68),\n  (54, 119),\n  (45, 70),\n  (86, 71),\n  (58, 9),\n  (89, 76),\n  (77, 22),\n  (61, 14),\n  (121, 65),\n  (80, 27),\n  (107, 130),\n  (47, 79),\n  (19, 17),\n  (79, 68),\n  (98, 81),\n  (63, 60),\n  (82, 73),\n  (101, 86),\n  (54, 11),\n  (95, 12),\n  (40, 76),\n  (114, 25),\n  (21, 63),\n  (53, 15),\n  (72, 28),\n  (75, 70),\n  (42, 122),\n  (88, 9),\n  (33, 73),\n  (74, 74),\n  (107, 22),\n  (93, 87),\n  (46, 12),\n  (65, 25),\n  (51, 90),\n  (49, 17),\n  (109, 68),\n  (68, 30),\n  (26, 33),\n  (67, 71),\n  (86, 84),\n  (89, 89),\n  (42, 14),\n  (83, 15),\n  (28, 79),\n  (102, 28),\n  (47, 92),\n  (19, 30),\n  (60, 31),\n  (46, 133),\n  (63, 73),\n  (104, 74),\n  (123, 87),\n  (21, 76),\n  (95, 25),\n  (40, 89),\n  (81, 90),\n  (34, 15),\n  (53, 28),\n  (72, 41),\n  (39, 93),\n  (37, 20),\n  (56, 33),\n  (116, 84),\n  (14, 36),\n  (74, 87),\n  (93, 100),\n  (46, 25),\n  (13, 77),\n  (32, 90),\n  (51, 103),\n  (49, 30),\n  (90, 31),\n  (35, 95),\n  (16, 82),\n  (7, 33),\n  (134, 74),\n  (67, 84),\n  (26, 46),\n  (70, 89),\n  (111, 90),\n  (83, 28),\n  (28, 92),\n  (102, 41),\n  (69, 93),\n  (41, 31),\n  (60, 44),\n  (25, 23),\n  (44, 36),\n  (104, 87),\n  (123, 100),\n  (117, 26),\n  (62, 90),\n  (81, 103),\n  (122, 104),\n  (34, 28),\n  (120, 31),\n  (39, 106),\n  (37, 33),\n  (78, 34),\n  (23, 98),\n  (97, 47),\n  (14, 49),\n  (96, 88),\n  (55, 50),\n  (113, 28),\n  (13, 90),\n  (99, 93),\n  (32, 103),\n  (118, 106),\n  (71, 31),\n  (16, 95),\n  (90, 44),\n  (131, 45),\n  (76, 109),\n  (35, 108),\n  (29, 34),\n  (48, 47),\n  (92, 90),\n  (111, 103),\n  (105, 29),\n  (50, 93),\n  (124, 42),\n  (69, 106),\n  (9, 92),\n  (108, 34),\n  (41, 44),\n  (127, 47),\n  (27, 109),\n  (25, 36),\n  (11, 101),\n  (85, 50),\n  (30, 114),\n  (44, 49),\n  (117, 39),\n  (62, 103),\n  (103, 104),\n  (122, 117),\n  (120, 44),\n  (20, 106),\n  (106, 109),\n  (59, 34),\n  (78, 47),\n  (23, 111),\n  (97, 60),\n  (64, 112),\n  (36, 50),\n  (96, 101),\n  (55, 63),\n  (99, 106),\n  (118, 119),\n  (71, 44),\n  (112, 45),\n  (57, 109),\n  (38, 96),\n  (76, 122),\n  (29, 47),\n  (115, 50),\n  (15, 112),\n  (92, 103),\n  (18, 117),\n  (105, 42),\n  (50, 106),\n  (124, 55),\n  (91, 107),\n  (110, 120),\n  (108, 47),\n  (127, 60),\n  (27, 122),\n  (66, 50),\n  (11, 114),\n  (85, 63),\n  (30, 127),\n  (24, 53),\n  (84, 104),\n  (43, 66),\n  (103, 117),\n  (87, 109),\n  (106, 122),\n  (59, 47),\n  (100, 48),\n  (45, 112),\n  (119, 61),\n  (17, 50),\n  (36, 63),\n  (110, 12),\n  (77, 64),\n  (80, 69),\n  (121, 107),\n  (52, 7),\n  (38, 109),\n  (112, 58),\n  (57, 122),\n  (98, 123),\n  (115, 63),\n  (101, 128),\n  (87, 1),\n  (54, 53),\n  (73, 66),\n  (45, 4),\n  (86, 5),\n  (31, 69),\n  (91, 120),\n  (130, 48),\n  (89, 10),\n  (22, 20),\n  (94, 125),\n  (75, 112),\n  (33, 115),\n  (107, 64),\n  (66, 63),\n  (126, 77),\n  (24, 66),\n  (98, 15),\n  (84, 117),\n  (43, 79),\n  (101, 20),\n  (87, 122),\n  (40, 10),\n  (100, 61),\n  (45, 125),\n  (119, 74),\n  (86, 126),\n  (58, 64),\n  (77, 77),\n  (75, 4),\n  (61, 69),\n  (80, 82),\n  (121, 120),\n  (52, 20),\n  (93, 21),\n  (79, 123),\n  (19, 72),\n  (63, 115),\n  (51, 24),\n  (82, 128),\n  (54, 66),\n  (40, 131),\n  (114, 80),\n  (12, 69),\n  (86, 18),\n  (31, 82),\n  (72, 83),\n  (70, 10),\n  (130, 61),\n  (89, 23),\n  (116, 126),\n  (75, 125),\n  (28, 13),\n  (88, 64),\n  (33, 128),\n  (107, 77),\n  (79, 15),\n  (46, 67),\n  (65, 80),\n  (82, 20),\n  (49, 72),\n  (109, 123),\n  (68, 85),\n  (40, 23),\n  (81, 24),\n  (26, 88),\n  (125, 67),\n  (58, 77),\n  (42, 69),\n  (116, 18),\n  (61, 82),\n  (102, 83),\n  (74, 21),\n  (19, 85),\n  (93, 34),\n  (32, 24),\n  (51, 37),\n  (35, 29),\n  (114, 93),\n  (67, 18),\n  (53, 83),\n  (72, 96),\n  (70, 23),\n  (111, 24),\n  (56, 88),\n  (28, 26),\n  (88, 77),\n  (129, 78),\n  (47, 39),\n  (14, 91),\n  (46, 80),\n  (65, 93),\n  (104, 21),\n  (49, 85),\n  (123, 34),\n  (68, 98),\n  (62, 24),\n  (81, 37),\n  (26, 101),\n  (20, 27),\n  (125, 80),\n  (39, 40),\n  (23, 32),\n  (83, 83),\n  (102, 96),\n  (74, 34),\n  (41, 86),\n  (60, 99),\n  (13, 24),\n  (32, 37),\n  (118, 40),\n  (44, 91),\n  (16, 29),\n  (35, 42),\n  (117, 81),\n  (76, 43),\n  (34, 83),\n  (53, 96),\n  (37, 88),\n  (111, 37),\n  (56, 101),\n  (97, 102),\n  (9, 26),\n  (50, 27),\n  (69, 40),\n  (14, 104),\n  (129, 91),\n  (113, 83),\n  (27, 43),\n  (104, 34),\n  (71, 86),\n  (90, 99),\n  (30, 48),\n  (62, 37),\n  (103, 38),\n  (48, 102),\n  (122, 51),\n  (20, 40),\n  (106, 43),\n  (6, 105),\n  (39, 53),\n  (23, 45),\n  (83, 96),\n  (124, 97),\n  (96, 35),\n  (41, 99),\n  (127, 102),\n  (60, 112),\n  (25, 91),\n  (99, 40),\n  (44, 104),\n  (118, 53),\n  (13, 37),\n  (16, 42),\n  (57, 43),\n  (117, 94),\n  (76, 56),\n  (15, 46),\n  (34, 96),\n  (92, 37),\n  (37, 101),\n  (78, 102),\n  (18, 51),\n  (97, 115),\n  (50, 40),\n  (69, 53),\n  (110, 54),\n  (55, 118),\n  (36, 105),\n  (113, 96),\n  (27, 56),\n  (11, 48),\n  (71, 99),\n  (30, 61),\n  (90, 112),\n  (84, 38),\n  (29, 102),\n  (103, 51),\n  (48, 115),\n  (122, 64),\n  (87, 43),\n  (106, 56),\n  (45, 46),\n  (105, 97),\n  (64, 59),\n  (124, 110),\n  (96, 48),\n  (108, 102),\n  (127, 115),\n  (22, 62),\n  (25, 104),\n  (99, 53),\n  (66, 105),\n  (85, 118),\n  (38, 43),\n  (57, 56),\n  (98, 57),\n  (43, 121),\n  (15, 59),\n  (101, 62),\n  (59, 102),\n  (18, 64),\n  (78, 115),\n  (119, 116),\n  (17, 105),\n  (91, 54),\n  (36, 118),\n  (110, 67),\n  (75, 46),\n  (8, 56),\n  (94, 59),\n  (11, 61),\n  (52, 62),\n  (112, 113),\n  (84, 51),\n  (43, 13),\n  (115, 118),\n  (29, 115),\n  (10, 65),\n  (87, 56),\n  (128, 57),\n  (73, 121),\n  (45, 59),\n  (105, 110),\n  (31, 124),\n  (64, 72),\n  (77, 11),\n  (108, 115),\n  (22, 75),\n  (121, 54),\n  (80, 16),\n  (66, 118),\n  (38, 56),\n  (79, 57),\n  (24, 121),\n  (98, 70),\n  (82, 62),\n  (101, 75),\n  (73, 13),\n  (114, 14),\n  (100, 116),\n  (59, 115),\n  (40, 65),\n  (31, 16),\n  (17, 118),\n  (91, 67),\n  (58, 119),\n  (77, 132),\n  (75, 59),\n  (94, 72),\n  (135, 73),\n  (61, 124),\n  (33, 62),\n  (107, 11),\n  (52, 75),\n  (93, 76),\n  (112, 126),\n  (49, 6),\n  (109, 57),\n  (68, 19),\n  (128, 70),\n  (54, 121),\n  (67, 60),\n  (26, 22),\n  (86, 73),\n  (70, 65),\n  (58, 11),\n  (89, 78),\n  (42, 3),\n  (61, 16),\n  (102, 17),\n  (121, 67),\n  (88, 119),\n  (107, 132),\n  (47, 81),\n  (19, 19),\n  (79, 70),\n  (63, 62),\n  (82, 75),\n  (123, 76),\n  (21, 65),\n  (95, 14),\n  (114, 27),\n  (100, 129),\n  (53, 17),\n  (72, 30),\n  (56, 22),\n  (42, 124),\n  (116, 73),\n  (88, 11),\n  (33, 75),\n  (74, 76),\n  (93, 89),\n  (46, 14),\n  (65, 27),\n  (32, 79),\n  (51, 92),\n  (49, 19),\n  (109, 70),\n  (68, 32),\n  (35, 84),\n  (26, 35),\n  (67, 73),\n  (86, 86),\n  (89, 91),\n  (42, 16),\n  (83, 17),\n  (28, 81),\n  (102, 30),\n  (47, 94),\n  (9, 68),\n  (60, 33),\n  (63, 75),\n  (104, 76),\n  (123, 89),\n  (21, 78),\n  (95, 27),\n  (62, 79),\n  (81, 92),\n  (34, 17),\n  (53, 30),\n  (39, 95),\n  (37, 22),\n  (56, 35),\n  (116, 86),\n  (14, 38),\n  (74, 89),\n  (113, 17),\n  (32, 92),\n  (118, 95),\n  (51, 105),\n  (71, 20),\n  (16, 84),\n  (90, 33),\n  (35, 97),\n  (7, 35),\n  (134, 76),\n  (48, 36),\n  (92, 79),\n  (111, 92),\n  (83, 30),\n  (28, 94),\n  (69, 95),\n  (41, 33),\n  (60, 46),\n  (25, 25),\n  (44, 38),\n  (104, 89),\n  (117, 28),\n  (62, 92),\n  (81, 105),\n  (122, 106),\n  (34, 30),\n  (120, 33),\n  (20, 95),\n  (39, 108),\n  (37, 35),\n  (78, 36),\n  (23, 100),\n  (97, 49),\n  (14, 51),\n  (96, 90),\n  (55, 52),\n  (113, 30),\n  (13, 92),\n  (99, 95),\n  (118, 108),\n  (71, 33),\n  (16, 97),\n  (90, 46),\n  (57, 98),\n  (76, 111),\n  (29, 36),\n  (48, 49),\n  (92, 92),\n  (111, 105),\n  (105, 31),\n  (50, 95),\n  (124, 44),\n  (69, 108),\n  (110, 109),\n  (108, 36),\n  (127, 49),\n  (25, 38),\n  (11, 103),\n  (85, 52),\n  (30, 116),\n  (44, 51),\n  (117, 41),\n  (84, 93),\n  (103, 106),\n  (43, 55),\n  (122, 119),\n  (120, 46),\n  (87, 98),\n  (106, 111),\n  (20, 108),\n  (59, 36),\n  (78, 49),\n  (23, 113),\n  (64, 114),\n  (17, 39),\n  (36, 52),\n  (55, 65),\n  (99, 108),\n  (38, 98),\n  (112, 47),\n  (57, 111),\n  (131, 60),\n  (76, 124),\n  (29, 49),\n  (115, 52),\n  (15, 114),\n  (73, 55),\n  (18, 119),\n  (105, 44),\n  (50, 108),\n  (91, 109),\n  (108, 49),\n  (8, 111),\n  (94, 114),\n  (66, 52),\n  (11, 116),\n  (85, 65),\n  (126, 66),\n  (24, 55),\n  (84, 106),\n  (43, 68),\n  (103, 119),\n  (87, 111),\n  (106, 124),\n  (59, 49),\n  (100, 50),\n  (45, 114),\n  (119, 63),\n  (17, 52),\n  (36, 65),\n  (80, 71),\n  (121, 109),\n  (52, 9),\n  (38, 111),\n  (112, 60),\n  (98, 125),\n  (115, 65),\n  (82, 117),\n  (54, 55),\n  (45, 6),\n  (86, 7),\n  (31, 71),\n  (12, 58),\n  (91, 122),\n  (89, 12),\n  (75, 114),\n  (94, 127),\n  (47, 15),\n  (33, 117),\n  (107, 66),\n  (126, 79),\n  (24, 68),\n  (98, 17),\n  (65, 69),\n  (82, 9),\n  (101, 22),\n  ...},\n [(0, 1), (0, -1)])"
     },
     "execution_count": 109,
     "metadata": {},
     "output_type": "execute_result"
    }
   ],
   "source": [
    "loop = set()\n",
    "start_dir = []\n",
    "\n",
    "for node in end:\n",
    "    loop.add(node)\n",
    "    while tuple(source[node]) != (-2, -2):\n",
    "        if tuple(source[node]) == start:\n",
    "            start_dir.append((node[0] - start[0], node[1] - start[1]))\n",
    "        node = tuple(source[node])\n",
    "        loop.add(node)\n",
    "\n",
    "loop, start_dir"
   ],
   "metadata": {
    "collapsed": false,
    "ExecuteTime": {
     "end_time": "2023-12-10T13:43:58.086661Z",
     "start_time": "2023-12-10T13:43:58.010659800Z"
    }
   },
   "id": "3c0a0e7c3e40da2f"
  },
  {
   "cell_type": "code",
   "execution_count": 110,
   "outputs": [
    {
     "data": {
      "text/plain": "array([['.', '.', '.', ..., '.', '.', '.'],\n       ['.', '.', '.', ..., '.', '.', '.'],\n       ['.', '.', '.', ..., '.', '.', '.'],\n       ...,\n       ['.', '.', '.', ..., '.', '.', '.'],\n       ['.', '.', '.', ..., '.', '.', '.'],\n       ['.', '.', '.', ..., '.', '.', '.']], dtype='<U1')"
     },
     "execution_count": 110,
     "metadata": {},
     "output_type": "execute_result"
    }
   ],
   "source": [
    "loop_map = np.full_like(visited, \".\", dtype=str)\n",
    "\n",
    "for pos in loop:\n",
    "    loop_map[pos] = pipe_map[pos]\n",
    "    if loop_map[pos] == \"S\":\n",
    "        loop_map[pos] = [k for k, v in tile_dict.items() if k != \"S\" and set(start_dir) == set(v)][0]\n",
    "    \n",
    "loop_map"
   ],
   "metadata": {
    "collapsed": false,
    "ExecuteTime": {
     "end_time": "2023-12-10T13:43:58.658193Z",
     "start_time": "2023-12-10T13:43:58.615183100Z"
    }
   },
   "id": "1b2fdf63fc4fe5b7"
  },
  {
   "cell_type": "code",
   "execution_count": 111,
   "outputs": [
    {
     "name": "stdout",
     "output_type": "stream",
     "text": [
      "............................................................................................................................................\n",
      "............................................................................................................................................\n",
      "............................................................................................................................................\n",
      "............................................................................................................................................\n",
      "............................................................................................................................................\n",
      "............................................................................................................................................\n",
      "........................................F7.............................................................F-7F--7.....F-7......................\n",
      "................................F7.F7F-7||.............F7F7............................................L7|L7FJ..F--JFJ......................\n",
      "................................|L-JLJFJ||.........F---J|||..................................F7.......F-JL-J|.F7L-7FJ.......................\n",
      ".........................F7..F7.L----7L-J|F7F7.....L---7|||........F7......................F7||..F7...|F---7L7||F7||........................\n",
      ".........................|L7.||F7F---JF--J||||..F7....FJ|||F-7..F--J|F7F7.................FJLJ|F-J|F-7LJF7.|FJ|LJ||L---7....................\n",
      ".........................L7|FJ|||L---7|F7.|||L7FJ|..F-JFJ|LJFJ..L--7||LJ|.................L--7|L-7||FJF-J|FJL7L-7LJF7F-J....................\n",
      "..........................|LJFJ||F--7|||L7||L7||FJ..L-7|FJF-J...F--J|L7FJ..F7F7...........F7.|L-7|LJL7L-7|L7FJF-JF-JLJ......................\n",
      ".................F7.....F-JF7L7||L-7||||FJ|L7||||F7F-7|LJFJF-7..L--7L7||..FJLJ|..F7F7...F-JL7L7FJ|F--JF-JL-JL7|F-JF-7F7.....................\n",
      "..............F--JL7....L--JL7LJ|F7||||||.|FJ||||||L7LJF-J.|FJ...F-JFJ|L-7L-7FJ.FJ|||.F7L-7FJFJL7||F7.L-----7LJL--JFJ||.....................\n",
      "..............L--7FJ......F-7L-7||LJLJLJ|FJ|.|||LJL7L-7L-7FJL7...L-7L7|F-JF-JL-7|FJ||FJL7FJL7L-7LJ|||F7.F--7|F-----J.|L7....................\n",
      "................FJL7F7F7..L7L7FJ||F7F--7LJFJFJ|L--7|.FJF-JL7FJF-7F7|FJ||F7L7F--J|L-J|L7FJL-7|F-JF7||LJL7|F7LJL-----7FJFJ....................\n",
      "...............FJF7||LJL7F7L7||FJLJLJF7L7FJFJFJ.F-JL7L7L-7FJL7L7||LJ|.|||L7|L7F7L--7L-J|F-7||L7FJLJL7F-JLJL7F------J|FJF7...................\n",
      "...............L7|LJL--7|||.|LJ|F7F7FJL-JL7L7|F7L7F7L7L7FJ|F-JFJ|L-7|FJLJFJ|FJ||.F7L--7|L7|||FJL-7F-J|F7.F7|L7F7F7F7|L-JL7..................\n",
      "..............F7|L-7F7.|LJL7L-7|||||L--7F7L7|||L7LJL7L7||FJ|F7|FJF7|LJF-7L7||FJL7||.F7||FJLJ|L7F-JL-7LJ|FJ||FJ|LJLJ||F---J..................\n",
      ".............FJLJF-J|L7L7F-JF7||||||F-7LJ|FJ||L7L7F7|FJ|||FJ|LJ|FJLJF-J.L7|||L-7||L7||||L--7|.||.F-7L-7|L7|||FJF7F-J||F7.F7.................\n",
      ".............L7F7L7.L7|.|L-7|LJLJ||||FJ.FJL7|L7|FJ|LJ|FJLJL7L-7|L--7L-7F7LJ||.FJ|L7LJ|||F7.||FJL7|FJF7|L7|LJ||FJLJF7|||L-JL-7...............\n",
      "..........F7..LJL7|F7|L7|F7|L-7F-J|LJ|F7L7FJ|FJ|L7L-7|L---7|F7||F-7|F-J|L7FJL7|FJ.L-7LJLJL7||L-7|||.|LJFJL7FJ||F7.|LJ||F-7F7|...............\n",
      "..........|L7.F--JLJ|L7|LJ||.FJ|F7L-7|||FJL7|L-JFJ.FJ|F7F7|||||||FJ||F7L7||F-J||.F7.L----7||L7.|LJL7L-7|.FJL7|||L-JF7|||.LJLJ...............\n",
      "..........L7|.L----7|.||F-JL7L7|||.FJLJ|L-7||F--JF7L7||||||||LJ|||FJ||L-JLJ|F7|L7|L7F7F7FJ||FJFJF--JF7|L7L-7LJLJF--JLJ|L-7F7................\n",
      "..........FJ|F7.F--JL-J|L--7|FJ||L7L--7L--JLJL-7FJL7|LJ||LJ||F-J|||FJL---7FJ||L7LJFJ||||L7||L-JFJ.F7||L7L7.|F--7L7.F7.|F-J|L7...............\n",
      "..........L7LJL-JF7F7F7|.F-J|L7|L7|F7.L---7F---JL7FJ|F-JL-7|||F7||||F7F7FJL7||FJF-J.||||FJ|L-7FJ.FJ||L7L7|FJL-7L7L-JL-J|F-JFJ...............\n",
      "...........|F7F--JLJLJ|L7|F7L7||FJ|||F-7.FJL-7F7FJL7|L-7F-JLJ||LJ||||LJ|L7FJ|||FJF7FJ||||FJF-JL-7L7|L7|.|||F--J.L-----7||F-J.F7.............\n",
      "...........LJLJF7F--7FJFJLJL7LJ|L7|||L7|FJF--J|||F-J|F-JL---7||F-J|||F-JFJL7|||L7||L7||||L7L7F--JFJ|FJL7|LJL---7F7F7F7LJ||F7.||.............\n",
      "............F--J|L-7|L7L7F-7L-7L-J||L7|LJFJ.F7|LJL-7|L-7.F7.|LJ|F7||||F7L7FJ|||FJ||FJLJ||FJFJL7F7|FJL-7|L7F----J|||LJL7FJLJL7||.............\n",
      "............L7F7L--JL-JFJ|FJF7L--7LJFJL-7L-7||L-7F-J|F-JFJL7L-7||LJLJ|||FJL7|LJ|FJ|L--7LJL-JF-J||||F7FJL7||F7.F7|||F--JL7F--J|L7............\n",
      ".............LJL--7F7F7L7||FJ|.F7L-7L7F-JF-J|L7.||.FJL7FJF-J.FJLJF7F-J||L-7||F-J|FJF7FJF----J.FJ|||||L-7LJ|||FJLJLJL---7|L--7|FJ....F-7.....\n",
      ".............F---7||LJL7LJ|L7L-JL--JFJL-7|F7L7L-JL7L7FJ|FJ.F7L7F-JLJF-JL7.||||F7||.||L7L-7F7F7L7||||L7.|F-J|LJF7F------J|F--J||F7F--JFJ.....\n",
      "............FJF-7|LJF7FJF7L7L-7F7F-7|F7FJ||L7L--7FJ.||FJ|F7||FJL-7F7L--7|FJLJ||||L7||FJF-J|LJ|FJ|||L7L7|L-7|F-JLJ.F-7F--JL---JLJLJF--J......\n",
      "............L7|FJL--JLJFJL7L--J|||FJ|||L7||FJF7.||F7||L7|||||L7F-J||F7.||L-7FJ||L7|||L7|F7|F-JL7|||.L7||F-J||F7.F7L7||F----------7|.........\n",
      ".............LJL-------J.FJF-7FJLJL7LJL7||||FJL7|||||L-J||||L7||F7|||L7||F7|L7||FJ||L7||||||F7FJLJL7FJ||L--JLJL7|L-J||L-------7F7LJ.........\n",
      "............F7F--7F-7F--7L-JFJ|F---JOF-J|LJ||OFJ|LJ|L-7FJ|||FJ|||||LJFJ||||L7|||L7||FJ|||||LJ||F---J|O||F--7F-7LJF--J|F----7F-J||F7.........\n",
      "..........F7||L-7|L7|L7FJF--JFJL-7F-7L7FJF-JL7|FJF-JF7|L7||||FJ||||F7L7|LJ|FJLJ|FJ|||FJ|||L7OLJL7F-7|FJ|L7FJL7|F7|F--JL7.F7LJF7|LJL7.F-7....\n",
      "........F7|||L-7|L-JL7||.L7F-JF7.LJFJO||FJF7FJ|L7L7FJLJFJ|||||FJ||||L-JL7O|L-7FJ|FJ|||O||L7L--7O||FJ|L7|O|L-7||||LJF-7FJFJL--JLJF-7L7|FJ....\n",
      ".......FJLJ|L-7|L---7LJL-7||F7||F7.L-7||L7||L7L7L7||F7FJFJLJ|||FJLJL-7F7|FJF7|L7|L7|||FJL7L7F7L7LJL7|O||FJF7LJLJL7FJ.LJ.L7F-7F7FJ.L7LJ|.....\n",
      ".......L-7FJF7|L7F7.L--7FJLJ||||||F--J||FJ||FJFJFJ|LJ|L7|F--J|||OF---J|LJ|FJLJOLJFJ|LJL7FJFJ|L7L7F7LJFJ|L-J|F7F-7|L-7.F7FJL7LJLJ...L-7L7....\n",
      "...F7...FJL-J|L7LJL----JL7F-JLJLJ|L--7|||FJ|L7|FJOL7FJFJ|L7F7||L7L-7F7L-7LJOF--7OL7|F--JL7L-JOL7LJ|F-JFJOF7LJLJFJL--JFJLJF7L7F7.F7F-7|FJ....\n",
      "...||...L---7|FJF7F-----7|L-7F7F7L---JLJ|L7L7||L--7|L7|FJFJ|LJL7|OFJ||F7|F7FJF-JF7LJL7F-7L-7F--JF7|L-7|F-JL----JF7F--JF-7|L7LJL7|||FJLJ.....\n",
      ".F7||F7.F---JLJFJLJF7F7.||F7LJLJL7F---7OL-JFJ||F--J|FJ||OL7L7OOLJFJFJLJ|LJLJFJF-JL--7|L7|F7||F7FJLJOFJ|L-----7F-JLJF7FJFJL7|F-7LJLJ|........\n",
      ".|LJLJL-JF7F7F7L-7.|LJL-JLJ|F7F7.LJF--JF7F7|FJ|L--7||O||F7L7L7F7FJFJF--JF7F7L7|F7F-7LJFJ||LJ||||F7F7L-JF----7LJF---JLJ.L7FJLJ.L-7F7L7.......\n",
      ".L-7F---7|LJLJ|F7|FJF---7F7LJLJL7F-JF7O||||LJO|F7FJLJFJ||L-JFJ|LJFJOL-7FJ||L-J||LJFJF7|FJL-7||||||||OF7L---7L--JF--7F--7|L-7.F--J||FJ.......\n",
      "...LJ.F-J|F---J|||L-JF--J|L----7LJF7|L7|LJL--7||LJF-7L7|L-7FJO|F7L-7OFJ|FJL-7OLJF-JFJLJ|F7FJLJLJ|||L-JL-7F7L----JF7LJF7||F7L7L7F7||L-7......\n",
      "....F7L--JL7F7FJLJF-7L7F-J.F7F7L--J||FJ|F7F-7||L--JFJFJL7FJL7FJ||F-JFJFJ|F-7L--7L7FJF7OLJ||F----J|L----7LJ|F7F7F7|L7FJLJLJ|FJ.LJLJ|F-J......\n",
      "....|L-----J|LJ.F7L7|.LJF--JLJL----J|L-J|||OLJ|F--7L7L7FJ|F-J|FJ|L-7|FJOLJO|F7FJFJL-JL7F-J|L-7F-7L7F7F-JF7LJLJLJLJFJ|F--7FJL7F--7.LJ........\n",
      "....|F---7F7L7F-JL-JL7.FJF7F7F7F7F--JF7FJLJF7FJL-7L-JO|L7LJF-J|FJF7|||F----J|LJOL7F--7|L7FJF-J|OL7LJ|L--JL------7.L7LJF-J|F7LJF7L-7.........\n",
      "....LJ...LJ|FJL--7F-7L-JFJLJLJLJ||F--JLJF7FJ|L7F7L---7|FJF7L7FJ|FJ||||L----7|F7F-JL-7||FJ|FJF7|F7L-7L-----------JF-JF-JF7LJL7FJL-7|.........\n",
      "........F--JL7F--J|.L7F7|.F--7F-J|L---7FJ|L7L7|||F7F-JLJO||O|L7|L7LJLJF7F7FJLJ||F7F7|LJL-JL7|LJ|L--JF7F7F-------7|F7L--JL-7.LJ...LJ.........\n",
      "......F7L---7|L-7FJF7LJLJFJF7LJF7|.F7FJL7L-JFJ||LJ|L-7F--JL-JFJL7L-7F-JLJLJF7FJ||LJ|L--7F--J|OFJF7F7|LJLJF------JLJL-7F7F7L-7F7.............\n",
      "....F7||F--7LJF-J|.||.F7.L7|L7FJLJFJLJOFJF7FJFJL-7L--JL-7F-7FJF7|F7|L-----7||L7|L-7|F-7||F-7|FJFJ||||F---JF7F7.F7F-7FJ|LJL-7LJL-7...........\n",
      "....|||||F-JF-JF7|FJL-JL-7LJ.LJ.F7L----JFJ|L7L---JOF7F7FJL7|L-J|LJ||F-----J||FJL--J||FJ|||FJ|L7|FJ|LJL7F--JLJL-JLJFJL7L--7.L7F7FJ...........\n",
      "....|LJ|||.FJF7|LJL7F---7|F7F7F7||.F----JOL-JF7OF7FJLJ||F7||F7FJF-J||F---7FJ|L----7LJL-JLJL-JOLJL7|F7OLJF---------JF-JF-7L-7||LJ............\n",
      "....L-7LJL-JFJ||F--J|F--JLJLJLJLJL7L--7F-7F7FJL7|||F--J|||||||L7L--JLJOF-JL7L7F7F7L7OOF7F7F-----7LJ||F7OL---------7L-7|FJF-JLJ..............\n",
      "......L7F7F7L7LJL--7|L--7F7F7F7F-7|F--JL7||||F-J|LJL--7||||||L7|F-7F7OFJF7FJO||LJL-JOFJLJ|L---7FJF-JLJL--------7F-JF7LJL7L-7................\n",
      "......FJ|LJ|FJ.F7F-JL7F-J|||||||FJLJF7F7|LJLJ|F-JF7F7FJ||||LJOLJL7LJL-JFJ|L7FJL7F7F-7L--7L----JL-JF-----------7|L--JL7F7L7FJ................\n",
      "......L7L7FJL-7||L7F-JL--JLJLJLJ|F--JLJLJF7F7LJF-JLJLJOLJLJOOOOF-JF7F-7L7L7||F7LJLJFJF--JF7F--7F--JF7F--------JL--7F7|||.LJ.................\n",
      ".....F-JFJL7F7||L-J|F7F7F7.F7F--J|F------JLJL--JF7F--7F7OF7OOOOL7FJLJO|FJOLJ||L7F7FJOL--7|LJF-J|OF-JLJF---------7.LJLJ||F----7..............\n",
      ".....|F7|..LJLJL---J|LJLJL-J|L---JL-----------7O|||F-J|L7||OOOOOLJF---JL---7||OLJ||OOF7FJ|F-JF7|FJF---JOF------7L7F7F7|LJF-7FJ..............\n",
      ".....LJLJ........F--JF-7F7F7|F7F----7F7F-7F7F7L-JLJL--JFJ||F7OOOOOL7F7F7F7FJ|L--7LJF7|LJFJL-7|LJL-JOF7F7L---7F7L7LJLJLJF-J.||...............\n",
      ".................L---J.LJLJ||||L---7LJ|L7LJ|||F7F7F---7|FJLJL7F7OF-J||||||L7L7F7L--J|L--JOF7LJOF-7F7|LJL---7LJL7L-----7L7F7LJ...............\n",
      "................F----------JLJL----JF7L-JF7LJLJ|||L--7LJL7F7FJ|L-JF-J|||||FJO|||F---JOF---JL7F7L7LJ|L--7F-7L---JF7F--7L7LJL-7...............\n",
      "................L-7F7F7F---7F-7F----JL---JL--7FJ|L7F-JF7FJ|LJOL7F7|F-J|LJLJOOLJLJF7F--JF7F-7|||OL-7L--7LJFJF7F7.|||F-J.L-7F-J...............\n",
      "...........F7...F-J|||LJF--JL7LJF------7F--7FJL-JOLJF7|||FJF7OO||LJ|F7L----7OOOOFJLJF7FJ||FJLJ|F7OL7F7L7OL-JLJL-JLJL----7|L--7..............\n",
      "......F-7F7||F7.L--J||F7L-7F7|F-JF----7LJF7LJF7F7F7FJ||LJL-JL7OLJOO|||F-7F-JOOOOL--7|||OLJL--7LJL--J|L7L----------7F7F--JL---J..............\n",
      "......L7LJ||LJ|.F--7LJ|L--J|LJL--JF---JF-JL--JLJLJ||FJ|F-----JF--7OLJ|L7||OOOOOOOOOLJLJF--7OFJF7F---JOL7F--7F7F7F7LJLJF7F7.F7F7.............\n",
      ".......L-7LJF-J.L-7|F7L----JF-7F7.L7F--JF-----7F--J||FJL---7F7|F-JOOOL-JLJOOOOOOOOOOOOOL-7|FJFJ||F-----J|F7||LJLJL7.F-JLJ|FJLJL7............\n",
      ".....F7F7|F-JF7F--J||L7F-7F7L7|||F7LJF-7L----7LJOF7|||F----J|||L-7OOOOOOOOOOOOOOOOOOOOF7FJLJFJO||L----7FJ||LJF-7F7L-JF---J|F---J............\n",
      ".F-7.|||LJ|F7||L--7|L7|L7||L-J||LJL--JOL----7L-7FJLJLJL7F7F7||L7FJOOOOOOOOOOOOOF7OOOOO|LJF-7|F7LJF7F-7LJFJL--J.LJL7F7L7.F-J|F7..............\n",
      ".|FJ.||L-7LJLJL7F-JL7||FJ||F-7LJF----------7L--JL-7F---J||||||FJL-7OOOOOOOOOOOO||OOF--JF-JFJ||L--J|L7|F7L--7F----7LJL-JFJF-J|L7F--7.........\n",
      ".|L--J|F7L--7F-JL--7|||L7|LJ.L7FJF---------JOF-7F7||OF7FJ|||||L7F7L7OOOOOOOOOOFJL7OL---JF7L-J|F--7|FJLJL---J|F---JF-7F7|FJF7|FJL7FJ.........\n",
      ".|F7F7LJL-7FJL---7.|||L-JL7.F7LJ.L--------7OFJFJ|||L-JLJFJ|LJL-J|L7|OOOOOOF7F7L7FJOOF---JL7F7LJF-JLJF7F7F7.FJ|F---JFJ|LJL-JLJL-7||F7........\n",
      ".LJLJ|F7F7LJF--7FJFJ|L---7L-J|F-7F7F-----7L7L7|FJLJF7F-7L-JF7F7FJOLJOOF7F-J|||FJL-7OL---7FJ|L-7|F7F7|LJLJL7L7LJF---JFJF----7F7FJ|||L7.......\n",
      ".....||LJL7FJF-JL7L7|F7F7L--7|L7LJLJF-7F7L-JFJLJF--JLJOL--7||||L-7OOOO||L-7|||L7F7|F-7F-JL7L7FJLJLJLJOF---J.|F-JF7.FJFJ.F-7LJ||.|||FJF7.....\n",
      "....FJL7..LJ.L--7L-JLJLJ|F7.||.L---7|FJ||F-7|F--JF7F7F---7||LJ|F-JOOOO|L7O|LJL7||LJ|FJL--7L-JL-7OOF7F7L-----J|F-JL7L7|F7|FJF7LJFJ||L-JL7....\n",
      "....L--J.F----7.L7F-7F-7||L7||F7.F7LJL-JLJFJ||F--JLJLJF--J|L7O|L7OOOF7L7|OL7F-J|L-7|L7F7FJF7F-7L7FJLJL------7LJF--JFJLJLJL-JL-7L7LJF7F-J....\n",
      ".........L---7L-7LJ.LJ.||L7LJLJ|FJL-7F-7F7L-JLJF7F7F--JOF7L-JFJFJOOO||FJ|F7|L7FJF-JL7LJLJFJLJOL7LJF--------7|F7|.F-JF-7F------JFJF7|||......\n",
      ".......F-----JF7L----7FJL-JF--7LJF-7LJO|||F7F--JLJ|L---7|L--7L7|OF--J|L7|||L7|L7L-7FJF---JOF--7|F-JOF7F----JLJ|L-JF-J.|L-----7.|FJ||LJ......\n",
      ".......L7F----JL7F--7LJF7F-JF7L--JFJOF7LJ|||L---7O|F7F7||F--JO|L7L7F7L-JLJL-J|FJF-JL-JF-7F7L-7|LJF--J|L--7F7.FJF7FJF-7L7F-7F7L-JL7LJ........\n",
      "........LJF-----J|F-JF7|||.FJL-7F7L--JL7OLJL7F-7L7|||||LJL7F-7L7|OLJL7F-----7||FJF7F7OL7LJ|OFJL7OL7F7|F7OLJL7|FJLJ.|FJFJL7LJ|F---J..........\n",
      ".......F7FJF----7||F7|||||FJF-7LJL----7L---7||FJFJ||LJ|F-7||FJOLJOF7OLJOF7OFJ||L7|LJ|F7L-7L7L-7|F7LJ|LJL---7|||F---JL7|F7L-7|L--7...........\n",
      "....F7.|LJFJF---J|LJLJ||LJL-J.L7F----7L7F--JLJL7L7||F-J|FJ|||OF7F7||F7F7||FJFJ|FJL7FJ||F7L7L--J|||F-JF7F--7LJLJ|F----J|||F-JL---J...........\n",
      "....||FJF7|.L----JF---J|F--7F--J|F--7L7|L-----7L-JLJL--JL7LJL7||||||||||||L7L-JL--JL-J||L7L---7LJLJF7|||F-J.F7.|L----7|||L--7F7.F7..........\n",
      "....|LJFJ||F------JF---JL-7LJF7FJL-7L-JL7F-7F7L--7F--7F7OL---J|LJLJ||||||L-JF---------JL7L--7OL----JLJLJL---JL7|F----JLJL7F7LJL7|L-7........\n",
      "F--7L7FJ.||L7F7F7F7|F--7F7L--JLJ.F-JF7F7LJOLJL7F-JL-7LJL-7OF7OL--7FJ||||L--7L---7OF7F7F-JF-7L-----------7F7F--J|L---7F-7FJ|L7F7LJF-J........\n",
      "L-7|.||.FJ|FJ|LJLJLJL-7||L7F-----JF-JLJL-7F7F7LJOF7FJF---JFJL-7OFJL7||||OF7|F---JFJ|||L-7|FJF7F--7F-7F-7LJLJ.F-JF--7LJFJL7|.|||F-J..........\n",
      ".FJL-J|.L7|L7|F------7||L7LJF--7F-JF7F7F-J|LJL7F7||L7|OF7OL7F-JFJF7||LJL-JLJ|F7F7L7|||F7LJL7|LJF7LJOLJFJF7F--JF7L-7|F7L-7|L7|||L--7.........\n",
      ".L7F7FJ..LJ.LJ|F----7LJL-JF-JF7LJF7|LJLJF7|F--J|||L7||FJL7O||F7|FJ||L7F7F7F7LJ|||FJLJ|||OF7||F-JL----7L-JLJF-7|L--JLJL--JL-JLJL---J.........\n",
      "..LJ||........LJF---JF7F--JF-JL-7|LJOF7FJ|||F-7||L7|||L-7L7|||LJL7LJO||||LJ|F-J||L--7|||FJ|||L------7L-----J.|L--7F7F-7F7F7.F7.F7...........\n",
      "...FJ|..........L----J||.F7L---7|L--7|LJFJ|||FJ|L-JLJ|F7|FJ||L-7FJOF7LJ||F-J|F7||F7FJLJ||FJLJF7F--7FJF------7|F-7LJLJFJ|LJL-JL-JL--7........\n",
      "...L-J.......F7F7.F7F7LJFJ|.F7FJL---J|F-JFJLJL7L--7F-J|LJL7|L7FJ|F-J|F7LJL-7||LJ|||L--7||L7OFJLJF7LJFJF-----JLJ.L7F--J.|F----------J........\n",
      ".............|LJL-JLJL--JFJFJLJF7F---JL--JF---JF7FJL7OL7F-J|FJL7LJF-J||OF7FJ||F-J|L7F7||L7L7L--7|L--JFJF-----7F7.|L----JL----7F---7.........\n",
      "...........F-JF-----7F7F7L7L--7|||F----7F7L--7FJLJF7L7FJL-7||F-JF-JF-JL7|LJFJ|L7OL7||LJ|OL7L--7||F---JFJF----J|L7|F-7F7F-----J|F--J.........\n",
      "...........L7FJF7.F7LJLJL7L--7LJLJL7OF7LJL---JL---J|FJL7F-J||L7FJF7L--7|L-7|O|FJF-J|L-7|F7|F--JLJL--7FJOL---7FJFJ|L7LJ|L---7.FJL-7..........\n",
      "............LJFJL-JL-----JF-7L--7F7L-JL---7OF-7F7F-JL-7||F7||FJ|FJL7F-J|OFJL7|L7L7FJF-JLJ|||F7F7F-7O||F----7||FJ.L-JF7L7F--JFJF7FJ..........\n",
      "...........F7.L7F7F7F7F---J.L--7LJL---7F-7|FJFJ||L---7|||||||L7||F-JL-7|FJF-J|FJFJL7L-7F-J||||||L7L7LJL---7LJ|L--7F-J|.LJF7FJFJLJ...........\n",
      "...........|L--J|||||||F---7.F7L-----7|L7LJ|FJO|L7F-7|||LJ|||FJLJL--7FJ|L7L-7||FJF-JF-JL--JLJ||L7L7L7OF---JF7|F--J|F-JF7.|LJFJ..............\n",
      "...........L-7F7|||LJLJL--7|FJL------JL7L7FJ|F7L7|L7LJLJF-J||L-7F---JL7|FJF-J||L7|F7L-7F-----J|FJOL7L7L----JLJ|F7.||F-JL-JF7L-7.F7..........\n",
      "...........F7LJLJLJ.F-7F-7|LJF-------7OL-J|FJ||FJL7L--7FJOFJ|OFJL-7F7FJ|L7L-7|L7|LJ|F7|L-7OF7O||F7OL7|F7F-----J|L-JLJF-7F-J|F7|.||..........\n",
      "........F7.|L-7.F7.FJFJL7LJF-JF7.F--7L7OF-J|O||L-7|F7FJ|F7L7L7L7F-J|||FJO|F-JL7|L-7||||F-JFJL7||||F7||||L------JF----J.|L-7LJLJFJ|..........\n",
      "........|L-JF7L-JL-JFJF7L-7|F-JL-JF7L-JFJF7|FJ|F7|||||FJ|L7L7|FJ|F7|||L7FJ|F7FJ|F7|||||L7FJF-J|||||||||L---7F7F7L-7F--7L-7L7F7FJFJF--7......\n",
      "........L---J|F7F--7L-JL-7LJL-7F7FJ|OF7L7|LJ|FJ||||||||OL7|O|||FJ|||||FJL7|||L7||||||||FJL7|F7||||||||L---7|||||F-J|F-JF7L-J||L7|.|F7|......\n",
      ".........F---J|LJF7L----7|F7F7||||.L7|L-JL7FJL7|||LJ||L7FJ|FJ||L7||||||F7|LJ|FJ||||||||L7FJ||LJ||||LJ|F7F7|LJLJ|L-7||F-J|.F-JL-JL-J|LJ......\n",
      ".........L7F7FJF-J|.F7F-JLJLJLJ|||F-JL-7F-JL-7||LJF-JL7|L7||.||.|||||||||L-7|L7||||||||.|L7|L7.||||F-J||||L7.F7L-7LJLJF7L-JF7F-7F-7L-7......\n",
      "..........LJ||.L-7L-JLJF7F7F-7FJ|||F7F7||F7F-J|L7FJF7FJL-J||FJL7||||LJLJ|F-J|FJ||||LJ||FJFJL7L7||||L-7|LJL7L-JL-7|F7F7|L---JLJ.|L7L7FJ......\n",
      "............LJF7.L--7F-J||LJFJL7||||||||||||F-JFJL7|||F7F-J||F7|||||F---J|F7LJ.LJ||F-J|L-J..|FJ||LJF-JL-7FJF7F7FJLJ||||F--7F7F7L7L7LJ.......\n",
      ".........F--7FJL----JL7FJL7FJF7|LJ|||||||||||F7L-7||LJ|LJF7|||LJ|||||F--7LJL----7||L-7L---7FJL7|L-7L-7F7|L7|LJ|L7F7||LJ|F-J||||.L-J.........\n",
      ".........L-7LJF--7F-7FJL7FJL7|||F-J|||||||LJ|||F-J||F-JF7|||||F7||LJ||F-JF-7F---JLJF-JF7F7||F-J|F-JF-J||L7|L-7|FJ|LJL7FJL7.||||F7F-7........\n",
      "........F--JF7L7.||FJ|F-JL-7||||L7FJ||LJLJF7|||L7.LJ|F7|||LJ|||LJL7.LJL-7L7|L--7F--JF7|||LJLJF-JL-7|F7|L7|L7FJLJ.L7F7LJF7L7|||LJLJFJ........\n",
      "........L--7||FJFJ|L-J|F7F7|||LJ.LJ.|L7F7FJLJ|L7L-7.LJ|||L-7||L7F7L7.F--JFJ|F7FJL-7FJ|||L7F7FJF-7FJ|||L7||FJL--7F-J|L7FJ|FJ|||F--7L7........\n",
      "..........FJ|||.|FJF--J|||||LJF-----JFJ|LJF7FJFJF7L7F7|||F-J||FJ|L-JFJF-7|.LJ|L-7FJL7||L7LJ|L7|FJL7|||FJLJL7F7FJL7FJFJL7|L-JLJ|F7L7|........\n",
      "..........L-JLJ.LJ.L7F7|LJ|L-7L-7F7F7L7L-7|LJ.L7|L7||LJ||L-7LJL7|F--JFJFJ|F-7|F-JL7FJLJFJF7|.LJ|F7||||L--7FJ||L7.|L7L7FJL7F7F7LJL7LJ........\n",
      "...............F---7||LJF-JF7|F-J||||FJ.FJL7F7FJL7LJL7FJL--JF7FJ|L7F7L7L7LJFJ|L-7FJL--7L7|LJF-7||||||L7F-JL-JL7L7|FJFJ|F7LJ||L7F7L7.........\n",
      "...............L7F7LJL7.L7FJ|||F7|LJ||F-JF7LJ|L7FJF7FJL--7F7|LJFJFJ||FJ.L7FJ.|F-JL7F7FJ.|L--JFJ||||||FJL----7.|FJ|L7L7LJ|F-JL7|||FJ.........\n",
      "................LJL7F7|F-JL7||||||F-J|L7FJ|F-J.LJFJLJF7F7LJ||F7L7L7|LJ.F7||F7LJ.F-J|LJF-JF7F7L7||||LJL-7F7F-JFJL7L-JFJF7|L7F-JLJLJ..........\n",
      "..................FJ|LJL-7FJLJ||LJL-7|FJ|FJL--7F-JF-7||||F7|||L7L7LJF7FJLJLJL7F-JF7L-7L-7|||L-JLJ||F--7|||L7FJF7|F7.|FJLJ.|L----7...........\n",
      "..................L-JF---JL-7FJL7F--J|L7|L7F--JL-7L7||LJ||LJLJFJFJF-JLJF7F-7FJL7FJ|F7|.FJ||L----7||L-7LJ||FJL7|LJ|L-JL---7L7F---J...........\n",
      ".....................L7F-7F7|L7FJL7F7|FJ|.|L--7F-JFJLJ.FJL7F--JFJFJF7F7||L7|L7FJ|FJ||L7L7|L7F--7|||.FJF7||L-7|L7.L-7F-7F7|FJL---7...........\n",
      "......................LJ.||LJ.LJF-J|LJL7L7|F7FJL7FJF---JF-JL-7FJFJFJLJLJ|FJ|FJ|FJL7||FJ.|L7|L-7||||FJFJ|||F7|L7L7.FJ|FJ||||F-7F-J...........\n",
      ".........................LJ.....L-7|F-7L7|||LJ.FJL7|F7F7|F---J|.L7|F----JL7|L7|L7.LJ|L7FJFJ|F-JLJLJL7|FJ||||L7L7L7L7|L7|LJ||.||.............\n",
      ".................................FJ|L7L-J|||.F7L7FJLJLJLJ|F7F7L-7||L---7F-J|FJ|FJF-7L7|L7|.|L-----7FJ|L7||||FJFJFJ.||.|L-7||.LJ.............\n",
      ".............................F7.FJFJFJF7FJ|L-JL7||F------J|LJL7FJLJ.F--JL7.LJFJL-JFJFJ|FJL7|F7F7F7|L7|.||LJ||.L7|F-JL7|F-J||................\n",
      ".............................||FJFJ.L7||L7|F7F-J||L--7F7F7|F--J|F7F-JF-7FJF-7|F-7FJ.L7|L-7|LJ||||LJ.||FJL7.LJ.FJ|L-7FJ|L-7LJ................\n",
      ".............................|LJFJ...LJL7||||L7FJL7..LJ|||||F--J||L-7|.|L-JFJ||FJL-7FJ|.FJL-7LJ||...|||F7L--7.L7|.FJ|FJF-J..................\n",
      ".............................|F7L7..F---J||||FJL7FJ.F--J|LJLJF--JL--JL7L-7FJ.|||F-7|L-J.L-7FJ..|L7.FJ|||L7F7L-7LJ.L7|L-J....................\n",
      ".............................||L7L7.L7F7FJ|||L7.LJ..L7F7L7..FJF-----7FJF-J|F7||||.LJ...F--J|...L-JFJFJ||.||L--J....LJ.......................\n",
      ".............................||.L7|..LJLJ.||L7L-7....LJL7L7.L7|F----J|.L-7LJ||||L-7....L7F7|......L7|.LJ.LJ.................................\n",
      ".............................||..LJ.......||FJF-J......FJFJ.FJ||F7F-7L--7L7FJLJL7FJ.....||LJ.......LJ.......................................\n",
      ".............................LJ...........LJL7|........L-J..|FJLJ||.L7F7|.|L-7..LJ......LJ..................................................\n",
      ".............................................|L7............||...||.FJ||L7|F-J..............................................................\n",
      ".............................................L7|............LJ...LJ.L7||FJ|L-7..............................................................\n",
      "..............................................LJ.....................|||L7L--J..............................................................\n",
      ".....................................................................LJL-J..................................................................\n",
      "............................................................................................................................................\n",
      "............................................................................................................................................\n",
      "............................................................................................................................................\n",
      "............................................................................................................................................\n",
      "305\n"
     ]
    }
   ],
   "source": [
    "count = 0\n",
    "\n",
    "for i, line in enumerate(loop_map):\n",
    "    in_loop = 0\n",
    "    for j, val in enumerate(line):\n",
    "        if val == \"|\":\n",
    "            in_loop = np.remainder(in_loop + 2, 4)\n",
    "        elif val in [\"F\", \"J\"]:\n",
    "            in_loop = np.remainder(in_loop + 1, 4)\n",
    "        elif val in [\"L\", \"7\"]:\n",
    "            in_loop = np.remainder(in_loop - 1, 4)\n",
    "        elif val == \".\" and in_loop == 2:\n",
    "            count += 1\n",
    "            loop_map[i][j] = \"O\"\n",
    "\n",
    "print(\"\\n\".join([\"\".join(line) for line in loop_map]))\n",
    "print(count)         \n"
   ],
   "metadata": {
    "collapsed": false,
    "ExecuteTime": {
     "end_time": "2023-12-10T13:43:59.206188400Z",
     "start_time": "2023-12-10T13:43:59.189188700Z"
    }
   },
   "id": "80a3f4afef846823"
  },
  {
   "cell_type": "code",
   "execution_count": null,
   "outputs": [],
   "source": [],
   "metadata": {
    "collapsed": false
   },
   "id": "f3eb700738bd1e0e"
  }
 ],
 "metadata": {
  "kernelspec": {
   "display_name": "Python 3",
   "language": "python",
   "name": "python3"
  },
  "language_info": {
   "codemirror_mode": {
    "name": "ipython",
    "version": 2
   },
   "file_extension": ".py",
   "mimetype": "text/x-python",
   "name": "python",
   "nbconvert_exporter": "python",
   "pygments_lexer": "ipython2",
   "version": "2.7.6"
  }
 },
 "nbformat": 4,
 "nbformat_minor": 5
}
