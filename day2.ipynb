{
 "cells": [
  {
   "cell_type": "code",
   "execution_count": 1,
   "id": "initial_id",
   "metadata": {
    "collapsed": true,
    "ExecuteTime": {
     "end_time": "2023-12-04T14:25:24.209312891Z",
     "start_time": "2023-12-04T14:25:23.576967022Z"
    }
   },
   "outputs": [],
   "source": [
    "import numpy as np\n",
    "import re"
   ]
  },
  {
   "cell_type": "code",
   "execution_count": 15,
   "outputs": [],
   "source": [
    "line = \"Game 1: 3 blue, 4 red; 1 red, 2 green, 6 blue; 2 green\""
   ],
   "metadata": {
    "collapsed": false,
    "ExecuteTime": {
     "end_time": "2023-12-04T14:35:35.138468191Z",
     "start_time": "2023-12-04T14:35:35.119380087Z"
    }
   },
   "id": "4f513eaab8e633c8"
  },
  {
   "cell_type": "code",
   "execution_count": 21,
   "outputs": [
    {
     "data": {
      "text/plain": "(1, [{'blue': 3, 'red': 4}, {'red': 1, 'green': 2, 'blue': 6}, {'green': 2}])"
     },
     "execution_count": 21,
     "metadata": {},
     "output_type": "execute_result"
    }
   ],
   "source": [
    "def parse(line):\n",
    "    game_num, game = line.split(\": \")\n",
    "    draws = [[draw.split(\" \") for draw in round.split(\", \")] for round in game.split(\"; \")]\n",
    "    decoded = [{draw[1]: int(draw[0]) for draw in round} for round in draws]\n",
    "    return int(game_num.split(\" \")[1]), decoded\n",
    "    \n",
    "parse(line)"
   ],
   "metadata": {
    "collapsed": false,
    "ExecuteTime": {
     "end_time": "2023-12-04T14:41:19.382322556Z",
     "start_time": "2023-12-04T14:41:19.263290459Z"
    }
   },
   "id": "67da551f2627ec32"
  },
  {
   "cell_type": "code",
   "execution_count": 22,
   "outputs": [],
   "source": [
    "input = \"\"\"Game 1: 4 blue, 7 red, 5 green; 3 blue, 4 red, 16 green; 3 red, 11 green\n",
    "Game 2: 20 blue, 8 red, 1 green; 1 blue, 2 green, 8 red; 9 red, 4 green, 18 blue; 2 green, 7 red, 2 blue; 10 blue, 2 red, 5 green\n",
    "Game 3: 2 red, 5 green, 1 blue; 3 blue, 5 green; 8 blue, 13 green, 2 red; 9 green, 3 blue; 12 green, 13 blue; 3 green, 3 blue, 1 red\n",
    "Game 4: 1 red, 6 green, 4 blue; 3 green, 1 blue, 1 red; 7 blue, 1 red, 2 green\n",
    "Game 5: 2 green, 9 blue, 1 red; 3 green, 1 blue, 3 red; 1 red, 4 blue, 9 green\n",
    "Game 6: 2 blue, 5 red, 7 green; 5 blue, 8 red, 3 green; 2 red, 9 blue, 2 green\n",
    "Game 7: 7 green, 7 blue, 2 red; 2 red, 7 green, 16 blue; 17 blue, 3 green, 3 red; 2 blue, 5 green, 3 red\n",
    "Game 8: 4 red, 3 green; 9 green, 2 red, 2 blue; 1 red, 3 blue, 6 green\n",
    "Game 9: 5 red, 3 green, 13 blue; 11 red, 15 blue, 1 green; 7 red, 2 blue\n",
    "Game 10: 15 red, 3 green; 7 green, 4 blue, 11 red; 13 red, 13 blue; 2 blue, 5 green, 8 red\n",
    "Game 11: 7 red, 3 green; 7 blue, 16 red, 4 green; 6 green, 6 blue, 12 red; 11 red, 4 green, 4 blue; 10 red, 6 blue, 2 green; 3 green, 7 red, 6 blue\n",
    "Game 12: 1 blue, 2 red; 2 green, 15 blue; 6 green, 5 blue; 6 blue, 4 green; 5 blue, 3 green; 3 red, 3 blue, 10 green\n",
    "Game 13: 10 red, 4 green; 9 red, 2 blue, 3 green; 6 red, 7 green, 1 blue; 9 red, 7 green, 1 blue; 3 blue; 3 blue, 3 red, 8 green\n",
    "Game 14: 12 blue, 3 red, 4 green; 3 green, 1 red; 6 green, 16 blue\n",
    "Game 15: 2 green, 3 red, 2 blue; 14 blue, 1 red, 17 green; 13 blue, 11 green, 10 red; 5 green, 7 red, 5 blue; 2 green, 3 blue, 6 red; 9 green, 2 blue, 5 red\n",
    "Game 16: 2 blue, 1 red; 1 red, 2 green, 3 blue; 4 green, 9 blue, 3 red; 1 green, 4 red, 8 blue; 7 blue, 11 red, 1 green\n",
    "Game 17: 9 green, 8 blue, 6 red; 8 red, 18 green, 1 blue; 18 red, 19 green, 1 blue\n",
    "Game 18: 1 green, 4 red, 5 blue; 10 green, 8 blue; 12 green, 10 blue\n",
    "Game 19: 3 red, 11 green, 12 blue; 16 green, 1 red, 20 blue; 9 green, 2 red, 14 blue; 5 blue, 2 green, 2 red; 20 blue, 3 red, 10 green; 4 green, 3 blue\n",
    "Game 20: 17 red, 3 blue, 9 green; 6 green, 1 red, 7 blue; 6 red, 2 blue; 1 blue, 4 green, 5 red; 6 green, 5 red; 10 blue, 11 green, 2 red\n",
    "Game 21: 9 red, 4 blue, 6 green; 14 red, 9 green; 1 red, 1 blue, 12 green\n",
    "Game 22: 5 green, 4 red; 1 green, 1 red, 2 blue; 5 red, 4 green, 4 blue; 2 green, 2 blue, 5 red; 8 green, 4 blue, 16 red; 15 red, 3 green\n",
    "Game 23: 5 green, 14 red; 6 blue, 2 green, 14 red; 4 blue, 8 red, 4 green; 4 blue, 9 red, 8 green; 9 blue, 3 green\n",
    "Game 24: 13 blue, 9 green, 13 red; 11 blue, 14 red, 10 green; 12 green, 5 blue, 14 red\n",
    "Game 25: 11 green, 1 blue; 12 red, 8 green, 5 blue; 1 blue, 8 green, 6 red\n",
    "Game 26: 4 blue, 1 green; 1 green, 5 red, 6 blue; 8 green, 5 blue, 6 red; 2 blue, 2 red, 8 green; 8 green, 2 red, 4 blue; 7 red, 2 blue, 7 green\n",
    "Game 27: 8 red, 1 blue, 8 green; 5 red, 2 green; 2 blue, 9 green, 9 red; 2 blue\n",
    "Game 28: 2 green, 1 blue; 2 green; 1 blue; 1 blue, 1 red; 1 blue; 1 green\n",
    "Game 29: 12 red, 8 green, 13 blue; 13 green, 15 red; 12 red, 18 green, 10 blue; 7 green, 20 red, 5 blue; 20 red, 7 green, 10 blue; 9 green, 13 blue\n",
    "Game 30: 5 red, 3 blue; 2 red; 2 green, 6 blue, 7 red; 5 red\n",
    "Game 31: 14 red, 7 blue, 2 green; 1 green, 11 red, 9 blue; 3 red, 2 green, 5 blue; 1 green, 9 blue, 8 red; 8 blue, 8 red, 1 green\n",
    "Game 32: 2 green, 6 blue, 2 red; 2 blue, 4 red; 1 green, 9 blue, 1 red; 3 red, 13 blue, 1 green\n",
    "Game 33: 6 green, 8 blue, 7 red; 3 blue, 1 green, 8 red; 6 red, 11 blue; 10 blue, 3 red, 7 green; 1 blue, 3 red, 6 green\n",
    "Game 34: 1 red, 1 blue, 8 green; 5 blue, 10 red, 11 green; 2 green, 10 red, 2 blue\n",
    "Game 35: 2 blue, 15 green; 3 red, 3 blue, 6 green; 13 green, 17 red, 3 blue; 18 green, 1 blue, 18 red; 16 green, 3 blue; 11 green, 15 red\n",
    "Game 36: 16 red, 4 green, 1 blue; 8 red, 2 blue, 5 green; 5 green, 2 blue, 9 red\n",
    "Game 37: 3 green, 7 blue; 8 blue, 5 red, 6 green; 5 blue, 1 red, 13 green\n",
    "Game 38: 6 green, 6 blue; 11 blue, 8 green, 1 red; 5 blue, 16 green\n",
    "Game 39: 2 red, 4 blue, 5 green; 1 red, 2 green, 8 blue; 16 green, 15 blue, 2 red; 6 green, 16 blue, 1 red; 16 green, 18 blue, 1 red\n",
    "Game 40: 3 green, 6 blue, 7 red; 1 blue, 17 red; 4 green, 6 red; 13 red\n",
    "Game 41: 6 red, 5 green, 6 blue; 4 green, 2 blue; 6 red, 1 blue, 4 green; 4 blue, 13 green; 3 blue, 2 red; 2 blue, 5 red, 3 green\n",
    "Game 42: 8 red, 5 blue; 15 blue, 13 red, 3 green; 6 red, 18 blue, 4 green\n",
    "Game 43: 5 red, 1 green, 1 blue; 2 red, 2 green, 3 blue; 4 blue, 3 red, 1 green\n",
    "Game 44: 6 blue, 12 green; 7 blue, 12 red, 11 green; 12 green, 2 blue, 13 red; 8 green, 8 blue, 12 red\n",
    "Game 45: 18 blue, 15 red, 8 green; 17 red, 3 blue; 1 green, 2 red, 15 blue\n",
    "Game 46: 3 blue, 2 green, 5 red; 11 blue, 2 green, 19 red; 3 green, 19 red, 13 blue\n",
    "Game 47: 9 green, 2 red; 7 red, 10 green; 2 blue, 9 green, 1 red; 5 blue\n",
    "Game 48: 8 blue, 8 green; 1 red, 17 green; 9 green, 6 red, 8 blue; 13 green, 3 red, 1 blue\n",
    "Game 49: 17 blue, 2 red, 1 green; 12 blue, 1 green, 4 red; 1 green, 2 red, 13 blue\n",
    "Game 50: 4 red, 2 blue, 9 green; 8 green, 2 blue, 6 red; 9 green, 2 blue, 14 red\n",
    "Game 51: 6 red, 3 green, 8 blue; 5 green, 16 blue, 1 red; 2 green, 13 red, 14 blue; 14 red, 12 green, 19 blue; 19 blue, 13 green, 9 red; 6 red, 15 blue, 7 green\n",
    "Game 52: 18 blue, 2 red, 5 green; 2 green, 5 red; 6 red, 10 green, 3 blue; 3 green, 6 blue, 6 red\n",
    "Game 53: 11 red, 4 green; 2 blue, 3 red; 3 blue, 13 red, 11 green; 11 blue, 8 red, 5 green\n",
    "Game 54: 4 green, 1 red, 7 blue; 4 green, 8 red, 8 blue; 4 red, 5 green; 8 blue, 4 green, 2 red; 4 green, 3 blue; 3 blue, 3 green, 3 red\n",
    "Game 55: 9 red, 1 green, 1 blue; 1 green, 8 red; 4 red; 7 blue, 7 green; 6 blue, 5 green, 6 red; 5 blue, 8 red, 4 green\n",
    "Game 56: 1 blue; 3 red, 2 blue; 1 red, 2 green\n",
    "Game 57: 7 green, 2 red, 5 blue; 6 green, 1 red; 1 green, 6 red; 1 red, 20 green; 1 green, 4 red, 2 blue; 15 green, 7 red\n",
    "Game 58: 3 green, 8 red, 5 blue; 2 red, 3 green; 2 blue, 2 green, 12 red; 1 blue, 3 green, 16 red; 4 blue, 9 red, 3 green\n",
    "Game 59: 2 red, 5 blue, 1 green; 2 red, 3 green; 12 red, 5 blue; 7 green, 3 blue, 4 red; 1 green, 5 blue, 14 red; 8 red, 11 green, 2 blue\n",
    "Game 60: 12 blue, 3 red, 2 green; 2 green, 6 blue, 1 red; 1 blue, 2 red, 3 green; 7 green, 1 blue, 2 red\n",
    "Game 61: 6 blue, 6 red, 7 green; 2 green, 5 red, 5 blue; 1 blue, 3 green, 15 red; 6 blue, 8 green, 14 red\n",
    "Game 62: 1 blue, 6 red, 2 green; 5 green, 5 red, 11 blue; 5 red, 6 green, 8 blue; 2 green, 17 blue; 2 red, 7 green, 5 blue; 3 blue, 5 green, 8 red\n",
    "Game 63: 6 red, 1 green, 9 blue; 7 red, 1 green, 11 blue; 3 green, 4 red; 4 green, 10 blue, 7 red; 13 blue, 11 green, 5 red; 14 green\n",
    "Game 64: 13 green, 11 red, 1 blue; 1 red, 2 green; 3 blue, 9 green, 19 red\n",
    "Game 65: 2 blue, 11 red, 3 green; 5 green, 6 red; 2 blue, 9 green, 9 red; 1 green, 5 blue, 3 red; 4 red, 4 blue, 6 green; 2 blue, 7 green, 1 red\n",
    "Game 66: 4 red, 7 blue, 3 green; 1 green, 6 blue, 7 red; 1 green, 1 red, 1 blue\n",
    "Game 67: 1 green, 8 red; 4 green, 1 blue, 3 red; 8 red, 3 green\n",
    "Game 68: 3 blue, 4 red; 1 blue, 1 green; 2 blue, 6 red, 3 green; 1 blue, 1 green, 3 red; 7 red, 1 blue, 4 green; 1 green, 2 red, 3 blue\n",
    "Game 69: 6 green, 2 blue, 3 red; 3 blue, 3 red; 1 green; 1 blue, 2 red, 8 green; 1 green, 1 red\n",
    "Game 70: 7 blue, 15 green, 3 red; 8 green, 6 blue, 5 red; 7 blue, 1 red, 3 green\n",
    "Game 71: 4 green, 3 blue, 7 red; 6 red, 6 green, 10 blue; 3 red, 9 green; 7 blue, 1 red, 13 green; 3 blue, 5 red, 11 green; 8 blue, 8 red, 5 green\n",
    "Game 72: 10 green, 4 blue; 4 blue, 8 green, 2 red; 2 red, 6 green, 6 blue; 1 red, 5 blue; 13 green, 5 blue; 8 green, 3 blue, 2 red\n",
    "Game 73: 9 blue, 1 red, 13 green; 2 red, 16 green, 6 blue; 1 red, 8 blue, 17 green; 7 green, 1 blue; 8 blue, 1 green, 1 red\n",
    "Game 74: 2 green, 2 red; 1 red, 5 blue; 7 blue, 3 green; 7 blue, 3 green, 7 red\n",
    "Game 75: 3 green, 5 blue; 2 green, 1 red, 9 blue; 17 green, 13 blue, 3 red; 3 blue, 2 red, 8 green; 7 green, 2 red, 8 blue; 1 green, 14 blue\n",
    "Game 76: 19 red; 2 blue, 20 red; 3 blue, 3 red; 20 red, 3 blue; 6 red, 4 blue, 1 green\n",
    "Game 77: 2 red, 5 green; 2 red, 2 green; 4 green; 4 green, 3 red, 3 blue; 2 red\n",
    "Game 78: 4 green, 16 red; 5 green, 2 red, 2 blue; 4 green, 2 blue, 11 red; 1 blue, 1 green, 6 red; 2 blue, 7 red\n",
    "Game 79: 8 blue, 2 green; 3 red, 3 green; 3 red, 9 blue, 4 green; 1 red, 2 blue, 4 green; 8 green, 6 red, 9 blue; 2 red, 10 blue, 9 green\n",
    "Game 80: 9 red, 17 blue, 2 green; 5 red, 1 green, 6 blue; 2 red, 20 blue; 6 red, 12 blue\n",
    "Game 81: 5 red, 4 blue, 1 green; 15 green, 8 blue, 2 red; 5 blue, 2 red, 9 green; 11 green, 1 blue, 3 red; 15 green, 1 red, 3 blue\n",
    "Game 82: 2 blue, 12 green; 12 blue, 12 green, 14 red; 4 blue, 16 green, 7 red\n",
    "Game 83: 6 blue, 7 red, 11 green; 2 red, 6 green, 4 blue; 6 blue, 1 red; 7 blue, 12 red, 13 green; 10 green, 6 blue, 10 red; 6 red, 4 green\n",
    "Game 84: 2 green, 5 red, 1 blue; 4 green, 3 blue, 2 red; 2 green, 1 red, 1 blue; 5 red, 4 blue, 4 green\n",
    "Game 85: 1 blue; 1 green, 2 red; 3 red, 11 green; 6 green, 14 red, 1 blue\n",
    "Game 86: 3 green, 1 blue, 3 red; 3 red, 6 blue, 2 green; 4 blue, 1 red; 5 blue, 4 green, 3 red; 2 blue, 3 red, 4 green; 7 blue, 2 green, 3 red\n",
    "Game 87: 1 green, 5 red, 5 blue; 6 red, 4 green, 1 blue; 2 green, 4 red, 1 blue; 7 red, 4 green, 5 blue; 3 green, 4 red, 1 blue\n",
    "Game 88: 3 blue, 18 red, 14 green; 11 red, 14 green; 2 blue, 10 red, 4 green\n",
    "Game 89: 5 red, 4 green; 3 red, 2 blue, 1 green; 2 blue, 4 green, 3 red; 2 green, 2 blue, 2 red\n",
    "Game 90: 14 blue, 10 red, 2 green; 11 blue, 3 red, 1 green; 5 blue, 2 green, 14 red\n",
    "Game 91: 9 blue, 4 red, 4 green; 4 red, 1 blue; 3 blue, 20 red\n",
    "Game 92: 3 red, 2 green, 7 blue; 2 green, 10 red, 8 blue; 9 red, 5 blue, 5 green; 1 blue, 2 green, 3 red; 10 red, 13 blue, 9 green; 11 blue, 7 red\n",
    "Game 93: 9 red, 2 blue, 1 green; 6 red, 2 blue, 11 green; 1 green, 1 blue, 10 red; 9 red, 8 green\n",
    "Game 94: 18 green, 3 red; 2 blue, 4 green, 12 red; 5 red, 1 blue, 13 green; 2 blue, 15 green, 7 red\n",
    "Game 95: 12 green; 1 red, 3 green, 1 blue; 13 green, 2 red, 1 blue; 9 green; 2 green, 1 blue; 1 blue, 4 green, 1 red\n",
    "Game 96: 5 red, 4 green, 2 blue; 10 red, 3 blue, 5 green; 14 blue, 11 green, 4 red; 14 green, 7 blue, 13 red; 17 red, 9 green, 6 blue; 8 red, 4 blue, 13 green\n",
    "Game 97: 3 green, 7 blue; 7 red, 4 blue; 5 blue, 6 red, 2 green\n",
    "Game 98: 9 green; 8 green, 4 blue; 6 blue, 2 red, 1 green; 4 green, 1 blue; 5 blue, 2 green, 2 red\n",
    "Game 99: 3 red, 1 green, 5 blue; 1 red; 3 blue, 4 red; 3 blue, 1 green, 5 red\n",
    "Game 100: 3 red, 3 blue, 10 green; 3 green, 1 blue, 6 red; 5 red, 4 green, 7 blue\"\"\""
   ],
   "metadata": {
    "collapsed": false,
    "ExecuteTime": {
     "end_time": "2023-12-04T14:42:08.877673923Z",
     "start_time": "2023-12-04T14:42:08.822267159Z"
    }
   },
   "id": "2f3a438cd99975c9"
  },
  {
   "cell_type": "code",
   "execution_count": 23,
   "outputs": [
    {
     "data": {
      "text/plain": "['Game 1: 4 blue, 7 red, 5 green; 3 blue, 4 red, 16 green; 3 red, 11 green',\n 'Game 2: 20 blue, 8 red, 1 green; 1 blue, 2 green, 8 red; 9 red, 4 green, 18 blue; 2 green, 7 red, 2 blue; 10 blue, 2 red, 5 green',\n 'Game 3: 2 red, 5 green, 1 blue; 3 blue, 5 green; 8 blue, 13 green, 2 red; 9 green, 3 blue; 12 green, 13 blue; 3 green, 3 blue, 1 red',\n 'Game 4: 1 red, 6 green, 4 blue; 3 green, 1 blue, 1 red; 7 blue, 1 red, 2 green',\n 'Game 5: 2 green, 9 blue, 1 red; 3 green, 1 blue, 3 red; 1 red, 4 blue, 9 green',\n 'Game 6: 2 blue, 5 red, 7 green; 5 blue, 8 red, 3 green; 2 red, 9 blue, 2 green',\n 'Game 7: 7 green, 7 blue, 2 red; 2 red, 7 green, 16 blue; 17 blue, 3 green, 3 red; 2 blue, 5 green, 3 red',\n 'Game 8: 4 red, 3 green; 9 green, 2 red, 2 blue; 1 red, 3 blue, 6 green',\n 'Game 9: 5 red, 3 green, 13 blue; 11 red, 15 blue, 1 green; 7 red, 2 blue',\n 'Game 10: 15 red, 3 green; 7 green, 4 blue, 11 red; 13 red, 13 blue; 2 blue, 5 green, 8 red',\n 'Game 11: 7 red, 3 green; 7 blue, 16 red, 4 green; 6 green, 6 blue, 12 red; 11 red, 4 green, 4 blue; 10 red, 6 blue, 2 green; 3 green, 7 red, 6 blue',\n 'Game 12: 1 blue, 2 red; 2 green, 15 blue; 6 green, 5 blue; 6 blue, 4 green; 5 blue, 3 green; 3 red, 3 blue, 10 green',\n 'Game 13: 10 red, 4 green; 9 red, 2 blue, 3 green; 6 red, 7 green, 1 blue; 9 red, 7 green, 1 blue; 3 blue; 3 blue, 3 red, 8 green',\n 'Game 14: 12 blue, 3 red, 4 green; 3 green, 1 red; 6 green, 16 blue',\n 'Game 15: 2 green, 3 red, 2 blue; 14 blue, 1 red, 17 green; 13 blue, 11 green, 10 red; 5 green, 7 red, 5 blue; 2 green, 3 blue, 6 red; 9 green, 2 blue, 5 red',\n 'Game 16: 2 blue, 1 red; 1 red, 2 green, 3 blue; 4 green, 9 blue, 3 red; 1 green, 4 red, 8 blue; 7 blue, 11 red, 1 green',\n 'Game 17: 9 green, 8 blue, 6 red; 8 red, 18 green, 1 blue; 18 red, 19 green, 1 blue',\n 'Game 18: 1 green, 4 red, 5 blue; 10 green, 8 blue; 12 green, 10 blue',\n 'Game 19: 3 red, 11 green, 12 blue; 16 green, 1 red, 20 blue; 9 green, 2 red, 14 blue; 5 blue, 2 green, 2 red; 20 blue, 3 red, 10 green; 4 green, 3 blue',\n 'Game 20: 17 red, 3 blue, 9 green; 6 green, 1 red, 7 blue; 6 red, 2 blue; 1 blue, 4 green, 5 red; 6 green, 5 red; 10 blue, 11 green, 2 red',\n 'Game 21: 9 red, 4 blue, 6 green; 14 red, 9 green; 1 red, 1 blue, 12 green',\n 'Game 22: 5 green, 4 red; 1 green, 1 red, 2 blue; 5 red, 4 green, 4 blue; 2 green, 2 blue, 5 red; 8 green, 4 blue, 16 red; 15 red, 3 green',\n 'Game 23: 5 green, 14 red; 6 blue, 2 green, 14 red; 4 blue, 8 red, 4 green; 4 blue, 9 red, 8 green; 9 blue, 3 green',\n 'Game 24: 13 blue, 9 green, 13 red; 11 blue, 14 red, 10 green; 12 green, 5 blue, 14 red',\n 'Game 25: 11 green, 1 blue; 12 red, 8 green, 5 blue; 1 blue, 8 green, 6 red',\n 'Game 26: 4 blue, 1 green; 1 green, 5 red, 6 blue; 8 green, 5 blue, 6 red; 2 blue, 2 red, 8 green; 8 green, 2 red, 4 blue; 7 red, 2 blue, 7 green',\n 'Game 27: 8 red, 1 blue, 8 green; 5 red, 2 green; 2 blue, 9 green, 9 red; 2 blue',\n 'Game 28: 2 green, 1 blue; 2 green; 1 blue; 1 blue, 1 red; 1 blue; 1 green',\n 'Game 29: 12 red, 8 green, 13 blue; 13 green, 15 red; 12 red, 18 green, 10 blue; 7 green, 20 red, 5 blue; 20 red, 7 green, 10 blue; 9 green, 13 blue',\n 'Game 30: 5 red, 3 blue; 2 red; 2 green, 6 blue, 7 red; 5 red',\n 'Game 31: 14 red, 7 blue, 2 green; 1 green, 11 red, 9 blue; 3 red, 2 green, 5 blue; 1 green, 9 blue, 8 red; 8 blue, 8 red, 1 green',\n 'Game 32: 2 green, 6 blue, 2 red; 2 blue, 4 red; 1 green, 9 blue, 1 red; 3 red, 13 blue, 1 green',\n 'Game 33: 6 green, 8 blue, 7 red; 3 blue, 1 green, 8 red; 6 red, 11 blue; 10 blue, 3 red, 7 green; 1 blue, 3 red, 6 green',\n 'Game 34: 1 red, 1 blue, 8 green; 5 blue, 10 red, 11 green; 2 green, 10 red, 2 blue',\n 'Game 35: 2 blue, 15 green; 3 red, 3 blue, 6 green; 13 green, 17 red, 3 blue; 18 green, 1 blue, 18 red; 16 green, 3 blue; 11 green, 15 red',\n 'Game 36: 16 red, 4 green, 1 blue; 8 red, 2 blue, 5 green; 5 green, 2 blue, 9 red',\n 'Game 37: 3 green, 7 blue; 8 blue, 5 red, 6 green; 5 blue, 1 red, 13 green',\n 'Game 38: 6 green, 6 blue; 11 blue, 8 green, 1 red; 5 blue, 16 green',\n 'Game 39: 2 red, 4 blue, 5 green; 1 red, 2 green, 8 blue; 16 green, 15 blue, 2 red; 6 green, 16 blue, 1 red; 16 green, 18 blue, 1 red',\n 'Game 40: 3 green, 6 blue, 7 red; 1 blue, 17 red; 4 green, 6 red; 13 red',\n 'Game 41: 6 red, 5 green, 6 blue; 4 green, 2 blue; 6 red, 1 blue, 4 green; 4 blue, 13 green; 3 blue, 2 red; 2 blue, 5 red, 3 green',\n 'Game 42: 8 red, 5 blue; 15 blue, 13 red, 3 green; 6 red, 18 blue, 4 green',\n 'Game 43: 5 red, 1 green, 1 blue; 2 red, 2 green, 3 blue; 4 blue, 3 red, 1 green',\n 'Game 44: 6 blue, 12 green; 7 blue, 12 red, 11 green; 12 green, 2 blue, 13 red; 8 green, 8 blue, 12 red',\n 'Game 45: 18 blue, 15 red, 8 green; 17 red, 3 blue; 1 green, 2 red, 15 blue',\n 'Game 46: 3 blue, 2 green, 5 red; 11 blue, 2 green, 19 red; 3 green, 19 red, 13 blue',\n 'Game 47: 9 green, 2 red; 7 red, 10 green; 2 blue, 9 green, 1 red; 5 blue',\n 'Game 48: 8 blue, 8 green; 1 red, 17 green; 9 green, 6 red, 8 blue; 13 green, 3 red, 1 blue',\n 'Game 49: 17 blue, 2 red, 1 green; 12 blue, 1 green, 4 red; 1 green, 2 red, 13 blue',\n 'Game 50: 4 red, 2 blue, 9 green; 8 green, 2 blue, 6 red; 9 green, 2 blue, 14 red',\n 'Game 51: 6 red, 3 green, 8 blue; 5 green, 16 blue, 1 red; 2 green, 13 red, 14 blue; 14 red, 12 green, 19 blue; 19 blue, 13 green, 9 red; 6 red, 15 blue, 7 green',\n 'Game 52: 18 blue, 2 red, 5 green; 2 green, 5 red; 6 red, 10 green, 3 blue; 3 green, 6 blue, 6 red',\n 'Game 53: 11 red, 4 green; 2 blue, 3 red; 3 blue, 13 red, 11 green; 11 blue, 8 red, 5 green',\n 'Game 54: 4 green, 1 red, 7 blue; 4 green, 8 red, 8 blue; 4 red, 5 green; 8 blue, 4 green, 2 red; 4 green, 3 blue; 3 blue, 3 green, 3 red',\n 'Game 55: 9 red, 1 green, 1 blue; 1 green, 8 red; 4 red; 7 blue, 7 green; 6 blue, 5 green, 6 red; 5 blue, 8 red, 4 green',\n 'Game 56: 1 blue; 3 red, 2 blue; 1 red, 2 green',\n 'Game 57: 7 green, 2 red, 5 blue; 6 green, 1 red; 1 green, 6 red; 1 red, 20 green; 1 green, 4 red, 2 blue; 15 green, 7 red',\n 'Game 58: 3 green, 8 red, 5 blue; 2 red, 3 green; 2 blue, 2 green, 12 red; 1 blue, 3 green, 16 red; 4 blue, 9 red, 3 green',\n 'Game 59: 2 red, 5 blue, 1 green; 2 red, 3 green; 12 red, 5 blue; 7 green, 3 blue, 4 red; 1 green, 5 blue, 14 red; 8 red, 11 green, 2 blue',\n 'Game 60: 12 blue, 3 red, 2 green; 2 green, 6 blue, 1 red; 1 blue, 2 red, 3 green; 7 green, 1 blue, 2 red',\n 'Game 61: 6 blue, 6 red, 7 green; 2 green, 5 red, 5 blue; 1 blue, 3 green, 15 red; 6 blue, 8 green, 14 red',\n 'Game 62: 1 blue, 6 red, 2 green; 5 green, 5 red, 11 blue; 5 red, 6 green, 8 blue; 2 green, 17 blue; 2 red, 7 green, 5 blue; 3 blue, 5 green, 8 red',\n 'Game 63: 6 red, 1 green, 9 blue; 7 red, 1 green, 11 blue; 3 green, 4 red; 4 green, 10 blue, 7 red; 13 blue, 11 green, 5 red; 14 green',\n 'Game 64: 13 green, 11 red, 1 blue; 1 red, 2 green; 3 blue, 9 green, 19 red',\n 'Game 65: 2 blue, 11 red, 3 green; 5 green, 6 red; 2 blue, 9 green, 9 red; 1 green, 5 blue, 3 red; 4 red, 4 blue, 6 green; 2 blue, 7 green, 1 red',\n 'Game 66: 4 red, 7 blue, 3 green; 1 green, 6 blue, 7 red; 1 green, 1 red, 1 blue',\n 'Game 67: 1 green, 8 red; 4 green, 1 blue, 3 red; 8 red, 3 green',\n 'Game 68: 3 blue, 4 red; 1 blue, 1 green; 2 blue, 6 red, 3 green; 1 blue, 1 green, 3 red; 7 red, 1 blue, 4 green; 1 green, 2 red, 3 blue',\n 'Game 69: 6 green, 2 blue, 3 red; 3 blue, 3 red; 1 green; 1 blue, 2 red, 8 green; 1 green, 1 red',\n 'Game 70: 7 blue, 15 green, 3 red; 8 green, 6 blue, 5 red; 7 blue, 1 red, 3 green',\n 'Game 71: 4 green, 3 blue, 7 red; 6 red, 6 green, 10 blue; 3 red, 9 green; 7 blue, 1 red, 13 green; 3 blue, 5 red, 11 green; 8 blue, 8 red, 5 green',\n 'Game 72: 10 green, 4 blue; 4 blue, 8 green, 2 red; 2 red, 6 green, 6 blue; 1 red, 5 blue; 13 green, 5 blue; 8 green, 3 blue, 2 red',\n 'Game 73: 9 blue, 1 red, 13 green; 2 red, 16 green, 6 blue; 1 red, 8 blue, 17 green; 7 green, 1 blue; 8 blue, 1 green, 1 red',\n 'Game 74: 2 green, 2 red; 1 red, 5 blue; 7 blue, 3 green; 7 blue, 3 green, 7 red',\n 'Game 75: 3 green, 5 blue; 2 green, 1 red, 9 blue; 17 green, 13 blue, 3 red; 3 blue, 2 red, 8 green; 7 green, 2 red, 8 blue; 1 green, 14 blue',\n 'Game 76: 19 red; 2 blue, 20 red; 3 blue, 3 red; 20 red, 3 blue; 6 red, 4 blue, 1 green',\n 'Game 77: 2 red, 5 green; 2 red, 2 green; 4 green; 4 green, 3 red, 3 blue; 2 red',\n 'Game 78: 4 green, 16 red; 5 green, 2 red, 2 blue; 4 green, 2 blue, 11 red; 1 blue, 1 green, 6 red; 2 blue, 7 red',\n 'Game 79: 8 blue, 2 green; 3 red, 3 green; 3 red, 9 blue, 4 green; 1 red, 2 blue, 4 green; 8 green, 6 red, 9 blue; 2 red, 10 blue, 9 green',\n 'Game 80: 9 red, 17 blue, 2 green; 5 red, 1 green, 6 blue; 2 red, 20 blue; 6 red, 12 blue',\n 'Game 81: 5 red, 4 blue, 1 green; 15 green, 8 blue, 2 red; 5 blue, 2 red, 9 green; 11 green, 1 blue, 3 red; 15 green, 1 red, 3 blue',\n 'Game 82: 2 blue, 12 green; 12 blue, 12 green, 14 red; 4 blue, 16 green, 7 red',\n 'Game 83: 6 blue, 7 red, 11 green; 2 red, 6 green, 4 blue; 6 blue, 1 red; 7 blue, 12 red, 13 green; 10 green, 6 blue, 10 red; 6 red, 4 green',\n 'Game 84: 2 green, 5 red, 1 blue; 4 green, 3 blue, 2 red; 2 green, 1 red, 1 blue; 5 red, 4 blue, 4 green',\n 'Game 85: 1 blue; 1 green, 2 red; 3 red, 11 green; 6 green, 14 red, 1 blue',\n 'Game 86: 3 green, 1 blue, 3 red; 3 red, 6 blue, 2 green; 4 blue, 1 red; 5 blue, 4 green, 3 red; 2 blue, 3 red, 4 green; 7 blue, 2 green, 3 red',\n 'Game 87: 1 green, 5 red, 5 blue; 6 red, 4 green, 1 blue; 2 green, 4 red, 1 blue; 7 red, 4 green, 5 blue; 3 green, 4 red, 1 blue',\n 'Game 88: 3 blue, 18 red, 14 green; 11 red, 14 green; 2 blue, 10 red, 4 green',\n 'Game 89: 5 red, 4 green; 3 red, 2 blue, 1 green; 2 blue, 4 green, 3 red; 2 green, 2 blue, 2 red',\n 'Game 90: 14 blue, 10 red, 2 green; 11 blue, 3 red, 1 green; 5 blue, 2 green, 14 red',\n 'Game 91: 9 blue, 4 red, 4 green; 4 red, 1 blue; 3 blue, 20 red',\n 'Game 92: 3 red, 2 green, 7 blue; 2 green, 10 red, 8 blue; 9 red, 5 blue, 5 green; 1 blue, 2 green, 3 red; 10 red, 13 blue, 9 green; 11 blue, 7 red',\n 'Game 93: 9 red, 2 blue, 1 green; 6 red, 2 blue, 11 green; 1 green, 1 blue, 10 red; 9 red, 8 green',\n 'Game 94: 18 green, 3 red; 2 blue, 4 green, 12 red; 5 red, 1 blue, 13 green; 2 blue, 15 green, 7 red',\n 'Game 95: 12 green; 1 red, 3 green, 1 blue; 13 green, 2 red, 1 blue; 9 green; 2 green, 1 blue; 1 blue, 4 green, 1 red',\n 'Game 96: 5 red, 4 green, 2 blue; 10 red, 3 blue, 5 green; 14 blue, 11 green, 4 red; 14 green, 7 blue, 13 red; 17 red, 9 green, 6 blue; 8 red, 4 blue, 13 green',\n 'Game 97: 3 green, 7 blue; 7 red, 4 blue; 5 blue, 6 red, 2 green',\n 'Game 98: 9 green; 8 green, 4 blue; 6 blue, 2 red, 1 green; 4 green, 1 blue; 5 blue, 2 green, 2 red',\n 'Game 99: 3 red, 1 green, 5 blue; 1 red; 3 blue, 4 red; 3 blue, 1 green, 5 red',\n 'Game 100: 3 red, 3 blue, 10 green; 3 green, 1 blue, 6 red; 5 red, 4 green, 7 blue']"
     },
     "execution_count": 23,
     "metadata": {},
     "output_type": "execute_result"
    }
   ],
   "source": [
    "lines = input.split(\"\\n\")\n",
    "lines"
   ],
   "metadata": {
    "collapsed": false,
    "ExecuteTime": {
     "end_time": "2023-12-04T14:42:23.016232554Z",
     "start_time": "2023-12-04T14:42:22.996750886Z"
    }
   },
   "id": "60d654994c54347c"
  },
  {
   "cell_type": "code",
   "execution_count": 25,
   "outputs": [
    {
     "data": {
      "text/plain": "[(1,\n  [{'blue': 4, 'red': 7, 'green': 5},\n   {'blue': 3, 'red': 4, 'green': 16},\n   {'red': 3, 'green': 11}]),\n (2,\n  [{'blue': 20, 'red': 8, 'green': 1},\n   {'blue': 1, 'green': 2, 'red': 8},\n   {'red': 9, 'green': 4, 'blue': 18},\n   {'green': 2, 'red': 7, 'blue': 2},\n   {'blue': 10, 'red': 2, 'green': 5}]),\n (3,\n  [{'red': 2, 'green': 5, 'blue': 1},\n   {'blue': 3, 'green': 5},\n   {'blue': 8, 'green': 13, 'red': 2},\n   {'green': 9, 'blue': 3},\n   {'green': 12, 'blue': 13},\n   {'green': 3, 'blue': 3, 'red': 1}]),\n (4,\n  [{'red': 1, 'green': 6, 'blue': 4},\n   {'green': 3, 'blue': 1, 'red': 1},\n   {'blue': 7, 'red': 1, 'green': 2}]),\n (5,\n  [{'green': 2, 'blue': 9, 'red': 1},\n   {'green': 3, 'blue': 1, 'red': 3},\n   {'red': 1, 'blue': 4, 'green': 9}]),\n (6,\n  [{'blue': 2, 'red': 5, 'green': 7},\n   {'blue': 5, 'red': 8, 'green': 3},\n   {'red': 2, 'blue': 9, 'green': 2}]),\n (7,\n  [{'green': 7, 'blue': 7, 'red': 2},\n   {'red': 2, 'green': 7, 'blue': 16},\n   {'blue': 17, 'green': 3, 'red': 3},\n   {'blue': 2, 'green': 5, 'red': 3}]),\n (8,\n  [{'red': 4, 'green': 3},\n   {'green': 9, 'red': 2, 'blue': 2},\n   {'red': 1, 'blue': 3, 'green': 6}]),\n (9,\n  [{'red': 5, 'green': 3, 'blue': 13},\n   {'red': 11, 'blue': 15, 'green': 1},\n   {'red': 7, 'blue': 2}]),\n (10,\n  [{'red': 15, 'green': 3},\n   {'green': 7, 'blue': 4, 'red': 11},\n   {'red': 13, 'blue': 13},\n   {'blue': 2, 'green': 5, 'red': 8}]),\n (11,\n  [{'red': 7, 'green': 3},\n   {'blue': 7, 'red': 16, 'green': 4},\n   {'green': 6, 'blue': 6, 'red': 12},\n   {'red': 11, 'green': 4, 'blue': 4},\n   {'red': 10, 'blue': 6, 'green': 2},\n   {'green': 3, 'red': 7, 'blue': 6}]),\n (12,\n  [{'blue': 1, 'red': 2},\n   {'green': 2, 'blue': 15},\n   {'green': 6, 'blue': 5},\n   {'blue': 6, 'green': 4},\n   {'blue': 5, 'green': 3},\n   {'red': 3, 'blue': 3, 'green': 10}]),\n (13,\n  [{'red': 10, 'green': 4},\n   {'red': 9, 'blue': 2, 'green': 3},\n   {'red': 6, 'green': 7, 'blue': 1},\n   {'red': 9, 'green': 7, 'blue': 1},\n   {'blue': 3},\n   {'blue': 3, 'red': 3, 'green': 8}]),\n (14,\n  [{'blue': 12, 'red': 3, 'green': 4},\n   {'green': 3, 'red': 1},\n   {'green': 6, 'blue': 16}]),\n (15,\n  [{'green': 2, 'red': 3, 'blue': 2},\n   {'blue': 14, 'red': 1, 'green': 17},\n   {'blue': 13, 'green': 11, 'red': 10},\n   {'green': 5, 'red': 7, 'blue': 5},\n   {'green': 2, 'blue': 3, 'red': 6},\n   {'green': 9, 'blue': 2, 'red': 5}]),\n (16,\n  [{'blue': 2, 'red': 1},\n   {'red': 1, 'green': 2, 'blue': 3},\n   {'green': 4, 'blue': 9, 'red': 3},\n   {'green': 1, 'red': 4, 'blue': 8},\n   {'blue': 7, 'red': 11, 'green': 1}]),\n (17,\n  [{'green': 9, 'blue': 8, 'red': 6},\n   {'red': 8, 'green': 18, 'blue': 1},\n   {'red': 18, 'green': 19, 'blue': 1}]),\n (18,\n  [{'green': 1, 'red': 4, 'blue': 5},\n   {'green': 10, 'blue': 8},\n   {'green': 12, 'blue': 10}]),\n (19,\n  [{'red': 3, 'green': 11, 'blue': 12},\n   {'green': 16, 'red': 1, 'blue': 20},\n   {'green': 9, 'red': 2, 'blue': 14},\n   {'blue': 5, 'green': 2, 'red': 2},\n   {'blue': 20, 'red': 3, 'green': 10},\n   {'green': 4, 'blue': 3}]),\n (20,\n  [{'red': 17, 'blue': 3, 'green': 9},\n   {'green': 6, 'red': 1, 'blue': 7},\n   {'red': 6, 'blue': 2},\n   {'blue': 1, 'green': 4, 'red': 5},\n   {'green': 6, 'red': 5},\n   {'blue': 10, 'green': 11, 'red': 2}]),\n (21,\n  [{'red': 9, 'blue': 4, 'green': 6},\n   {'red': 14, 'green': 9},\n   {'red': 1, 'blue': 1, 'green': 12}]),\n (22,\n  [{'green': 5, 'red': 4},\n   {'green': 1, 'red': 1, 'blue': 2},\n   {'red': 5, 'green': 4, 'blue': 4},\n   {'green': 2, 'blue': 2, 'red': 5},\n   {'green': 8, 'blue': 4, 'red': 16},\n   {'red': 15, 'green': 3}]),\n (23,\n  [{'green': 5, 'red': 14},\n   {'blue': 6, 'green': 2, 'red': 14},\n   {'blue': 4, 'red': 8, 'green': 4},\n   {'blue': 4, 'red': 9, 'green': 8},\n   {'blue': 9, 'green': 3}]),\n (24,\n  [{'blue': 13, 'green': 9, 'red': 13},\n   {'blue': 11, 'red': 14, 'green': 10},\n   {'green': 12, 'blue': 5, 'red': 14}]),\n (25,\n  [{'green': 11, 'blue': 1},\n   {'red': 12, 'green': 8, 'blue': 5},\n   {'blue': 1, 'green': 8, 'red': 6}]),\n (26,\n  [{'blue': 4, 'green': 1},\n   {'green': 1, 'red': 5, 'blue': 6},\n   {'green': 8, 'blue': 5, 'red': 6},\n   {'blue': 2, 'red': 2, 'green': 8},\n   {'green': 8, 'red': 2, 'blue': 4},\n   {'red': 7, 'blue': 2, 'green': 7}]),\n (27,\n  [{'red': 8, 'blue': 1, 'green': 8},\n   {'red': 5, 'green': 2},\n   {'blue': 2, 'green': 9, 'red': 9},\n   {'blue': 2}]),\n (28,\n  [{'green': 2, 'blue': 1},\n   {'green': 2},\n   {'blue': 1},\n   {'blue': 1, 'red': 1},\n   {'blue': 1},\n   {'green': 1}]),\n (29,\n  [{'red': 12, 'green': 8, 'blue': 13},\n   {'green': 13, 'red': 15},\n   {'red': 12, 'green': 18, 'blue': 10},\n   {'green': 7, 'red': 20, 'blue': 5},\n   {'red': 20, 'green': 7, 'blue': 10},\n   {'green': 9, 'blue': 13}]),\n (30,\n  [{'red': 5, 'blue': 3},\n   {'red': 2},\n   {'green': 2, 'blue': 6, 'red': 7},\n   {'red': 5}]),\n (31,\n  [{'red': 14, 'blue': 7, 'green': 2},\n   {'green': 1, 'red': 11, 'blue': 9},\n   {'red': 3, 'green': 2, 'blue': 5},\n   {'green': 1, 'blue': 9, 'red': 8},\n   {'blue': 8, 'red': 8, 'green': 1}]),\n (32,\n  [{'green': 2, 'blue': 6, 'red': 2},\n   {'blue': 2, 'red': 4},\n   {'green': 1, 'blue': 9, 'red': 1},\n   {'red': 3, 'blue': 13, 'green': 1}]),\n (33,\n  [{'green': 6, 'blue': 8, 'red': 7},\n   {'blue': 3, 'green': 1, 'red': 8},\n   {'red': 6, 'blue': 11},\n   {'blue': 10, 'red': 3, 'green': 7},\n   {'blue': 1, 'red': 3, 'green': 6}]),\n (34,\n  [{'red': 1, 'blue': 1, 'green': 8},\n   {'blue': 5, 'red': 10, 'green': 11},\n   {'green': 2, 'red': 10, 'blue': 2}]),\n (35,\n  [{'blue': 2, 'green': 15},\n   {'red': 3, 'blue': 3, 'green': 6},\n   {'green': 13, 'red': 17, 'blue': 3},\n   {'green': 18, 'blue': 1, 'red': 18},\n   {'green': 16, 'blue': 3},\n   {'green': 11, 'red': 15}]),\n (36,\n  [{'red': 16, 'green': 4, 'blue': 1},\n   {'red': 8, 'blue': 2, 'green': 5},\n   {'green': 5, 'blue': 2, 'red': 9}]),\n (37,\n  [{'green': 3, 'blue': 7},\n   {'blue': 8, 'red': 5, 'green': 6},\n   {'blue': 5, 'red': 1, 'green': 13}]),\n (38,\n  [{'green': 6, 'blue': 6},\n   {'blue': 11, 'green': 8, 'red': 1},\n   {'blue': 5, 'green': 16}]),\n (39,\n  [{'red': 2, 'blue': 4, 'green': 5},\n   {'red': 1, 'green': 2, 'blue': 8},\n   {'green': 16, 'blue': 15, 'red': 2},\n   {'green': 6, 'blue': 16, 'red': 1},\n   {'green': 16, 'blue': 18, 'red': 1}]),\n (40,\n  [{'green': 3, 'blue': 6, 'red': 7},\n   {'blue': 1, 'red': 17},\n   {'green': 4, 'red': 6},\n   {'red': 13}]),\n (41,\n  [{'red': 6, 'green': 5, 'blue': 6},\n   {'green': 4, 'blue': 2},\n   {'red': 6, 'blue': 1, 'green': 4},\n   {'blue': 4, 'green': 13},\n   {'blue': 3, 'red': 2},\n   {'blue': 2, 'red': 5, 'green': 3}]),\n (42,\n  [{'red': 8, 'blue': 5},\n   {'blue': 15, 'red': 13, 'green': 3},\n   {'red': 6, 'blue': 18, 'green': 4}]),\n (43,\n  [{'red': 5, 'green': 1, 'blue': 1},\n   {'red': 2, 'green': 2, 'blue': 3},\n   {'blue': 4, 'red': 3, 'green': 1}]),\n (44,\n  [{'blue': 6, 'green': 12},\n   {'blue': 7, 'red': 12, 'green': 11},\n   {'green': 12, 'blue': 2, 'red': 13},\n   {'green': 8, 'blue': 8, 'red': 12}]),\n (45,\n  [{'blue': 18, 'red': 15, 'green': 8},\n   {'red': 17, 'blue': 3},\n   {'green': 1, 'red': 2, 'blue': 15}]),\n (46,\n  [{'blue': 3, 'green': 2, 'red': 5},\n   {'blue': 11, 'green': 2, 'red': 19},\n   {'green': 3, 'red': 19, 'blue': 13}]),\n (47,\n  [{'green': 9, 'red': 2},\n   {'red': 7, 'green': 10},\n   {'blue': 2, 'green': 9, 'red': 1},\n   {'blue': 5}]),\n (48,\n  [{'blue': 8, 'green': 8},\n   {'red': 1, 'green': 17},\n   {'green': 9, 'red': 6, 'blue': 8},\n   {'green': 13, 'red': 3, 'blue': 1}]),\n (49,\n  [{'blue': 17, 'red': 2, 'green': 1},\n   {'blue': 12, 'green': 1, 'red': 4},\n   {'green': 1, 'red': 2, 'blue': 13}]),\n (50,\n  [{'red': 4, 'blue': 2, 'green': 9},\n   {'green': 8, 'blue': 2, 'red': 6},\n   {'green': 9, 'blue': 2, 'red': 14}]),\n (51,\n  [{'red': 6, 'green': 3, 'blue': 8},\n   {'green': 5, 'blue': 16, 'red': 1},\n   {'green': 2, 'red': 13, 'blue': 14},\n   {'red': 14, 'green': 12, 'blue': 19},\n   {'blue': 19, 'green': 13, 'red': 9},\n   {'red': 6, 'blue': 15, 'green': 7}]),\n (52,\n  [{'blue': 18, 'red': 2, 'green': 5},\n   {'green': 2, 'red': 5},\n   {'red': 6, 'green': 10, 'blue': 3},\n   {'green': 3, 'blue': 6, 'red': 6}]),\n (53,\n  [{'red': 11, 'green': 4},\n   {'blue': 2, 'red': 3},\n   {'blue': 3, 'red': 13, 'green': 11},\n   {'blue': 11, 'red': 8, 'green': 5}]),\n (54,\n  [{'green': 4, 'red': 1, 'blue': 7},\n   {'green': 4, 'red': 8, 'blue': 8},\n   {'red': 4, 'green': 5},\n   {'blue': 8, 'green': 4, 'red': 2},\n   {'green': 4, 'blue': 3},\n   {'blue': 3, 'green': 3, 'red': 3}]),\n (55,\n  [{'red': 9, 'green': 1, 'blue': 1},\n   {'green': 1, 'red': 8},\n   {'red': 4},\n   {'blue': 7, 'green': 7},\n   {'blue': 6, 'green': 5, 'red': 6},\n   {'blue': 5, 'red': 8, 'green': 4}]),\n (56, [{'blue': 1}, {'red': 3, 'blue': 2}, {'red': 1, 'green': 2}]),\n (57,\n  [{'green': 7, 'red': 2, 'blue': 5},\n   {'green': 6, 'red': 1},\n   {'green': 1, 'red': 6},\n   {'red': 1, 'green': 20},\n   {'green': 1, 'red': 4, 'blue': 2},\n   {'green': 15, 'red': 7}]),\n (58,\n  [{'green': 3, 'red': 8, 'blue': 5},\n   {'red': 2, 'green': 3},\n   {'blue': 2, 'green': 2, 'red': 12},\n   {'blue': 1, 'green': 3, 'red': 16},\n   {'blue': 4, 'red': 9, 'green': 3}]),\n (59,\n  [{'red': 2, 'blue': 5, 'green': 1},\n   {'red': 2, 'green': 3},\n   {'red': 12, 'blue': 5},\n   {'green': 7, 'blue': 3, 'red': 4},\n   {'green': 1, 'blue': 5, 'red': 14},\n   {'red': 8, 'green': 11, 'blue': 2}]),\n (60,\n  [{'blue': 12, 'red': 3, 'green': 2},\n   {'green': 2, 'blue': 6, 'red': 1},\n   {'blue': 1, 'red': 2, 'green': 3},\n   {'green': 7, 'blue': 1, 'red': 2}]),\n (61,\n  [{'blue': 6, 'red': 6, 'green': 7},\n   {'green': 2, 'red': 5, 'blue': 5},\n   {'blue': 1, 'green': 3, 'red': 15},\n   {'blue': 6, 'green': 8, 'red': 14}]),\n (62,\n  [{'blue': 1, 'red': 6, 'green': 2},\n   {'green': 5, 'red': 5, 'blue': 11},\n   {'red': 5, 'green': 6, 'blue': 8},\n   {'green': 2, 'blue': 17},\n   {'red': 2, 'green': 7, 'blue': 5},\n   {'blue': 3, 'green': 5, 'red': 8}]),\n (63,\n  [{'red': 6, 'green': 1, 'blue': 9},\n   {'red': 7, 'green': 1, 'blue': 11},\n   {'green': 3, 'red': 4},\n   {'green': 4, 'blue': 10, 'red': 7},\n   {'blue': 13, 'green': 11, 'red': 5},\n   {'green': 14}]),\n (64,\n  [{'green': 13, 'red': 11, 'blue': 1},\n   {'red': 1, 'green': 2},\n   {'blue': 3, 'green': 9, 'red': 19}]),\n (65,\n  [{'blue': 2, 'red': 11, 'green': 3},\n   {'green': 5, 'red': 6},\n   {'blue': 2, 'green': 9, 'red': 9},\n   {'green': 1, 'blue': 5, 'red': 3},\n   {'red': 4, 'blue': 4, 'green': 6},\n   {'blue': 2, 'green': 7, 'red': 1}]),\n (66,\n  [{'red': 4, 'blue': 7, 'green': 3},\n   {'green': 1, 'blue': 6, 'red': 7},\n   {'green': 1, 'red': 1, 'blue': 1}]),\n (67,\n  [{'green': 1, 'red': 8},\n   {'green': 4, 'blue': 1, 'red': 3},\n   {'red': 8, 'green': 3}]),\n (68,\n  [{'blue': 3, 'red': 4},\n   {'blue': 1, 'green': 1},\n   {'blue': 2, 'red': 6, 'green': 3},\n   {'blue': 1, 'green': 1, 'red': 3},\n   {'red': 7, 'blue': 1, 'green': 4},\n   {'green': 1, 'red': 2, 'blue': 3}]),\n (69,\n  [{'green': 6, 'blue': 2, 'red': 3},\n   {'blue': 3, 'red': 3},\n   {'green': 1},\n   {'blue': 1, 'red': 2, 'green': 8},\n   {'green': 1, 'red': 1}]),\n (70,\n  [{'blue': 7, 'green': 15, 'red': 3},\n   {'green': 8, 'blue': 6, 'red': 5},\n   {'blue': 7, 'red': 1, 'green': 3}]),\n (71,\n  [{'green': 4, 'blue': 3, 'red': 7},\n   {'red': 6, 'green': 6, 'blue': 10},\n   {'red': 3, 'green': 9},\n   {'blue': 7, 'red': 1, 'green': 13},\n   {'blue': 3, 'red': 5, 'green': 11},\n   {'blue': 8, 'red': 8, 'green': 5}]),\n (72,\n  [{'green': 10, 'blue': 4},\n   {'blue': 4, 'green': 8, 'red': 2},\n   {'red': 2, 'green': 6, 'blue': 6},\n   {'red': 1, 'blue': 5},\n   {'green': 13, 'blue': 5},\n   {'green': 8, 'blue': 3, 'red': 2}]),\n (73,\n  [{'blue': 9, 'red': 1, 'green': 13},\n   {'red': 2, 'green': 16, 'blue': 6},\n   {'red': 1, 'blue': 8, 'green': 17},\n   {'green': 7, 'blue': 1},\n   {'blue': 8, 'green': 1, 'red': 1}]),\n (74,\n  [{'green': 2, 'red': 2},\n   {'red': 1, 'blue': 5},\n   {'blue': 7, 'green': 3},\n   {'blue': 7, 'green': 3, 'red': 7}]),\n (75,\n  [{'green': 3, 'blue': 5},\n   {'green': 2, 'red': 1, 'blue': 9},\n   {'green': 17, 'blue': 13, 'red': 3},\n   {'blue': 3, 'red': 2, 'green': 8},\n   {'green': 7, 'red': 2, 'blue': 8},\n   {'green': 1, 'blue': 14}]),\n (76,\n  [{'red': 19},\n   {'blue': 2, 'red': 20},\n   {'blue': 3, 'red': 3},\n   {'red': 20, 'blue': 3},\n   {'red': 6, 'blue': 4, 'green': 1}]),\n (77,\n  [{'red': 2, 'green': 5},\n   {'red': 2, 'green': 2},\n   {'green': 4},\n   {'green': 4, 'red': 3, 'blue': 3},\n   {'red': 2}]),\n (78,\n  [{'green': 4, 'red': 16},\n   {'green': 5, 'red': 2, 'blue': 2},\n   {'green': 4, 'blue': 2, 'red': 11},\n   {'blue': 1, 'green': 1, 'red': 6},\n   {'blue': 2, 'red': 7}]),\n (79,\n  [{'blue': 8, 'green': 2},\n   {'red': 3, 'green': 3},\n   {'red': 3, 'blue': 9, 'green': 4},\n   {'red': 1, 'blue': 2, 'green': 4},\n   {'green': 8, 'red': 6, 'blue': 9},\n   {'red': 2, 'blue': 10, 'green': 9}]),\n (80,\n  [{'red': 9, 'blue': 17, 'green': 2},\n   {'red': 5, 'green': 1, 'blue': 6},\n   {'red': 2, 'blue': 20},\n   {'red': 6, 'blue': 12}]),\n (81,\n  [{'red': 5, 'blue': 4, 'green': 1},\n   {'green': 15, 'blue': 8, 'red': 2},\n   {'blue': 5, 'red': 2, 'green': 9},\n   {'green': 11, 'blue': 1, 'red': 3},\n   {'green': 15, 'red': 1, 'blue': 3}]),\n (82,\n  [{'blue': 2, 'green': 12},\n   {'blue': 12, 'green': 12, 'red': 14},\n   {'blue': 4, 'green': 16, 'red': 7}]),\n (83,\n  [{'blue': 6, 'red': 7, 'green': 11},\n   {'red': 2, 'green': 6, 'blue': 4},\n   {'blue': 6, 'red': 1},\n   {'blue': 7, 'red': 12, 'green': 13},\n   {'green': 10, 'blue': 6, 'red': 10},\n   {'red': 6, 'green': 4}]),\n (84,\n  [{'green': 2, 'red': 5, 'blue': 1},\n   {'green': 4, 'blue': 3, 'red': 2},\n   {'green': 2, 'red': 1, 'blue': 1},\n   {'red': 5, 'blue': 4, 'green': 4}]),\n (85,\n  [{'blue': 1},\n   {'green': 1, 'red': 2},\n   {'red': 3, 'green': 11},\n   {'green': 6, 'red': 14, 'blue': 1}]),\n (86,\n  [{'green': 3, 'blue': 1, 'red': 3},\n   {'red': 3, 'blue': 6, 'green': 2},\n   {'blue': 4, 'red': 1},\n   {'blue': 5, 'green': 4, 'red': 3},\n   {'blue': 2, 'red': 3, 'green': 4},\n   {'blue': 7, 'green': 2, 'red': 3}]),\n (87,\n  [{'green': 1, 'red': 5, 'blue': 5},\n   {'red': 6, 'green': 4, 'blue': 1},\n   {'green': 2, 'red': 4, 'blue': 1},\n   {'red': 7, 'green': 4, 'blue': 5},\n   {'green': 3, 'red': 4, 'blue': 1}]),\n (88,\n  [{'blue': 3, 'red': 18, 'green': 14},\n   {'red': 11, 'green': 14},\n   {'blue': 2, 'red': 10, 'green': 4}]),\n (89,\n  [{'red': 5, 'green': 4},\n   {'red': 3, 'blue': 2, 'green': 1},\n   {'blue': 2, 'green': 4, 'red': 3},\n   {'green': 2, 'blue': 2, 'red': 2}]),\n (90,\n  [{'blue': 14, 'red': 10, 'green': 2},\n   {'blue': 11, 'red': 3, 'green': 1},\n   {'blue': 5, 'green': 2, 'red': 14}]),\n (91,\n  [{'blue': 9, 'red': 4, 'green': 4},\n   {'red': 4, 'blue': 1},\n   {'blue': 3, 'red': 20}]),\n (92,\n  [{'red': 3, 'green': 2, 'blue': 7},\n   {'green': 2, 'red': 10, 'blue': 8},\n   {'red': 9, 'blue': 5, 'green': 5},\n   {'blue': 1, 'green': 2, 'red': 3},\n   {'red': 10, 'blue': 13, 'green': 9},\n   {'blue': 11, 'red': 7}]),\n (93,\n  [{'red': 9, 'blue': 2, 'green': 1},\n   {'red': 6, 'blue': 2, 'green': 11},\n   {'green': 1, 'blue': 1, 'red': 10},\n   {'red': 9, 'green': 8}]),\n (94,\n  [{'green': 18, 'red': 3},\n   {'blue': 2, 'green': 4, 'red': 12},\n   {'red': 5, 'blue': 1, 'green': 13},\n   {'blue': 2, 'green': 15, 'red': 7}]),\n (95,\n  [{'green': 12},\n   {'red': 1, 'green': 3, 'blue': 1},\n   {'green': 13, 'red': 2, 'blue': 1},\n   {'green': 9},\n   {'green': 2, 'blue': 1},\n   {'blue': 1, 'green': 4, 'red': 1}]),\n (96,\n  [{'red': 5, 'green': 4, 'blue': 2},\n   {'red': 10, 'blue': 3, 'green': 5},\n   {'blue': 14, 'green': 11, 'red': 4},\n   {'green': 14, 'blue': 7, 'red': 13},\n   {'red': 17, 'green': 9, 'blue': 6},\n   {'red': 8, 'blue': 4, 'green': 13}]),\n (97,\n  [{'green': 3, 'blue': 7},\n   {'red': 7, 'blue': 4},\n   {'blue': 5, 'red': 6, 'green': 2}]),\n (98,\n  [{'green': 9},\n   {'green': 8, 'blue': 4},\n   {'blue': 6, 'red': 2, 'green': 1},\n   {'green': 4, 'blue': 1},\n   {'blue': 5, 'green': 2, 'red': 2}]),\n (99,\n  [{'red': 3, 'green': 1, 'blue': 5},\n   {'red': 1},\n   {'blue': 3, 'red': 4},\n   {'blue': 3, 'green': 1, 'red': 5}]),\n (100,\n  [{'red': 3, 'blue': 3, 'green': 10},\n   {'green': 3, 'blue': 1, 'red': 6},\n   {'red': 5, 'green': 4, 'blue': 7}])]"
     },
     "execution_count": 25,
     "metadata": {},
     "output_type": "execute_result"
    }
   ],
   "source": [
    "game_data = [parse(line) for line in lines]\n",
    "game_data"
   ],
   "metadata": {
    "collapsed": false,
    "ExecuteTime": {
     "end_time": "2023-12-04T14:43:00.833924022Z",
     "start_time": "2023-12-04T14:43:00.665910909Z"
    }
   },
   "id": "85c5120c5217afc3"
  },
  {
   "cell_type": "code",
   "execution_count": 27,
   "outputs": [],
   "source": [
    "ball_nums = {\"red\": 12, \"green\": 13, \"blue\": 14}"
   ],
   "metadata": {
    "collapsed": false,
    "ExecuteTime": {
     "end_time": "2023-12-04T14:47:27.256429441Z",
     "start_time": "2023-12-04T14:47:27.205498067Z"
    }
   },
   "id": "df95958be4e5f70e"
  },
  {
   "cell_type": "code",
   "execution_count": 31,
   "outputs": [
    {
     "data": {
      "text/plain": "[3,\n 4,\n 5,\n 6,\n 8,\n 13,\n 16,\n 18,\n 25,\n 26,\n 27,\n 28,\n 30,\n 32,\n 33,\n 34,\n 37,\n 41,\n 43,\n 47,\n 54,\n 55,\n 56,\n 60,\n 65,\n 66,\n 67,\n 68,\n 69,\n 71,\n 72,\n 74,\n 77,\n 79,\n 83,\n 84,\n 86,\n 87,\n 89,\n 92,\n 93,\n 95,\n 97,\n 98,\n 99,\n 100]"
     },
     "execution_count": 31,
     "metadata": {},
     "output_type": "execute_result"
    }
   ],
   "source": [
    "res = []\n",
    "for i, (game_id, game) in enumerate(game_data):\n",
    "    if not any([any([v > ball_nums[k] for k, v in round.items()]) for round in game]):\n",
    "        res.append(game_id)\n",
    "        \n",
    "res"
   ],
   "metadata": {
    "collapsed": false,
    "ExecuteTime": {
     "end_time": "2023-12-04T14:49:51.379383450Z",
     "start_time": "2023-12-04T14:49:51.335043676Z"
    }
   },
   "id": "b8ab83bc4e4daacb"
  },
  {
   "cell_type": "code",
   "execution_count": 32,
   "outputs": [
    {
     "data": {
      "text/plain": "2512"
     },
     "execution_count": 32,
     "metadata": {},
     "output_type": "execute_result"
    }
   ],
   "source": [
    "sum(res)"
   ],
   "metadata": {
    "collapsed": false,
    "ExecuteTime": {
     "end_time": "2023-12-04T14:50:00.883320237Z",
     "start_time": "2023-12-04T14:50:00.841904836Z"
    }
   },
   "id": "44647f634092f188"
  },
  {
   "cell_type": "code",
   "execution_count": 36,
   "outputs": [
    {
     "data": {
      "text/plain": "[448,\n 900,\n 338,\n 42,\n 243,\n 504,\n 357,\n 108,\n 495,\n 1365,\n 672,\n 450,\n 240,\n 288,\n 2380,\n 396,\n 2736,\n 480,\n 960,\n 1870,\n 672,\n 512,\n 1008,\n 2184,\n 660,\n 336,\n 162,\n 2,\n 4680,\n 84,\n 252,\n 104,\n 616,\n 550,\n 972,\n 160,\n 520,\n 176,\n 576,\n 408,\n 468,\n 936,\n 40,\n 1248,\n 2448,\n 741,\n 350,\n 816,\n 68,\n 252,\n 3458,\n 1080,\n 1573,\n 320,\n 441,\n 12,\n 700,\n 240,\n 770,\n 252,\n 720,\n 952,\n 1274,\n 741,\n 495,\n 147,\n 32,\n 84,\n 72,\n 525,\n 1040,\n 156,\n 306,\n 147,\n 714,\n 80,\n 45,\n 160,\n 540,\n 360,\n 600,\n 2688,\n 1092,\n 80,\n 154,\n 84,\n 140,\n 756,\n 40,\n 392,\n 720,\n 1170,\n 220,\n 432,\n 26,\n 3332,\n 147,\n 108,\n 25,\n 420]"
     },
     "execution_count": 36,
     "metadata": {},
     "output_type": "execute_result"
    }
   ],
   "source": [
    "res2 = []\n",
    "for i, (game_id, game) in enumerate(game_data):\n",
    "    min_balls = {key: max([round.get(key, 0) for round in game]) for key in ball_nums.keys()}\n",
    "    res2.append(np.prod(list(min_balls.values()), axis=None))\n",
    "    \n",
    "res2"
   ],
   "metadata": {
    "collapsed": false,
    "ExecuteTime": {
     "end_time": "2023-12-04T14:54:34.890436857Z",
     "start_time": "2023-12-04T14:54:34.819197624Z"
    }
   },
   "id": "8c8d55431d51ca1f"
  },
  {
   "cell_type": "code",
   "execution_count": 37,
   "outputs": [
    {
     "data": {
      "text/plain": "67335"
     },
     "execution_count": 37,
     "metadata": {},
     "output_type": "execute_result"
    }
   ],
   "source": [
    "sum(res2)"
   ],
   "metadata": {
    "collapsed": false,
    "ExecuteTime": {
     "end_time": "2023-12-04T14:54:41.006030593Z",
     "start_time": "2023-12-04T14:54:40.962470831Z"
    }
   },
   "id": "fc6386bf57e33bb4"
  }
 ],
 "metadata": {
  "kernelspec": {
   "display_name": "Python 3",
   "language": "python",
   "name": "python3"
  },
  "language_info": {
   "codemirror_mode": {
    "name": "ipython",
    "version": 2
   },
   "file_extension": ".py",
   "mimetype": "text/x-python",
   "name": "python",
   "nbconvert_exporter": "python",
   "pygments_lexer": "ipython2",
   "version": "2.7.6"
  }
 },
 "nbformat": 4,
 "nbformat_minor": 5
}
