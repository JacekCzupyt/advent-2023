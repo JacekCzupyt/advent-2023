{
 "cells": [
  {
   "cell_type": "code",
   "execution_count": 1,
   "id": "initial_id",
   "metadata": {
    "collapsed": true,
    "ExecuteTime": {
     "end_time": "2023-12-08T22:23:28.800777600Z",
     "start_time": "2023-12-08T22:23:28.020780100Z"
    }
   },
   "outputs": [],
   "source": [
    "import numpy as np\n",
    "from tqdm import tqdm"
   ]
  },
  {
   "cell_type": "code",
   "execution_count": 7,
   "outputs": [],
   "source": [
    "input = \"\"\"LLR\n",
    "\n",
    "AAA = (BBB, BBB)\n",
    "BBB = (AAA, ZZZ)\n",
    "ZZZ = (ZZZ, ZZZ)\"\"\""
   ],
   "metadata": {
    "collapsed": false,
    "ExecuteTime": {
     "end_time": "2023-12-08T09:43:36.325331085Z",
     "start_time": "2023-12-08T09:43:36.312185395Z"
    }
   },
   "id": "42d9a03169350315"
  },
  {
   "cell_type": "code",
   "execution_count": 87,
   "outputs": [],
   "source": [
    "input = \"\"\"LR\n",
    "\n",
    "11A = (11B, XXX)\n",
    "11B = (XXX, 11Z)\n",
    "11Z = (11B, XXX)\n",
    "22A = (22B, XXX)\n",
    "22B = (22C, 22C)\n",
    "22C = (22Z, 22Z)\n",
    "22Z = (22B, 22B)\n",
    "XXX = (XXX, XXX)\"\"\""
   ],
   "metadata": {
    "collapsed": false,
    "ExecuteTime": {
     "end_time": "2023-12-08T16:18:29.358297343Z",
     "start_time": "2023-12-08T16:18:29.346335734Z"
    }
   },
   "id": "9b2b42b65f53ad4c"
  },
  {
   "cell_type": "code",
   "execution_count": 2,
   "outputs": [],
   "source": [
    "input = \"\"\"LRRRLRRRLRRLRLRRLLRRLLRLRRRLRRLRRRLRRLLRLRLRRRLRLLRRRLLRLRRRLRLRRRLRRRLRRRLRRRLRLLLRRRLRRLRRLRRRLRLRLRRLRLRRRLRLRLRLRRRLRRLRLRRRLRRLRRRLRRLLRRRLLRLLRLRRRLRLLRRLLRRRLRLLRRLRLRRLRRRLRLRLRLLRLRRRLRRRLRLLLRRRLRLRRRLRRLRRLLLLRLRRRLRLRRRLLRRRLRRRLRRRLLLRLRLRLLLLRRRLRRLRRRLRLRLRLRRRLRLRRRR\n",
    "\n",
    "VJN = (LNC, RRK)\n",
    "MJD = (HFS, VBQ)\n",
    "GHK = (BDH, QGD)\n",
    "GQG = (JVH, RGR)\n",
    "RDL = (QPQ, CNG)\n",
    "BDV = (JGN, RGX)\n",
    "TFD = (XLG, NQT)\n",
    "CVF = (DJM, PPL)\n",
    "PSD = (BCF, RRX)\n",
    "BLZ = (LPN, XVJ)\n",
    "BFJ = (TGL, BXH)\n",
    "PQM = (PDV, FPS)\n",
    "BKF = (KMG, SGP)\n",
    "RDF = (MJD, DKQ)\n",
    "DCF = (BHS, QLT)\n",
    "KCP = (JCM, MNP)\n",
    "CDG = (HHP, GRD)\n",
    "XDB = (XVQ, VHN)\n",
    "ZZZ = (MTL, KNJ)\n",
    "MPK = (SXH, GFC)\n",
    "GLV = (HMD, QTM)\n",
    "HMD = (QDQ, RKK)\n",
    "TTS = (XGQ, TFD)\n",
    "NHD = (BDV, XQJ)\n",
    "RRL = (SNF, GQG)\n",
    "PHN = (TDJ, JSG)\n",
    "NXP = (GVF, FHP)\n",
    "SFX = (KSN, MXH)\n",
    "XQL = (MDH, GHK)\n",
    "PBA = (RVX, RFP)\n",
    "LLN = (KKM, DMV)\n",
    "LLK = (XXH, HRX)\n",
    "LQF = (TXG, GXX)\n",
    "JGD = (NHQ, FHM)\n",
    "VMH = (NMK, KVC)\n",
    "SVD = (TTS, FTS)\n",
    "VMS = (FMF, CDD)\n",
    "RGR = (XQB, XVC)\n",
    "VTF = (MMF, FVC)\n",
    "HVC = (RDT, LJH)\n",
    "MXG = (KGF, NST)\n",
    "GQN = (NGC, RSC)\n",
    "RKN = (KXL, CCR)\n",
    "DDD = (NKM, JKX)\n",
    "DGF = (NNJ, NLC)\n",
    "TFV = (FGC, JTQ)\n",
    "CFK = (LSC, JFX)\n",
    "HPG = (JHQ, PLV)\n",
    "RSL = (RFJ, FCJ)\n",
    "JSG = (DRM, KHD)\n",
    "XBK = (NST, KGF)\n",
    "QQD = (RND, LCX)\n",
    "DJD = (QHF, KQJ)\n",
    "LFP = (QVN, CVF)\n",
    "TRB = (KTH, DDD)\n",
    "KJX = (KLJ, HCS)\n",
    "FPR = (SVC, NXM)\n",
    "RDR = (TSN, BPL)\n",
    "LNC = (TXR, LGB)\n",
    "SKV = (MCX, PTV)\n",
    "KCF = (NGC, RSC)\n",
    "SFH = (MRD, TNL)\n",
    "RPR = (KKM, DMV)\n",
    "HXH = (LLN, RPR)\n",
    "JLS = (LFT, PNR)\n",
    "LCX = (QVG, MCT)\n",
    "KGV = (NMB, KJN)\n",
    "KKM = (JLC, SKV)\n",
    "GXX = (QXJ, QNJ)\n",
    "CTH = (JRH, GHR)\n",
    "QVN = (PPL, DJM)\n",
    "NGM = (TMK, VNN)\n",
    "TJF = (LSS, LPS)\n",
    "NNJ = (NKJ, VHH)\n",
    "GNS = (PVJ, LMF)\n",
    "SPP = (NQM, NQM)\n",
    "FCV = (XHF, QPD)\n",
    "HJX = (VLV, XQF)\n",
    "SVC = (DPK, QVV)\n",
    "KHD = (TMN, LCB)\n",
    "NQM = (NRS, NRS)\n",
    "MHD = (XGH, DJD)\n",
    "NVG = (KVM, KPJ)\n",
    "DJM = (FNG, HXS)\n",
    "TVJ = (KCV, QFK)\n",
    "CMV = (VPV, NNM)\n",
    "DQR = (KNX, FJM)\n",
    "XXH = (JPV, XLP)\n",
    "GQQ = (LHB, BTF)\n",
    "JPM = (SNM, DDX)\n",
    "GFS = (VCL, QCN)\n",
    "JMH = (RMP, BFJ)\n",
    "VBQ = (HMV, XNS)\n",
    "RPQ = (JFP, JKF)\n",
    "GQV = (MRT, LMQ)\n",
    "HGX = (JRR, LDL)\n",
    "VRC = (FXJ, VNK)\n",
    "XHF = (JMJ, DTV)\n",
    "KFD = (BTM, PQT)\n",
    "NKM = (MXJ, MMR)\n",
    "CXX = (VRC, XBJ)\n",
    "SXK = (KTM, DSB)\n",
    "NQF = (TSV, DTT)\n",
    "RND = (MCT, QVG)\n",
    "LFX = (TMF, VTF)\n",
    "SXS = (PCC, RVJ)\n",
    "MKF = (SHQ, VSG)\n",
    "PFQ = (SJX, GLV)\n",
    "SGT = (NVV, QPT)\n",
    "NXM = (DPK, QVV)\n",
    "DGL = (NFM, TPX)\n",
    "JTQ = (LMM, HSM)\n",
    "DFL = (DQC, DJG)\n",
    "MXH = (NXL, THH)\n",
    "HPV = (GFX, CTH)\n",
    "LSC = (PNB, HXX)\n",
    "VFQ = (PTM, KGC)\n",
    "GLP = (BQF, NKQ)\n",
    "DDX = (QQD, QKV)\n",
    "HRX = (XLP, JPV)\n",
    "KJL = (GSH, HHF)\n",
    "HJN = (PKS, ZZZ)\n",
    "FPS = (QBL, GNG)\n",
    "HLS = (PDT, HGT)\n",
    "XHT = (LFB, FDC)\n",
    "RCC = (VKG, TJF)\n",
    "NXL = (XNH, XNH)\n",
    "PDX = (FHR, SSC)\n",
    "JPL = (SSC, FHR)\n",
    "CNH = (DTM, TTT)\n",
    "CJB = (KPJ, KVM)\n",
    "GHX = (QLD, GHQ)\n",
    "MSG = (MXG, XBK)\n",
    "PQQ = (QPT, NVV)\n",
    "QGG = (MQR, MQR)\n",
    "QBL = (SPP, JHH)\n",
    "FQQ = (VQD, KJX)\n",
    "QRD = (LQD, RKN)\n",
    "JKD = (FVD, BXL)\n",
    "DJX = (XVK, JJH)\n",
    "LCV = (RRL, CHK)\n",
    "BCF = (NRG, MRL)\n",
    "TXR = (XQK, PGF)\n",
    "BDH = (KMK, BVK)\n",
    "GTK = (KSN, MXH)\n",
    "HHP = (PMP, PFQ)\n",
    "QLD = (PTH, RDF)\n",
    "RFJ = (MHD, SPL)\n",
    "KFR = (SHF, SHF)\n",
    "VBD = (JCC, LDD)\n",
    "MVL = (HST, GRL)\n",
    "SHK = (XHT, RLT)\n",
    "XQB = (MVJ, QQM)\n",
    "LQD = (KXL, CCR)\n",
    "DMS = (LMK, LSK)\n",
    "FXQ = (GRL, HST)\n",
    "MXJ = (HGX, FVB)\n",
    "FHM = (SPN, HQJ)\n",
    "MKB = (FCD, FCD)\n",
    "QDD = (VLN, HCB)\n",
    "PTF = (DQC, DJG)\n",
    "RFH = (JHJ, PHN)\n",
    "GRD = (PMP, PFQ)\n",
    "DMD = (MMP, GLP)\n",
    "HCQ = (JQG, FLR)\n",
    "VPV = (TRG, BQQ)\n",
    "PDV = (QBL, GNG)\n",
    "CCT = (GMX, KCP)\n",
    "BCV = (DJX, DKC)\n",
    "VKG = (LSS, LPS)\n",
    "NGH = (TDQ, PHM)\n",
    "JVM = (KJK, GQQ)\n",
    "KMG = (MFS, QST)\n",
    "MPD = (LLF, PQN)\n",
    "QHK = (PNR, LFT)\n",
    "HHK = (RCC, HGD)\n",
    "MTL = (MVX, PJX)\n",
    "PJM = (NFM, TPX)\n",
    "BTM = (QKX, FRC)\n",
    "QKM = (NHQ, FHM)\n",
    "XVF = (PQN, LLF)\n",
    "NHG = (BSG, VBD)\n",
    "KQJ = (XDB, BVX)\n",
    "XKL = (QLC, LFP)\n",
    "VXX = (QLT, BHS)\n",
    "MVJ = (DLL, JTX)\n",
    "SJP = (BTM, PQT)\n",
    "QRT = (HHP, GRD)\n",
    "XFM = (LSC, JFX)\n",
    "RQH = (NGH, RPH)\n",
    "QDG = (TQS, MJR)\n",
    "PQT = (FRC, QKX)\n",
    "FHR = (SCF, FCV)\n",
    "DTV = (XHV, HXM)\n",
    "RGX = (RXQ, NGM)\n",
    "XVM = (RKN, LQD)\n",
    "KPV = (RLJ, LVJ)\n",
    "NRG = (JLM, SJG)\n",
    "NPD = (RCP, HJN)\n",
    "KLJ = (DXV, PMS)\n",
    "LSJ = (GXX, TXG)\n",
    "QLJ = (KXS, DSS)\n",
    "SGP = (MFS, QST)\n",
    "PSB = (HMX, JNQ)\n",
    "VNK = (JTK, QLJ)\n",
    "JVH = (XQB, XVC)\n",
    "GHR = (CRS, TLK)\n",
    "FCD = (VMX, VMX)\n",
    "JTX = (MCC, NPT)\n",
    "TDJ = (DRM, KHD)\n",
    "MFR = (HHC, BLZ)\n",
    "SNF = (JVH, RGR)\n",
    "JVQ = (RSQ, RFB)\n",
    "BHL = (BNM, GNS)\n",
    "QGB = (KJN, NMB)\n",
    "KTM = (GPC, MCH)\n",
    "TJP = (MRT, LMQ)\n",
    "MRD = (BMJ, NDV)\n",
    "LKS = (SXN, XBX)\n",
    "QHT = (NHD, KBM)\n",
    "VSN = (CNH, RHC)\n",
    "SKG = (BCP, JLJ)\n",
    "JMB = (PDV, FPS)\n",
    "DSS = (FPP, HDH)\n",
    "JRH = (CRS, TLK)\n",
    "LSA = (VRQ, RDR)\n",
    "FRC = (KPV, MTN)\n",
    "JMJ = (XHV, HXM)\n",
    "RRX = (MRL, NRG)\n",
    "FTS = (XGQ, TFD)\n",
    "QTS = (FMP, QDD)\n",
    "RQK = (JFP, JKF)\n",
    "XTS = (JCT, VGN)\n",
    "KKZ = (GDB, LRB)\n",
    "NDV = (LMX, VSH)\n",
    "PNB = (QGG, QGG)\n",
    "FPF = (XLQ, RSL)\n",
    "QFK = (RXL, GHD)\n",
    "MRS = (NVG, CJB)\n",
    "RCP = (PKS, PKS)\n",
    "HDH = (HBB, PGM)\n",
    "TMF = (FVC, MMF)\n",
    "PKS = (KNJ, MTL)\n",
    "FVB = (LDL, JRR)\n",
    "VSA = (XVJ, LPN)\n",
    "BTD = (TQS, MJR)\n",
    "FPP = (PGM, HBB)\n",
    "NMB = (BQR, LLK)\n",
    "SXM = (QQG, VMS)\n",
    "LDL = (CDG, QRT)\n",
    "HQJ = (RBL, TMD)\n",
    "QFG = (RHJ, MKF)\n",
    "CPX = (NRS, GFH)\n",
    "QQF = (SKG, RKL)\n",
    "SSC = (FCV, SCF)\n",
    "KXH = (VDQ, RFN)\n",
    "KVM = (DMS, NXK)\n",
    "DBJ = (GQN, KCF)\n",
    "VDQ = (BDL, JBM)\n",
    "LSK = (CHB, JMH)\n",
    "KBM = (BDV, XQJ)\n",
    "QVA = (QRD, XVM)\n",
    "PLV = (PQQ, SGT)\n",
    "FVG = (FXQ, MVL)\n",
    "QXJ = (FMJ, KBH)\n",
    "VQD = (HCS, KLJ)\n",
    "PCC = (BGT, HFQ)\n",
    "JTK = (KXS, DSS)\n",
    "QHF = (BVX, XDB)\n",
    "MRL = (SJG, JLM)\n",
    "NMK = (PXS, QQF)\n",
    "LMX = (HPV, TVR)\n",
    "PTV = (CCT, SBB)\n",
    "MHV = (TJP, GQV)\n",
    "GTX = (GQV, TJP)\n",
    "KCT = (SRH, GFS)\n",
    "SNS = (FPF, SLF)\n",
    "BCP = (RQH, PCB)\n",
    "RRK = (TXR, LGB)\n",
    "DQM = (SXH, GFC)\n",
    "VLJ = (CMR, BDX)\n",
    "QLT = (KVJ, SNS)\n",
    "QTM = (RKK, QDQ)\n",
    "QQG = (FMF, CDD)\n",
    "DST = (BKF, FJD)\n",
    "RGZ = (RFP, RVX)\n",
    "SBB = (GMX, KCP)\n",
    "DTT = (PTF, DFL)\n",
    "FHP = (LNF, FSK)\n",
    "FCH = (FQQ, LXM)\n",
    "LMQ = (XTB, HGC)\n",
    "HHF = (SDS, NPD)\n",
    "HXX = (QGG, BBB)\n",
    "PGM = (PGC, KTS)\n",
    "FXJ = (JTK, QLJ)\n",
    "RBQ = (LDJ, NKP)\n",
    "XTQ = (SLN, LTR)\n",
    "NGK = (KBJ, MSD)\n",
    "RVR = (RTX, MRS)\n",
    "JCT = (MDX, HFB)\n",
    "LHB = (CTX, JBL)\n",
    "RSQ = (CJF, TVJ)\n",
    "BQF = (XKL, NKK)\n",
    "HXM = (BQB, GLF)\n",
    "KDJ = (DMD, GHC)\n",
    "MQB = (FDF, VJN)\n",
    "AAA = (KNJ, MTL)\n",
    "XVC = (QQM, MVJ)\n",
    "PMP = (SJX, GLV)\n",
    "XPQ = (RLS, HJX)\n",
    "LMF = (TCQ, FQT)\n",
    "CNG = (GTX, MHV)\n",
    "LDJ = (THB, RDL)\n",
    "XVQ = (PFM, NHG)\n",
    "DKQ = (VBQ, HFS)\n",
    "SJV = (FHP, GVF)\n",
    "HMX = (HVC, NBN)\n",
    "SJX = (HMD, QTM)\n",
    "QVG = (FHJ, LFX)\n",
    "NVK = (QHT, PTS)\n",
    "KPJ = (NXK, DMS)\n",
    "RBX = (VJN, FDF)\n",
    "MRT = (HGC, XTB)\n",
    "FMF = (LSJ, LQF)\n",
    "JRR = (CDG, QRT)\n",
    "RTX = (NVG, CJB)\n",
    "HST = (NVX, SBC)\n",
    "TDQ = (SMT, FCK)\n",
    "KTS = (CKV, MTP)\n",
    "TMD = (KGV, QGB)\n",
    "MDL = (XHT, RLT)\n",
    "PTH = (MJD, DKQ)\n",
    "RFB = (CJF, TVJ)\n",
    "CDD = (LSJ, LQF)\n",
    "PTS = (NHD, KBM)\n",
    "NPX = (KCF, GQN)\n",
    "KBH = (DST, HTK)\n",
    "QPQ = (MHV, GTX)\n",
    "NXK = (LMK, LSK)\n",
    "THF = (MSD, KBJ)\n",
    "KJN = (LLK, BQR)\n",
    "LXC = (RFB, RSQ)\n",
    "KGC = (RXC, PFX)\n",
    "RLT = (FDC, LFB)\n",
    "DPK = (SCC, XCG)\n",
    "NST = (VHJ, XPQ)\n",
    "FNG = (DDL, CPP)\n",
    "XQK = (JCJ, BCV)\n",
    "JCC = (DQR, GPL)\n",
    "TJB = (SHF, KPB)\n",
    "GMX = (MNP, JCM)\n",
    "SXH = (VSN, KGL)\n",
    "KFB = (MDD, XDH)\n",
    "QVV = (XCG, SCC)\n",
    "RXQ = (VNN, TMK)\n",
    "NXN = (SJP, KFD)\n",
    "DXV = (KCB, BPN)\n",
    "KVC = (QQF, PXS)\n",
    "TMN = (FKX, GLJ)\n",
    "BQQ = (HHK, QBC)\n",
    "RVX = (RNG, KXH)\n",
    "NQT = (KFB, QBQ)\n",
    "XGH = (KQJ, QHF)\n",
    "VQZ = (RDR, VRQ)\n",
    "LPN = (SPT, XKD)\n",
    "JNQ = (NBN, HVC)\n",
    "RRN = (KJL, TFJ)\n",
    "HHG = (CMV, PHV)\n",
    "VHJ = (RLS, HJX)\n",
    "KPB = (NSL, KKZ)\n",
    "KMK = (LCV, TPV)\n",
    "TPX = (SQK, RFH)\n",
    "KTH = (JKX, NKM)\n",
    "VMX = (QRD, XVM)\n",
    "RBL = (QGB, KGV)\n",
    "NBN = (LJH, RDT)\n",
    "RLJ = (SGG, RRN)\n",
    "HMV = (DBJ, NPX)\n",
    "FJM = (SGM, SQV)\n",
    "XVK = (RQJ, QPF)\n",
    "DDN = (DSB, KTM)\n",
    "PFM = (VBD, BSG)\n",
    "HFS = (XNS, HMV)\n",
    "BVX = (VHN, XVQ)\n",
    "HFB = (VFQ, HBS)\n",
    "MTP = (GHX, MFF)\n",
    "GLF = (SLD, NQF)\n",
    "MSD = (MPK, DQM)\n",
    "LLB = (GHC, DMD)\n",
    "KFV = (JCT, VGN)\n",
    "FJD = (SGP, KMG)\n",
    "PGC = (CKV, MTP)\n",
    "KCB = (THF, NGK)\n",
    "GFC = (KGL, VSN)\n",
    "SLN = (BHL, SPG)\n",
    "LFT = (LLB, KDJ)\n",
    "PFX = (DMH, NXJ)\n",
    "GRL = (NVX, SBC)\n",
    "XLQ = (FCJ, RFJ)\n",
    "DKD = (FXQ, MVL)\n",
    "SLF = (RSL, XLQ)\n",
    "BXH = (GFK, QXX)\n",
    "LLF = (JKD, LNN)\n",
    "TSN = (TTM, JPM)\n",
    "RFQ = (QHT, PTS)\n",
    "KSK = (XFB, PSD)\n",
    "TCQ = (MKB, MKB)\n",
    "SLD = (DTT, TSV)\n",
    "VRQ = (BPL, TSN)\n",
    "GBB = (XBK, MXG)\n",
    "THH = (XNH, PDM)\n",
    "QCN = (QHK, JLS)\n",
    "TQS = (MSG, GBB)\n",
    "QNJ = (KBH, FMJ)\n",
    "MCX = (CCT, SBB)\n",
    "NKK = (LFP, QLC)\n",
    "QKX = (KPV, MTN)\n",
    "XSZ = (XVM, QRD)\n",
    "TMK = (XTQ, VCR)\n",
    "LDD = (DQR, GPL)\n",
    "GHC = (GLP, MMP)\n",
    "QXX = (KCM, QTS)\n",
    "JLJ = (RQH, PCB)\n",
    "LJH = (GFN, VLJ)\n",
    "PKG = (PDT, HGT)\n",
    "KGF = (XPQ, VHJ)\n",
    "FBC = (NXM, SVC)\n",
    "DDL = (VCX, VXC)\n",
    "CMR = (XTS, KFV)\n",
    "NGC = (FPR, FBC)\n",
    "PCL = (RVX, RFP)\n",
    "THB = (CNG, QPQ)\n",
    "LMM = (KCH, VMH)\n",
    "PXS = (SKG, RKL)\n",
    "LXM = (VQD, KJX)\n",
    "TXG = (QNJ, QXJ)\n",
    "JLM = (RBQ, CLX)\n",
    "PJX = (GXH, SVD)\n",
    "DJG = (DCF, VXX)\n",
    "CKV = (MFF, GHX)\n",
    "CTX = (MQB, RBX)\n",
    "SHF = (NSL, NSL)\n",
    "GDB = (PDX, JPL)\n",
    "QPT = (NJH, QFG)\n",
    "GPC = (SJV, NXP)\n",
    "XNH = (QXN, QXN)\n",
    "JLC = (MCX, PTV)\n",
    "NJH = (MKF, RHJ)\n",
    "RQJ = (SFX, GTK)\n",
    "SNM = (QKV, QQD)\n",
    "LNN = (FVD, BXL)\n",
    "MFS = (HLS, PKG)\n",
    "PHV = (VPV, NNM)\n",
    "XNS = (DBJ, NPX)\n",
    "VCG = (VMS, QQG)\n",
    "KJJ = (FLR, JQG)\n",
    "LCB = (FKX, GLJ)\n",
    "BTF = (CTX, JBL)\n",
    "RKK = (DGL, PJM)\n",
    "GFH = (PCL, RGZ)\n",
    "VHH = (SXM, VCG)\n",
    "RFP = (RNG, KXH)\n",
    "BNM = (PVJ, LMF)\n",
    "BPH = (MDL, SHK)\n",
    "JFP = (TRB, KGQ)\n",
    "NLR = (NNJ, NLC)\n",
    "TRG = (QBC, HHK)\n",
    "BMJ = (LMX, VSH)\n",
    "HBB = (KTS, PGC)\n",
    "KSN = (NXL, NXL)\n",
    "FCK = (LQL, LKS)\n",
    "LSS = (JJD, VRT)\n",
    "TSV = (DFL, PTF)\n",
    "RFN = (BDL, JBM)\n",
    "XKD = (SFH, SVJ)\n",
    "QBQ = (MDD, XDH)\n",
    "SQV = (VBL, MTD)\n",
    "MMF = (HHG, GLS)\n",
    "FCJ = (SPL, MHD)\n",
    "XQJ = (RGX, JGN)\n",
    "BRB = (KJK, GQQ)\n",
    "JGN = (RXQ, NGM)\n",
    "SHQ = (FBN, XQL)\n",
    "RQG = (LBQ, SXS)\n",
    "PCB = (RPH, NGH)\n",
    "KBJ = (DQM, MPK)\n",
    "JPV = (BFS, CXX)\n",
    "CRS = (QKM, JGD)\n",
    "LNF = (SST, BPH)\n",
    "JCM = (XVF, MPD)\n",
    "KXN = (KJJ, HCQ)\n",
    "RSC = (FPR, FBC)\n",
    "KGQ = (DDD, KTH)\n",
    "RDT = (GFN, VLJ)\n",
    "RXL = (JVM, BRB)\n",
    "PHM = (SMT, FCK)\n",
    "QQM = (JTX, DLL)\n",
    "CHK = (GQG, SNF)\n",
    "GVF = (FSK, LNF)\n",
    "PDM = (QXN, VQZ)\n",
    "FVD = (KFR, KFR)\n",
    "MTN = (RLJ, LVJ)\n",
    "NFM = (RFH, SQK)\n",
    "BXL = (KFR, TJB)\n",
    "LGB = (PGF, XQK)\n",
    "BHS = (SNS, KVJ)\n",
    "SPN = (TMD, RBL)\n",
    "XBX = (FVG, DKD)\n",
    "KCV = (RXL, GHD)\n",
    "HCB = (DGF, NLR)\n",
    "HCS = (PMS, DXV)\n",
    "PQL = (PLV, JHQ)\n",
    "MCH = (SJV, NXP)\n",
    "CHB = (RMP, BFJ)\n",
    "LMK = (JMH, CHB)\n",
    "XLP = (CXX, BFS)\n",
    "TVR = (CTH, GFX)\n",
    "BQB = (SLD, NQF)\n",
    "DSB = (GPC, MCH)\n",
    "BPL = (TTM, JPM)\n",
    "DKC = (JJH, XVK)\n",
    "TPV = (CHK, RRL)\n",
    "TCD = (FQQ, LXM)\n",
    "SCC = (XFM, CFK)\n",
    "RNG = (VDQ, RFN)\n",
    "GFX = (GHR, JRH)\n",
    "HBS = (PTM, KGC)\n",
    "HSM = (VMH, KCH)\n",
    "KCH = (NMK, KVC)\n",
    "MQR = (HHC, HHC)\n",
    "JBM = (LXS, RVR)\n",
    "TFJ = (GSH, HHF)\n",
    "JKX = (MXJ, MMR)\n",
    "NVX = (PHK, VPX)\n",
    "MJR = (MSG, GBB)\n",
    "XLG = (QBQ, KFB)\n",
    "GFN = (CMR, BDX)\n",
    "NRS = (PCL, PCL)\n",
    "JFX = (PNB, HXX)\n",
    "VNN = (XTQ, VCR)\n",
    "PDT = (QDG, BTD)\n",
    "BVK = (LCV, TPV)\n",
    "VGN = (HFB, MDX)\n",
    "PTM = (RXC, PFX)\n",
    "RKL = (JLJ, BCP)\n",
    "VLN = (DGF, NLR)\n",
    "FKX = (TFV, VPR)\n",
    "RHJ = (SHQ, VSG)\n",
    "VXC = (HXH, LNB)\n",
    "RPH = (TDQ, PHM)\n",
    "GNC = (SJP, KFD)\n",
    "PMS = (KCB, BPN)\n",
    "BDL = (LXS, RVR)\n",
    "XTB = (KXN, RCS)\n",
    "BGT = (TGX, KSK)\n",
    "GXH = (TTS, FTS)\n",
    "NSL = (LRB, GDB)\n",
    "MTD = (KCT, FXH)\n",
    "SST = (SHK, MDL)\n",
    "CCQ = (JVQ, LXC)\n",
    "MVX = (SVD, GXH)\n",
    "KCM = (FMP, QDD)\n",
    "GFK = (QTS, KCM)\n",
    "XBJ = (FXJ, VNK)\n",
    "VCX = (HXH, LNB)\n",
    "HGD = (VKG, TJF)\n",
    "SPT = (SVJ, SFH)\n",
    "CJF = (QFK, KCV)\n",
    "RCS = (KJJ, HCQ)\n",
    "FDC = (PQM, JMB)\n",
    "BFS = (VRC, XBJ)\n",
    "JJH = (QPF, RQJ)\n",
    "DRM = (TMN, LCB)\n",
    "QXN = (VRQ, RDR)\n",
    "FMP = (VLN, HCB)\n",
    "QLC = (QVN, CVF)\n",
    "SQK = (PHN, JHJ)\n",
    "BPN = (THF, NGK)\n",
    "VCL = (QHK, JLS)\n",
    "DTM = (SXK, DDN)\n",
    "VPR = (JTQ, FGC)\n",
    "NXJ = (NVK, RFQ)\n",
    "XGQ = (XLG, NQT)\n",
    "XDH = (XJV, RQG)\n",
    "MDX = (HBS, VFQ)\n",
    "QKV = (LCX, RND)\n",
    "DMV = (SKV, JLC)\n",
    "SBC = (VPX, PHK)\n",
    "DQC = (VXX, DCF)\n",
    "VSH = (HPV, TVR)\n",
    "NKJ = (VCG, SXM)\n",
    "QST = (PKG, HLS)\n",
    "KXS = (HDH, FPP)\n",
    "RMP = (BXH, TGL)\n",
    "QDQ = (PJM, DGL)\n",
    "PHK = (PCQ, PSB)\n",
    "PCQ = (JNQ, HMX)\n",
    "QBC = (RCC, HGD)\n",
    "SPL = (DJD, XGH)\n",
    "PQN = (JKD, LNN)\n",
    "LXS = (RTX, MRS)\n",
    "PGF = (BCV, JCJ)\n",
    "LFB = (JMB, PQM)\n",
    "FHH = (VMX, XSZ)\n",
    "TTM = (SNM, DDX)\n",
    "GNG = (SPP, JHH)\n",
    "MCT = (FHJ, LFX)\n",
    "JHH = (NQM, CPX)\n",
    "SXN = (FVG, DKD)\n",
    "XQF = (FCH, TCD)\n",
    "BSG = (LDD, JCC)\n",
    "MMP = (BQF, NKQ)\n",
    "VHN = (NHG, PFM)\n",
    "MDD = (RQG, XJV)\n",
    "BDX = (KFV, XTS)\n",
    "KJK = (LHB, BTF)\n",
    "KNJ = (PJX, MVX)\n",
    "PPL = (FNG, HXS)\n",
    "JJD = (TDK, CCQ)\n",
    "JHQ = (SGT, PQQ)\n",
    "RHC = (DTM, TTT)\n",
    "GLS = (PHV, CMV)\n",
    "GLJ = (VPR, TFV)\n",
    "VCR = (LTR, SLN)\n",
    "CCR = (RPQ, RQK)\n",
    "PVJ = (TCQ, FQT)\n",
    "SGG = (KJL, TFJ)\n",
    "CLX = (LDJ, NKP)\n",
    "XCG = (XFM, CFK)\n",
    "GHD = (BRB, JVM)\n",
    "NKQ = (NKK, XKL)\n",
    "TLK = (QKM, JGD)\n",
    "CPP = (VCX, VXC)\n",
    "TGX = (XFB, PSD)\n",
    "LLJ = (FCD, FHH)\n",
    "LQL = (XBX, SXN)\n",
    "MDH = (BDH, QGD)\n",
    "SJG = (CLX, RBQ)\n",
    "NKP = (RDL, THB)\n",
    "FDF = (RRK, LNC)\n",
    "HFQ = (KSK, TGX)\n",
    "FLR = (HPG, PQL)\n",
    "PNR = (LLB, KDJ)\n",
    "QPD = (DTV, JMJ)\n",
    "NLC = (NKJ, VHH)\n",
    "HXS = (CPP, DDL)\n",
    "DMH = (NVK, RFQ)\n",
    "NHQ = (SPN, HQJ)\n",
    "LBQ = (PCC, RVJ)\n",
    "BQR = (HRX, XXH)\n",
    "LVJ = (RRN, SGG)\n",
    "QGD = (BVK, KMK)\n",
    "HGC = (RCS, KXN)\n",
    "KNX = (SQV, SGM)\n",
    "KXL = (RPQ, RQK)\n",
    "FBN = (MDH, GHK)\n",
    "LPS = (VRT, JJD)\n",
    "XHV = (BQB, GLF)\n",
    "SRH = (QCN, VCL)\n",
    "GPL = (KNX, FJM)\n",
    "HHC = (XVJ, LPN)\n",
    "FGC = (HSM, LMM)\n",
    "TTT = (DDN, SXK)\n",
    "MMR = (FVB, HGX)\n",
    "VRT = (TDK, CCQ)\n",
    "BBB = (MQR, MFR)\n",
    "VKA = (LRB, GDB)\n",
    "GSH = (SDS, SDS)\n",
    "MFF = (GHQ, QLD)\n",
    "TDK = (JVQ, LXC)\n",
    "KVJ = (FPF, SLF)\n",
    "SGM = (MTD, VBL)\n",
    "JHJ = (JSG, TDJ)\n",
    "JQG = (PQL, HPG)\n",
    "VPX = (PSB, PCQ)\n",
    "SCF = (XHF, QPD)\n",
    "FVC = (GLS, HHG)\n",
    "VBL = (KCT, FXH)\n",
    "JKF = (KGQ, TRB)\n",
    "FXH = (GFS, SRH)\n",
    "GHQ = (RDF, PTH)\n",
    "SPG = (BNM, GNS)\n",
    "JCJ = (DKC, DJX)\n",
    "TNL = (NDV, BMJ)\n",
    "SMT = (LQL, LKS)\n",
    "NPT = (NXN, GNC)\n",
    "MNP = (MPD, XVF)\n",
    "SDS = (RCP, RCP)\n",
    "LTR = (BHL, SPG)\n",
    "RVJ = (HFQ, BGT)\n",
    "SVJ = (MRD, TNL)\n",
    "HTK = (FJD, BKF)\n",
    "FHJ = (TMF, VTF)\n",
    "LNB = (LLN, RPR)\n",
    "TGL = (GFK, QXX)\n",
    "XFB = (RRX, BCF)\n",
    "XJV = (LBQ, SXS)\n",
    "QPF = (SFX, GTK)\n",
    "NNM = (TRG, BQQ)\n",
    "JBL = (MQB, RBX)\n",
    "MCC = (NXN, GNC)\n",
    "RXC = (DMH, NXJ)\n",
    "NVV = (QFG, NJH)\n",
    "DLL = (MCC, NPT)\n",
    "VSG = (FBN, XQL)\n",
    "VLV = (TCD, FCH)\n",
    "KGL = (RHC, CNH)\n",
    "LRB = (PDX, JPL)\n",
    "HGT = (QDG, BTD)\n",
    "FMJ = (HTK, DST)\n",
    "FSK = (BPH, SST)\n",
    "RLS = (XQF, VLV)\n",
    "FQT = (MKB, LLJ)\n",
    "XVJ = (XKD, SPT)\"\"\""
   ],
   "metadata": {
    "collapsed": false,
    "ExecuteTime": {
     "end_time": "2023-12-08T22:23:28.801779300Z",
     "start_time": "2023-12-08T22:23:28.789780800Z"
    }
   },
   "id": "143c57b874e33b41"
  },
  {
   "cell_type": "code",
   "execution_count": 3,
   "outputs": [
    {
     "data": {
      "text/plain": "'LRRRLRRRLRRLRLRRLLRRLLRLRRRLRRLRRRLRRLLRLRLRRRLRLLRRRLLRLRRRLRLRRRLRRRLRRRLRRRLRLLLRRRLRRLRRLRRRLRLRLRRLRLRRRLRLRLRLRRRLRRLRLRRRLRRLRRRLRRLLRRRLLRLLRLRRRLRLLRRLLRRRLRLLRRLRLRRLRRRLRLRLRLLRLRRRLRRRLRLLLRRRLRLRRRLRRLRRLLLLRLRRRLRLRRRLLRRRLRRRLRRRLLLRLRLRLLLLRRRLRRLRRRLRLRLRLRRRLRLRRRR'"
     },
     "execution_count": 3,
     "metadata": {},
     "output_type": "execute_result"
    }
   ],
   "source": [
    "rl = input.split(\"\\n\\n\")[0]\n",
    "rl"
   ],
   "metadata": {
    "collapsed": false,
    "ExecuteTime": {
     "end_time": "2023-12-08T22:23:28.841782200Z",
     "start_time": "2023-12-08T22:23:28.797778Z"
    }
   },
   "id": "f405a1dfe7cced33"
  },
  {
   "cell_type": "code",
   "execution_count": 4,
   "outputs": [
    {
     "data": {
      "text/plain": "283"
     },
     "execution_count": 4,
     "metadata": {},
     "output_type": "execute_result"
    }
   ],
   "source": [
    "len(rl)"
   ],
   "metadata": {
    "collapsed": false,
    "ExecuteTime": {
     "end_time": "2023-12-08T22:23:28.851778Z",
     "start_time": "2023-12-08T22:23:28.832779900Z"
    }
   },
   "id": "8a696ec583cf467f"
  },
  {
   "cell_type": "code",
   "execution_count": 5,
   "outputs": [
    {
     "data": {
      "text/plain": "{'VJN': ('LNC', 'RRK'),\n 'MJD': ('HFS', 'VBQ'),\n 'GHK': ('BDH', 'QGD'),\n 'GQG': ('JVH', 'RGR'),\n 'RDL': ('QPQ', 'CNG'),\n 'BDV': ('JGN', 'RGX'),\n 'TFD': ('XLG', 'NQT'),\n 'CVF': ('DJM', 'PPL'),\n 'PSD': ('BCF', 'RRX'),\n 'BLZ': ('LPN', 'XVJ'),\n 'BFJ': ('TGL', 'BXH'),\n 'PQM': ('PDV', 'FPS'),\n 'BKF': ('KMG', 'SGP'),\n 'RDF': ('MJD', 'DKQ'),\n 'DCF': ('BHS', 'QLT'),\n 'KCP': ('JCM', 'MNP'),\n 'CDG': ('HHP', 'GRD'),\n 'XDB': ('XVQ', 'VHN'),\n 'ZZZ': ('MTL', 'KNJ'),\n 'MPK': ('SXH', 'GFC'),\n 'GLV': ('HMD', 'QTM'),\n 'HMD': ('QDQ', 'RKK'),\n 'TTS': ('XGQ', 'TFD'),\n 'NHD': ('BDV', 'XQJ'),\n 'RRL': ('SNF', 'GQG'),\n 'PHN': ('TDJ', 'JSG'),\n 'NXP': ('GVF', 'FHP'),\n 'SFX': ('KSN', 'MXH'),\n 'XQL': ('MDH', 'GHK'),\n 'PBA': ('RVX', 'RFP'),\n 'LLN': ('KKM', 'DMV'),\n 'LLK': ('XXH', 'HRX'),\n 'LQF': ('TXG', 'GXX'),\n 'JGD': ('NHQ', 'FHM'),\n 'VMH': ('NMK', 'KVC'),\n 'SVD': ('TTS', 'FTS'),\n 'VMS': ('FMF', 'CDD'),\n 'RGR': ('XQB', 'XVC'),\n 'VTF': ('MMF', 'FVC'),\n 'HVC': ('RDT', 'LJH'),\n 'MXG': ('KGF', 'NST'),\n 'GQN': ('NGC', 'RSC'),\n 'RKN': ('KXL', 'CCR'),\n 'DDD': ('NKM', 'JKX'),\n 'DGF': ('NNJ', 'NLC'),\n 'TFV': ('FGC', 'JTQ'),\n 'CFK': ('LSC', 'JFX'),\n 'HPG': ('JHQ', 'PLV'),\n 'RSL': ('RFJ', 'FCJ'),\n 'JSG': ('DRM', 'KHD'),\n 'XBK': ('NST', 'KGF'),\n 'QQD': ('RND', 'LCX'),\n 'DJD': ('QHF', 'KQJ'),\n 'LFP': ('QVN', 'CVF'),\n 'TRB': ('KTH', 'DDD'),\n 'KJX': ('KLJ', 'HCS'),\n 'FPR': ('SVC', 'NXM'),\n 'RDR': ('TSN', 'BPL'),\n 'LNC': ('TXR', 'LGB'),\n 'SKV': ('MCX', 'PTV'),\n 'KCF': ('NGC', 'RSC'),\n 'SFH': ('MRD', 'TNL'),\n 'RPR': ('KKM', 'DMV'),\n 'HXH': ('LLN', 'RPR'),\n 'JLS': ('LFT', 'PNR'),\n 'LCX': ('QVG', 'MCT'),\n 'KGV': ('NMB', 'KJN'),\n 'KKM': ('JLC', 'SKV'),\n 'GXX': ('QXJ', 'QNJ'),\n 'CTH': ('JRH', 'GHR'),\n 'QVN': ('PPL', 'DJM'),\n 'NGM': ('TMK', 'VNN'),\n 'TJF': ('LSS', 'LPS'),\n 'NNJ': ('NKJ', 'VHH'),\n 'GNS': ('PVJ', 'LMF'),\n 'SPP': ('NQM', 'NQM'),\n 'FCV': ('XHF', 'QPD'),\n 'HJX': ('VLV', 'XQF'),\n 'SVC': ('DPK', 'QVV'),\n 'KHD': ('TMN', 'LCB'),\n 'NQM': ('NRS', 'NRS'),\n 'MHD': ('XGH', 'DJD'),\n 'NVG': ('KVM', 'KPJ'),\n 'DJM': ('FNG', 'HXS'),\n 'TVJ': ('KCV', 'QFK'),\n 'CMV': ('VPV', 'NNM'),\n 'DQR': ('KNX', 'FJM'),\n 'XXH': ('JPV', 'XLP'),\n 'GQQ': ('LHB', 'BTF'),\n 'JPM': ('SNM', 'DDX'),\n 'GFS': ('VCL', 'QCN'),\n 'JMH': ('RMP', 'BFJ'),\n 'VBQ': ('HMV', 'XNS'),\n 'RPQ': ('JFP', 'JKF'),\n 'GQV': ('MRT', 'LMQ'),\n 'HGX': ('JRR', 'LDL'),\n 'VRC': ('FXJ', 'VNK'),\n 'XHF': ('JMJ', 'DTV'),\n 'KFD': ('BTM', 'PQT'),\n 'NKM': ('MXJ', 'MMR'),\n 'CXX': ('VRC', 'XBJ'),\n 'SXK': ('KTM', 'DSB'),\n 'NQF': ('TSV', 'DTT'),\n 'RND': ('MCT', 'QVG'),\n 'LFX': ('TMF', 'VTF'),\n 'SXS': ('PCC', 'RVJ'),\n 'MKF': ('SHQ', 'VSG'),\n 'PFQ': ('SJX', 'GLV'),\n 'SGT': ('NVV', 'QPT'),\n 'NXM': ('DPK', 'QVV'),\n 'DGL': ('NFM', 'TPX'),\n 'JTQ': ('LMM', 'HSM'),\n 'DFL': ('DQC', 'DJG'),\n 'MXH': ('NXL', 'THH'),\n 'HPV': ('GFX', 'CTH'),\n 'LSC': ('PNB', 'HXX'),\n 'VFQ': ('PTM', 'KGC'),\n 'GLP': ('BQF', 'NKQ'),\n 'DDX': ('QQD', 'QKV'),\n 'HRX': ('XLP', 'JPV'),\n 'KJL': ('GSH', 'HHF'),\n 'HJN': ('PKS', 'ZZZ'),\n 'FPS': ('QBL', 'GNG'),\n 'HLS': ('PDT', 'HGT'),\n 'XHT': ('LFB', 'FDC'),\n 'RCC': ('VKG', 'TJF'),\n 'NXL': ('XNH', 'XNH'),\n 'PDX': ('FHR', 'SSC'),\n 'JPL': ('SSC', 'FHR'),\n 'CNH': ('DTM', 'TTT'),\n 'CJB': ('KPJ', 'KVM'),\n 'GHX': ('QLD', 'GHQ'),\n 'MSG': ('MXG', 'XBK'),\n 'PQQ': ('QPT', 'NVV'),\n 'QGG': ('MQR', 'MQR'),\n 'QBL': ('SPP', 'JHH'),\n 'FQQ': ('VQD', 'KJX'),\n 'QRD': ('LQD', 'RKN'),\n 'JKD': ('FVD', 'BXL'),\n 'DJX': ('XVK', 'JJH'),\n 'LCV': ('RRL', 'CHK'),\n 'BCF': ('NRG', 'MRL'),\n 'TXR': ('XQK', 'PGF'),\n 'BDH': ('KMK', 'BVK'),\n 'GTK': ('KSN', 'MXH'),\n 'HHP': ('PMP', 'PFQ'),\n 'QLD': ('PTH', 'RDF'),\n 'RFJ': ('MHD', 'SPL'),\n 'KFR': ('SHF', 'SHF'),\n 'VBD': ('JCC', 'LDD'),\n 'MVL': ('HST', 'GRL'),\n 'SHK': ('XHT', 'RLT'),\n 'XQB': ('MVJ', 'QQM'),\n 'LQD': ('KXL', 'CCR'),\n 'DMS': ('LMK', 'LSK'),\n 'FXQ': ('GRL', 'HST'),\n 'MXJ': ('HGX', 'FVB'),\n 'FHM': ('SPN', 'HQJ'),\n 'MKB': ('FCD', 'FCD'),\n 'QDD': ('VLN', 'HCB'),\n 'PTF': ('DQC', 'DJG'),\n 'RFH': ('JHJ', 'PHN'),\n 'GRD': ('PMP', 'PFQ'),\n 'DMD': ('MMP', 'GLP'),\n 'HCQ': ('JQG', 'FLR'),\n 'VPV': ('TRG', 'BQQ'),\n 'PDV': ('QBL', 'GNG'),\n 'CCT': ('GMX', 'KCP'),\n 'BCV': ('DJX', 'DKC'),\n 'VKG': ('LSS', 'LPS'),\n 'NGH': ('TDQ', 'PHM'),\n 'JVM': ('KJK', 'GQQ'),\n 'KMG': ('MFS', 'QST'),\n 'MPD': ('LLF', 'PQN'),\n 'QHK': ('PNR', 'LFT'),\n 'HHK': ('RCC', 'HGD'),\n 'MTL': ('MVX', 'PJX'),\n 'PJM': ('NFM', 'TPX'),\n 'BTM': ('QKX', 'FRC'),\n 'QKM': ('NHQ', 'FHM'),\n 'XVF': ('PQN', 'LLF'),\n 'NHG': ('BSG', 'VBD'),\n 'KQJ': ('XDB', 'BVX'),\n 'XKL': ('QLC', 'LFP'),\n 'VXX': ('QLT', 'BHS'),\n 'MVJ': ('DLL', 'JTX'),\n 'SJP': ('BTM', 'PQT'),\n 'QRT': ('HHP', 'GRD'),\n 'XFM': ('LSC', 'JFX'),\n 'RQH': ('NGH', 'RPH'),\n 'QDG': ('TQS', 'MJR'),\n 'PQT': ('FRC', 'QKX'),\n 'FHR': ('SCF', 'FCV'),\n 'DTV': ('XHV', 'HXM'),\n 'RGX': ('RXQ', 'NGM'),\n 'XVM': ('RKN', 'LQD'),\n 'KPV': ('RLJ', 'LVJ'),\n 'NRG': ('JLM', 'SJG'),\n 'NPD': ('RCP', 'HJN'),\n 'KLJ': ('DXV', 'PMS'),\n 'LSJ': ('GXX', 'TXG'),\n 'QLJ': ('KXS', 'DSS'),\n 'SGP': ('MFS', 'QST'),\n 'PSB': ('HMX', 'JNQ'),\n 'VNK': ('JTK', 'QLJ'),\n 'JVH': ('XQB', 'XVC'),\n 'GHR': ('CRS', 'TLK'),\n 'FCD': ('VMX', 'VMX'),\n 'JTX': ('MCC', 'NPT'),\n 'TDJ': ('DRM', 'KHD'),\n 'MFR': ('HHC', 'BLZ'),\n 'SNF': ('JVH', 'RGR'),\n 'JVQ': ('RSQ', 'RFB'),\n 'BHL': ('BNM', 'GNS'),\n 'QGB': ('KJN', 'NMB'),\n 'KTM': ('GPC', 'MCH'),\n 'TJP': ('MRT', 'LMQ'),\n 'MRD': ('BMJ', 'NDV'),\n 'LKS': ('SXN', 'XBX'),\n 'QHT': ('NHD', 'KBM'),\n 'VSN': ('CNH', 'RHC'),\n 'SKG': ('BCP', 'JLJ'),\n 'JMB': ('PDV', 'FPS'),\n 'DSS': ('FPP', 'HDH'),\n 'JRH': ('CRS', 'TLK'),\n 'LSA': ('VRQ', 'RDR'),\n 'FRC': ('KPV', 'MTN'),\n 'JMJ': ('XHV', 'HXM'),\n 'RRX': ('MRL', 'NRG'),\n 'FTS': ('XGQ', 'TFD'),\n 'QTS': ('FMP', 'QDD'),\n 'RQK': ('JFP', 'JKF'),\n 'XTS': ('JCT', 'VGN'),\n 'KKZ': ('GDB', 'LRB'),\n 'NDV': ('LMX', 'VSH'),\n 'PNB': ('QGG', 'QGG'),\n 'FPF': ('XLQ', 'RSL'),\n 'QFK': ('RXL', 'GHD'),\n 'MRS': ('NVG', 'CJB'),\n 'RCP': ('PKS', 'PKS'),\n 'HDH': ('HBB', 'PGM'),\n 'TMF': ('FVC', 'MMF'),\n 'PKS': ('KNJ', 'MTL'),\n 'FVB': ('LDL', 'JRR'),\n 'VSA': ('XVJ', 'LPN'),\n 'BTD': ('TQS', 'MJR'),\n 'FPP': ('PGM', 'HBB'),\n 'NMB': ('BQR', 'LLK'),\n 'SXM': ('QQG', 'VMS'),\n 'LDL': ('CDG', 'QRT'),\n 'HQJ': ('RBL', 'TMD'),\n 'QFG': ('RHJ', 'MKF'),\n 'CPX': ('NRS', 'GFH'),\n 'QQF': ('SKG', 'RKL'),\n 'SSC': ('FCV', 'SCF'),\n 'KXH': ('VDQ', 'RFN'),\n 'KVM': ('DMS', 'NXK'),\n 'DBJ': ('GQN', 'KCF'),\n 'VDQ': ('BDL', 'JBM'),\n 'LSK': ('CHB', 'JMH'),\n 'KBM': ('BDV', 'XQJ'),\n 'QVA': ('QRD', 'XVM'),\n 'PLV': ('PQQ', 'SGT'),\n 'FVG': ('FXQ', 'MVL'),\n 'QXJ': ('FMJ', 'KBH'),\n 'VQD': ('HCS', 'KLJ'),\n 'PCC': ('BGT', 'HFQ'),\n 'JTK': ('KXS', 'DSS'),\n 'QHF': ('BVX', 'XDB'),\n 'MRL': ('SJG', 'JLM'),\n 'NMK': ('PXS', 'QQF'),\n 'LMX': ('HPV', 'TVR'),\n 'PTV': ('CCT', 'SBB'),\n 'MHV': ('TJP', 'GQV'),\n 'GTX': ('GQV', 'TJP'),\n 'KCT': ('SRH', 'GFS'),\n 'SNS': ('FPF', 'SLF'),\n 'BCP': ('RQH', 'PCB'),\n 'RRK': ('TXR', 'LGB'),\n 'DQM': ('SXH', 'GFC'),\n 'VLJ': ('CMR', 'BDX'),\n 'QLT': ('KVJ', 'SNS'),\n 'QTM': ('RKK', 'QDQ'),\n 'QQG': ('FMF', 'CDD'),\n 'DST': ('BKF', 'FJD'),\n 'RGZ': ('RFP', 'RVX'),\n 'SBB': ('GMX', 'KCP'),\n 'DTT': ('PTF', 'DFL'),\n 'FHP': ('LNF', 'FSK'),\n 'FCH': ('FQQ', 'LXM'),\n 'LMQ': ('XTB', 'HGC'),\n 'HHF': ('SDS', 'NPD'),\n 'HXX': ('QGG', 'BBB'),\n 'PGM': ('PGC', 'KTS'),\n 'FXJ': ('JTK', 'QLJ'),\n 'RBQ': ('LDJ', 'NKP'),\n 'XTQ': ('SLN', 'LTR'),\n 'NGK': ('KBJ', 'MSD'),\n 'RVR': ('RTX', 'MRS'),\n 'JCT': ('MDX', 'HFB'),\n 'LHB': ('CTX', 'JBL'),\n 'RSQ': ('CJF', 'TVJ'),\n 'BQF': ('XKL', 'NKK'),\n 'HXM': ('BQB', 'GLF'),\n 'KDJ': ('DMD', 'GHC'),\n 'MQB': ('FDF', 'VJN'),\n 'AAA': ('KNJ', 'MTL'),\n 'XVC': ('QQM', 'MVJ'),\n 'PMP': ('SJX', 'GLV'),\n 'XPQ': ('RLS', 'HJX'),\n 'LMF': ('TCQ', 'FQT'),\n 'CNG': ('GTX', 'MHV'),\n 'LDJ': ('THB', 'RDL'),\n 'XVQ': ('PFM', 'NHG'),\n 'DKQ': ('VBQ', 'HFS'),\n 'SJV': ('FHP', 'GVF'),\n 'HMX': ('HVC', 'NBN'),\n 'SJX': ('HMD', 'QTM'),\n 'QVG': ('FHJ', 'LFX'),\n 'NVK': ('QHT', 'PTS'),\n 'KPJ': ('NXK', 'DMS'),\n 'RBX': ('VJN', 'FDF'),\n 'MRT': ('HGC', 'XTB'),\n 'FMF': ('LSJ', 'LQF'),\n 'JRR': ('CDG', 'QRT'),\n 'RTX': ('NVG', 'CJB'),\n 'HST': ('NVX', 'SBC'),\n 'TDQ': ('SMT', 'FCK'),\n 'KTS': ('CKV', 'MTP'),\n 'TMD': ('KGV', 'QGB'),\n 'MDL': ('XHT', 'RLT'),\n 'PTH': ('MJD', 'DKQ'),\n 'RFB': ('CJF', 'TVJ'),\n 'CDD': ('LSJ', 'LQF'),\n 'PTS': ('NHD', 'KBM'),\n 'NPX': ('KCF', 'GQN'),\n 'KBH': ('DST', 'HTK'),\n 'QPQ': ('MHV', 'GTX'),\n 'NXK': ('LMK', 'LSK'),\n 'THF': ('MSD', 'KBJ'),\n 'KJN': ('LLK', 'BQR'),\n 'LXC': ('RFB', 'RSQ'),\n 'KGC': ('RXC', 'PFX'),\n 'RLT': ('FDC', 'LFB'),\n 'DPK': ('SCC', 'XCG'),\n 'NST': ('VHJ', 'XPQ'),\n 'FNG': ('DDL', 'CPP'),\n 'XQK': ('JCJ', 'BCV'),\n 'JCC': ('DQR', 'GPL'),\n 'TJB': ('SHF', 'KPB'),\n 'GMX': ('MNP', 'JCM'),\n 'SXH': ('VSN', 'KGL'),\n 'KFB': ('MDD', 'XDH'),\n 'QVV': ('XCG', 'SCC'),\n 'RXQ': ('VNN', 'TMK'),\n 'NXN': ('SJP', 'KFD'),\n 'DXV': ('KCB', 'BPN'),\n 'KVC': ('QQF', 'PXS'),\n 'TMN': ('FKX', 'GLJ'),\n 'BQQ': ('HHK', 'QBC'),\n 'RVX': ('RNG', 'KXH'),\n 'NQT': ('KFB', 'QBQ'),\n 'XGH': ('KQJ', 'QHF'),\n 'VQZ': ('RDR', 'VRQ'),\n 'LPN': ('SPT', 'XKD'),\n 'JNQ': ('NBN', 'HVC'),\n 'RRN': ('KJL', 'TFJ'),\n 'HHG': ('CMV', 'PHV'),\n 'VHJ': ('RLS', 'HJX'),\n 'KPB': ('NSL', 'KKZ'),\n 'KMK': ('LCV', 'TPV'),\n 'TPX': ('SQK', 'RFH'),\n 'KTH': ('JKX', 'NKM'),\n 'VMX': ('QRD', 'XVM'),\n 'RBL': ('QGB', 'KGV'),\n 'NBN': ('LJH', 'RDT'),\n 'RLJ': ('SGG', 'RRN'),\n 'HMV': ('DBJ', 'NPX'),\n 'FJM': ('SGM', 'SQV'),\n 'XVK': ('RQJ', 'QPF'),\n 'DDN': ('DSB', 'KTM'),\n 'PFM': ('VBD', 'BSG'),\n 'HFS': ('XNS', 'HMV'),\n 'BVX': ('VHN', 'XVQ'),\n 'HFB': ('VFQ', 'HBS'),\n 'MTP': ('GHX', 'MFF'),\n 'GLF': ('SLD', 'NQF'),\n 'MSD': ('MPK', 'DQM'),\n 'LLB': ('GHC', 'DMD'),\n 'KFV': ('JCT', 'VGN'),\n 'FJD': ('SGP', 'KMG'),\n 'PGC': ('CKV', 'MTP'),\n 'KCB': ('THF', 'NGK'),\n 'GFC': ('KGL', 'VSN'),\n 'SLN': ('BHL', 'SPG'),\n 'LFT': ('LLB', 'KDJ'),\n 'PFX': ('DMH', 'NXJ'),\n 'GRL': ('NVX', 'SBC'),\n 'XLQ': ('FCJ', 'RFJ'),\n 'DKD': ('FXQ', 'MVL'),\n 'SLF': ('RSL', 'XLQ'),\n 'BXH': ('GFK', 'QXX'),\n 'LLF': ('JKD', 'LNN'),\n 'TSN': ('TTM', 'JPM'),\n 'RFQ': ('QHT', 'PTS'),\n 'KSK': ('XFB', 'PSD'),\n 'TCQ': ('MKB', 'MKB'),\n 'SLD': ('DTT', 'TSV'),\n 'VRQ': ('BPL', 'TSN'),\n 'GBB': ('XBK', 'MXG'),\n 'THH': ('XNH', 'PDM'),\n 'QCN': ('QHK', 'JLS'),\n 'TQS': ('MSG', 'GBB'),\n 'QNJ': ('KBH', 'FMJ'),\n 'MCX': ('CCT', 'SBB'),\n 'NKK': ('LFP', 'QLC'),\n 'QKX': ('KPV', 'MTN'),\n 'XSZ': ('XVM', 'QRD'),\n 'TMK': ('XTQ', 'VCR'),\n 'LDD': ('DQR', 'GPL'),\n 'GHC': ('GLP', 'MMP'),\n 'QXX': ('KCM', 'QTS'),\n 'JLJ': ('RQH', 'PCB'),\n 'LJH': ('GFN', 'VLJ'),\n 'PKG': ('PDT', 'HGT'),\n 'KGF': ('XPQ', 'VHJ'),\n 'FBC': ('NXM', 'SVC'),\n 'DDL': ('VCX', 'VXC'),\n 'CMR': ('XTS', 'KFV'),\n 'NGC': ('FPR', 'FBC'),\n 'PCL': ('RVX', 'RFP'),\n 'THB': ('CNG', 'QPQ'),\n 'LMM': ('KCH', 'VMH'),\n 'PXS': ('SKG', 'RKL'),\n 'LXM': ('VQD', 'KJX'),\n 'TXG': ('QNJ', 'QXJ'),\n 'JLM': ('RBQ', 'CLX'),\n 'PJX': ('GXH', 'SVD'),\n 'DJG': ('DCF', 'VXX'),\n 'CKV': ('MFF', 'GHX'),\n 'CTX': ('MQB', 'RBX'),\n 'SHF': ('NSL', 'NSL'),\n 'GDB': ('PDX', 'JPL'),\n 'QPT': ('NJH', 'QFG'),\n 'GPC': ('SJV', 'NXP'),\n 'XNH': ('QXN', 'QXN'),\n 'JLC': ('MCX', 'PTV'),\n 'NJH': ('MKF', 'RHJ'),\n 'RQJ': ('SFX', 'GTK'),\n 'SNM': ('QKV', 'QQD'),\n 'LNN': ('FVD', 'BXL'),\n 'MFS': ('HLS', 'PKG'),\n 'PHV': ('VPV', 'NNM'),\n 'XNS': ('DBJ', 'NPX'),\n 'VCG': ('VMS', 'QQG'),\n 'KJJ': ('FLR', 'JQG'),\n 'LCB': ('FKX', 'GLJ'),\n 'BTF': ('CTX', 'JBL'),\n 'RKK': ('DGL', 'PJM'),\n 'GFH': ('PCL', 'RGZ'),\n 'VHH': ('SXM', 'VCG'),\n 'RFP': ('RNG', 'KXH'),\n 'BNM': ('PVJ', 'LMF'),\n 'BPH': ('MDL', 'SHK'),\n 'JFP': ('TRB', 'KGQ'),\n 'NLR': ('NNJ', 'NLC'),\n 'TRG': ('QBC', 'HHK'),\n 'BMJ': ('LMX', 'VSH'),\n 'HBB': ('KTS', 'PGC'),\n 'KSN': ('NXL', 'NXL'),\n 'FCK': ('LQL', 'LKS'),\n 'LSS': ('JJD', 'VRT'),\n 'TSV': ('DFL', 'PTF'),\n 'RFN': ('BDL', 'JBM'),\n 'XKD': ('SFH', 'SVJ'),\n 'QBQ': ('MDD', 'XDH'),\n 'SQV': ('VBL', 'MTD'),\n 'MMF': ('HHG', 'GLS'),\n 'FCJ': ('SPL', 'MHD'),\n 'XQJ': ('RGX', 'JGN'),\n 'BRB': ('KJK', 'GQQ'),\n 'JGN': ('RXQ', 'NGM'),\n 'SHQ': ('FBN', 'XQL'),\n 'RQG': ('LBQ', 'SXS'),\n 'PCB': ('RPH', 'NGH'),\n 'KBJ': ('DQM', 'MPK'),\n 'JPV': ('BFS', 'CXX'),\n 'CRS': ('QKM', 'JGD'),\n 'LNF': ('SST', 'BPH'),\n 'JCM': ('XVF', 'MPD'),\n 'KXN': ('KJJ', 'HCQ'),\n 'RSC': ('FPR', 'FBC'),\n 'KGQ': ('DDD', 'KTH'),\n 'RDT': ('GFN', 'VLJ'),\n 'RXL': ('JVM', 'BRB'),\n 'PHM': ('SMT', 'FCK'),\n 'QQM': ('JTX', 'DLL'),\n 'CHK': ('GQG', 'SNF'),\n 'GVF': ('FSK', 'LNF'),\n 'PDM': ('QXN', 'VQZ'),\n 'FVD': ('KFR', 'KFR'),\n 'MTN': ('RLJ', 'LVJ'),\n 'NFM': ('RFH', 'SQK'),\n 'BXL': ('KFR', 'TJB'),\n 'LGB': ('PGF', 'XQK'),\n 'BHS': ('SNS', 'KVJ'),\n 'SPN': ('TMD', 'RBL'),\n 'XBX': ('FVG', 'DKD'),\n 'KCV': ('RXL', 'GHD'),\n 'HCB': ('DGF', 'NLR'),\n 'HCS': ('PMS', 'DXV'),\n 'PQL': ('PLV', 'JHQ'),\n 'MCH': ('SJV', 'NXP'),\n 'CHB': ('RMP', 'BFJ'),\n 'LMK': ('JMH', 'CHB'),\n 'XLP': ('CXX', 'BFS'),\n 'TVR': ('CTH', 'GFX'),\n 'BQB': ('SLD', 'NQF'),\n 'DSB': ('GPC', 'MCH'),\n 'BPL': ('TTM', 'JPM'),\n 'DKC': ('JJH', 'XVK'),\n 'TPV': ('CHK', 'RRL'),\n 'TCD': ('FQQ', 'LXM'),\n 'SCC': ('XFM', 'CFK'),\n 'RNG': ('VDQ', 'RFN'),\n 'GFX': ('GHR', 'JRH'),\n 'HBS': ('PTM', 'KGC'),\n 'HSM': ('VMH', 'KCH'),\n 'KCH': ('NMK', 'KVC'),\n 'MQR': ('HHC', 'HHC'),\n 'JBM': ('LXS', 'RVR'),\n 'TFJ': ('GSH', 'HHF'),\n 'JKX': ('MXJ', 'MMR'),\n 'NVX': ('PHK', 'VPX'),\n 'MJR': ('MSG', 'GBB'),\n 'XLG': ('QBQ', 'KFB'),\n 'GFN': ('CMR', 'BDX'),\n 'NRS': ('PCL', 'PCL'),\n 'JFX': ('PNB', 'HXX'),\n 'VNN': ('XTQ', 'VCR'),\n 'PDT': ('QDG', 'BTD'),\n 'BVK': ('LCV', 'TPV'),\n 'VGN': ('HFB', 'MDX'),\n 'PTM': ('RXC', 'PFX'),\n 'RKL': ('JLJ', 'BCP'),\n 'VLN': ('DGF', 'NLR'),\n 'FKX': ('TFV', 'VPR'),\n 'RHJ': ('SHQ', 'VSG'),\n 'VXC': ('HXH', 'LNB'),\n 'RPH': ('TDQ', 'PHM'),\n 'GNC': ('SJP', 'KFD'),\n 'PMS': ('KCB', 'BPN'),\n 'BDL': ('LXS', 'RVR'),\n 'XTB': ('KXN', 'RCS'),\n 'BGT': ('TGX', 'KSK'),\n 'GXH': ('TTS', 'FTS'),\n 'NSL': ('LRB', 'GDB'),\n 'MTD': ('KCT', 'FXH'),\n 'SST': ('SHK', 'MDL'),\n 'CCQ': ('JVQ', 'LXC'),\n 'MVX': ('SVD', 'GXH'),\n 'KCM': ('FMP', 'QDD'),\n 'GFK': ('QTS', 'KCM'),\n 'XBJ': ('FXJ', 'VNK'),\n 'VCX': ('HXH', 'LNB'),\n 'HGD': ('VKG', 'TJF'),\n 'SPT': ('SVJ', 'SFH'),\n 'CJF': ('QFK', 'KCV'),\n 'RCS': ('KJJ', 'HCQ'),\n 'FDC': ('PQM', 'JMB'),\n 'BFS': ('VRC', 'XBJ'),\n 'JJH': ('QPF', 'RQJ'),\n 'DRM': ('TMN', 'LCB'),\n 'QXN': ('VRQ', 'RDR'),\n 'FMP': ('VLN', 'HCB'),\n 'QLC': ('QVN', 'CVF'),\n 'SQK': ('PHN', 'JHJ'),\n 'BPN': ('THF', 'NGK'),\n 'VCL': ('QHK', 'JLS'),\n 'DTM': ('SXK', 'DDN'),\n 'VPR': ('JTQ', 'FGC'),\n 'NXJ': ('NVK', 'RFQ'),\n 'XGQ': ('XLG', 'NQT'),\n 'XDH': ('XJV', 'RQG'),\n 'MDX': ('HBS', 'VFQ'),\n 'QKV': ('LCX', 'RND'),\n 'DMV': ('SKV', 'JLC'),\n 'SBC': ('VPX', 'PHK'),\n 'DQC': ('VXX', 'DCF'),\n 'VSH': ('HPV', 'TVR'),\n 'NKJ': ('VCG', 'SXM'),\n 'QST': ('PKG', 'HLS'),\n 'KXS': ('HDH', 'FPP'),\n 'RMP': ('BXH', 'TGL'),\n 'QDQ': ('PJM', 'DGL'),\n 'PHK': ('PCQ', 'PSB'),\n 'PCQ': ('JNQ', 'HMX'),\n 'QBC': ('RCC', 'HGD'),\n 'SPL': ('DJD', 'XGH'),\n 'PQN': ('JKD', 'LNN'),\n 'LXS': ('RTX', 'MRS'),\n 'PGF': ('BCV', 'JCJ'),\n 'LFB': ('JMB', 'PQM'),\n 'FHH': ('VMX', 'XSZ'),\n 'TTM': ('SNM', 'DDX'),\n 'GNG': ('SPP', 'JHH'),\n 'MCT': ('FHJ', 'LFX'),\n 'JHH': ('NQM', 'CPX'),\n 'SXN': ('FVG', 'DKD'),\n 'XQF': ('FCH', 'TCD'),\n 'BSG': ('LDD', 'JCC'),\n 'MMP': ('BQF', 'NKQ'),\n 'VHN': ('NHG', 'PFM'),\n 'MDD': ('RQG', 'XJV'),\n 'BDX': ('KFV', 'XTS'),\n 'KJK': ('LHB', 'BTF'),\n 'KNJ': ('PJX', 'MVX'),\n 'PPL': ('FNG', 'HXS'),\n 'JJD': ('TDK', 'CCQ'),\n 'JHQ': ('SGT', 'PQQ'),\n 'RHC': ('DTM', 'TTT'),\n 'GLS': ('PHV', 'CMV'),\n 'GLJ': ('VPR', 'TFV'),\n 'VCR': ('LTR', 'SLN'),\n 'CCR': ('RPQ', 'RQK'),\n 'PVJ': ('TCQ', 'FQT'),\n 'SGG': ('KJL', 'TFJ'),\n 'CLX': ('LDJ', 'NKP'),\n 'XCG': ('XFM', 'CFK'),\n 'GHD': ('BRB', 'JVM'),\n 'NKQ': ('NKK', 'XKL'),\n 'TLK': ('QKM', 'JGD'),\n 'CPP': ('VCX', 'VXC'),\n 'TGX': ('XFB', 'PSD'),\n 'LLJ': ('FCD', 'FHH'),\n 'LQL': ('XBX', 'SXN'),\n 'MDH': ('BDH', 'QGD'),\n 'SJG': ('CLX', 'RBQ'),\n 'NKP': ('RDL', 'THB'),\n 'FDF': ('RRK', 'LNC'),\n 'HFQ': ('KSK', 'TGX'),\n 'FLR': ('HPG', 'PQL'),\n 'PNR': ('LLB', 'KDJ'),\n 'QPD': ('DTV', 'JMJ'),\n 'NLC': ('NKJ', 'VHH'),\n 'HXS': ('CPP', 'DDL'),\n 'DMH': ('NVK', 'RFQ'),\n 'NHQ': ('SPN', 'HQJ'),\n 'LBQ': ('PCC', 'RVJ'),\n 'BQR': ('HRX', 'XXH'),\n 'LVJ': ('RRN', 'SGG'),\n 'QGD': ('BVK', 'KMK'),\n 'HGC': ('RCS', 'KXN'),\n 'KNX': ('SQV', 'SGM'),\n 'KXL': ('RPQ', 'RQK'),\n 'FBN': ('MDH', 'GHK'),\n 'LPS': ('VRT', 'JJD'),\n 'XHV': ('BQB', 'GLF'),\n 'SRH': ('QCN', 'VCL'),\n 'GPL': ('KNX', 'FJM'),\n 'HHC': ('XVJ', 'LPN'),\n 'FGC': ('HSM', 'LMM'),\n 'TTT': ('DDN', 'SXK'),\n 'MMR': ('FVB', 'HGX'),\n 'VRT': ('TDK', 'CCQ'),\n 'BBB': ('MQR', 'MFR'),\n 'VKA': ('LRB', 'GDB'),\n 'GSH': ('SDS', 'SDS'),\n 'MFF': ('GHQ', 'QLD'),\n 'TDK': ('JVQ', 'LXC'),\n 'KVJ': ('FPF', 'SLF'),\n 'SGM': ('MTD', 'VBL'),\n 'JHJ': ('JSG', 'TDJ'),\n 'JQG': ('PQL', 'HPG'),\n 'VPX': ('PSB', 'PCQ'),\n 'SCF': ('XHF', 'QPD'),\n 'FVC': ('GLS', 'HHG'),\n 'VBL': ('KCT', 'FXH'),\n 'JKF': ('KGQ', 'TRB'),\n 'FXH': ('GFS', 'SRH'),\n 'GHQ': ('RDF', 'PTH'),\n 'SPG': ('BNM', 'GNS'),\n 'JCJ': ('DKC', 'DJX'),\n 'TNL': ('NDV', 'BMJ'),\n 'SMT': ('LQL', 'LKS'),\n 'NPT': ('NXN', 'GNC'),\n 'MNP': ('MPD', 'XVF'),\n 'SDS': ('RCP', 'RCP'),\n 'LTR': ('BHL', 'SPG'),\n 'RVJ': ('HFQ', 'BGT'),\n 'SVJ': ('MRD', 'TNL'),\n 'HTK': ('FJD', 'BKF'),\n 'FHJ': ('TMF', 'VTF'),\n 'LNB': ('LLN', 'RPR'),\n 'TGL': ('GFK', 'QXX'),\n 'XFB': ('RRX', 'BCF'),\n 'XJV': ('LBQ', 'SXS'),\n 'QPF': ('SFX', 'GTK'),\n 'NNM': ('TRG', 'BQQ'),\n 'JBL': ('MQB', 'RBX'),\n 'MCC': ('NXN', 'GNC'),\n 'RXC': ('DMH', 'NXJ'),\n 'NVV': ('QFG', 'NJH'),\n 'DLL': ('MCC', 'NPT'),\n 'VSG': ('FBN', 'XQL'),\n 'VLV': ('TCD', 'FCH'),\n 'KGL': ('RHC', 'CNH'),\n 'LRB': ('PDX', 'JPL'),\n 'HGT': ('QDG', 'BTD'),\n 'FMJ': ('HTK', 'DST'),\n 'FSK': ('BPH', 'SST'),\n 'RLS': ('XQF', 'VLV'),\n 'FQT': ('MKB', 'LLJ'),\n 'XVJ': ('XKD', 'SPT')}"
     },
     "execution_count": 5,
     "metadata": {},
     "output_type": "execute_result"
    }
   ],
   "source": [
    "map = {line.split(\" = \")[0]: tuple(line.split(\" = \")[1][1:-1].split(\", \")) for line in input.split(\"\\n\\n\")[1].split(\"\\n\")}\n",
    "map"
   ],
   "metadata": {
    "collapsed": false,
    "ExecuteTime": {
     "end_time": "2023-12-08T22:23:31.711780Z",
     "start_time": "2023-12-08T22:23:31.659780200Z"
    }
   },
   "id": "bcf663f81d070a80"
  },
  {
   "cell_type": "code",
   "execution_count": 6,
   "outputs": [
    {
     "data": {
      "text/plain": "16697"
     },
     "execution_count": 6,
     "metadata": {},
     "output_type": "execute_result"
    }
   ],
   "source": [
    "current = \"AAA\"\n",
    "i = 0\n",
    "\n",
    "while current != \"ZZZ\":\n",
    "    current = map[current][0 if rl[i%len(rl)] == \"L\" else 1]\n",
    "    i+=1\n",
    "    \n",
    "i"
   ],
   "metadata": {
    "collapsed": false,
    "ExecuteTime": {
     "end_time": "2023-12-08T22:23:32.227779900Z",
     "start_time": "2023-12-08T22:23:32.168779900Z"
    }
   },
   "id": "5d21b4949f70b9a3"
  },
  {
   "cell_type": "markdown",
   "source": [
    "## Part 2"
   ],
   "metadata": {
    "collapsed": false
   },
   "id": "95069c97c695582f"
  },
  {
   "cell_type": "code",
   "execution_count": 16,
   "outputs": [
    {
     "data": {
      "text/plain": "{'VJN': 'NNM',\n 'MJD': 'HFS',\n 'GHK': 'HGC',\n 'GQG': 'JHQ',\n 'RDL': 'XDH',\n 'BDV': 'VGN',\n 'TFD': 'MTN',\n 'CVF': 'DJD',\n 'PSD': 'PJX',\n 'BLZ': 'LPN',\n 'BFJ': 'JMH',\n 'PQM': 'LFB',\n 'BKF': 'HTK',\n 'RDF': 'DKQ',\n 'DCF': 'SBB',\n 'KCP': 'FXH',\n 'CDG': 'CCR',\n 'XDB': 'KKZ',\n 'ZZZ': 'NPT',\n 'MPK': 'MSD',\n 'GLV': 'TRB',\n 'HMD': 'DDD',\n 'TTS': 'QKX',\n 'NHD': 'XTS',\n 'RRL': 'PQL',\n 'PHN': 'QRT',\n 'NXP': 'MCH',\n 'SFX': 'LXC',\n 'XQL': 'LMQ',\n 'PBA': 'GFH',\n 'LLN': 'LDD',\n 'LLK': 'XXH',\n 'LQF': 'CDD',\n 'JGD': 'FHM',\n 'VMH': 'RFH',\n 'SVD': 'PQT',\n 'VMS': 'VCG',\n 'RGR': 'SGT',\n 'VTF': 'XQK',\n 'HVC': 'LKS',\n 'MXG': 'GBB',\n 'GQN': 'RSC',\n 'RKN': 'SLN',\n 'DDD': 'LLJ',\n 'DGF': 'HCB',\n 'TFV': 'QDQ',\n 'CFK': 'JFX',\n 'HPG': 'SJG',\n 'RSL': 'LLF',\n 'JSG': 'GRD',\n 'XBK': 'GBB',\n 'QQD': 'RBX',\n 'DJD': 'TJB',\n 'LFP': 'SPL',\n 'TRB': 'FQT',\n 'KJX': 'LXM',\n 'FPR': 'SVC',\n 'RDR': 'JVM',\n 'LNC': 'BQQ',\n 'SKV': 'FJM',\n 'KCF': 'RSC',\n 'SFH': 'TNL',\n 'RPR': 'LDD',\n 'HXH': 'BSG',\n 'JLS': 'DJG',\n 'LCX': 'FDF',\n 'KGV': 'NMB',\n 'KKM': 'GPL',\n 'GXX': 'LQF',\n 'CTH': 'JRH',\n 'QVN': 'DJD',\n 'NGM': 'VFQ',\n 'TJF': 'PDM',\n 'NNJ': 'NLR',\n 'GNS': 'PTS',\n 'SPP': 'GNG',\n 'FCV': 'PPL',\n 'HJX': 'XPQ',\n 'SVC': 'QVV',\n 'KHD': 'PFQ',\n 'NQM': 'JHH',\n 'MHD': 'BXL',\n 'NVG': 'MRS',\n 'DJM': 'KQJ',\n 'TVJ': 'QKV',\n 'CMV': 'JJH',\n 'DQR': 'QPD',\n 'XXH': 'JPV',\n 'GQQ': 'VTF',\n 'JPM': 'BTF',\n 'GFS': 'DTT',\n 'JMH': 'LSK',\n 'VBQ': 'HMV',\n 'RPQ': 'GNS',\n 'GQV': 'RVJ',\n 'HGX': 'XVM',\n 'VRC': 'VNK',\n 'XHF': 'HXS',\n 'KFD': 'GHK',\n 'NKM': 'FHH',\n 'CXX': 'XBJ',\n 'SXK': 'TTT',\n 'NQF': 'RPR',\n 'RND': 'FDF',\n 'LFX': 'LGB',\n 'SXS': 'NPD',\n 'MKF': 'GTX',\n 'PFQ': 'JKF',\n 'SGT': 'NKP',\n 'NXM': 'QVV',\n 'DGL': 'MMR',\n 'JTQ': 'DGL',\n 'DFL': 'JLC',\n 'MXH': 'RSQ',\n 'HPV': 'GFX',\n 'LSC': 'HXX',\n 'VFQ': 'PSB',\n 'GLP': 'SLF',\n 'DDX': 'JBL',\n 'HRX': 'JPV',\n 'KJL': 'RGR',\n 'HJN': 'JTX',\n 'FPS': 'PQM',\n 'HLS': 'QST',\n 'XHT': 'SHK',\n 'RCC': 'THH',\n 'NXL': 'TVJ',\n 'PDX': 'LFP',\n 'JPL': 'LFP',\n 'CNH': 'VSN',\n 'CJB': 'MRS',\n 'GHX': 'QLD',\n 'MSG': 'MJR',\n 'PQQ': 'NKP',\n 'QGG': 'MFR',\n 'QBL': 'FPS',\n 'FQQ': 'TCD',\n 'QRD': 'VCR',\n 'JKD': 'PNR',\n 'DJX': 'LPS',\n 'LCV': 'FLR',\n 'BCF': 'SVD',\n 'TXR': 'QBC',\n 'BDH': 'KXN',\n 'GTK': 'LXC',\n 'HHP': 'RQK',\n 'QLD': 'RDF',\n 'RFJ': 'LNN',\n 'KFR': 'GHC',\n 'VBD': 'FHR',\n 'MVL': 'RKL',\n 'SHK': 'SST',\n 'XQB': 'QPT',\n 'LQD': 'SLN',\n 'DMS': 'KVM',\n 'FXQ': 'RKL',\n 'MXJ': 'XSZ',\n 'FHM': 'HQJ',\n 'MKB': 'JGN',\n 'QDD': 'QTS',\n 'PTF': 'JLC',\n 'RFH': 'LDL',\n 'GRD': 'RQK',\n 'DMD': 'KVJ',\n 'HCQ': 'RRX',\n 'VPV': 'RQJ',\n 'PDV': 'PQM',\n 'CCT': 'MTD',\n 'BCV': 'TJF',\n 'VKG': 'PDM',\n 'NGH': 'TFV',\n 'JVM': 'LFX',\n 'KMG': 'BKF',\n 'MPD': 'VCL',\n 'QHK': 'DJG',\n 'HHK': 'MXH',\n 'MTL': 'GNC',\n 'PJM': 'MMR',\n 'BTM': 'QGD',\n 'QKM': 'FHM',\n 'XVF': 'VCL',\n 'NHG': 'JPL',\n 'KQJ': 'KPB',\n 'XKL': 'RFJ',\n 'VXX': 'SBB',\n 'MVJ': 'NJH',\n 'SJP': 'GHK',\n 'QRT': 'CCR',\n 'XFM': 'JFX',\n 'RQH': 'GLJ',\n 'QDG': 'HGT',\n 'PQT': 'QGD',\n 'FHR': 'CVF',\n 'DTV': 'DDL',\n 'RGX': 'MDX',\n 'XVM': 'VCR',\n 'KPV': 'TPV',\n 'NRG': 'FTS',\n 'NPD': 'MVJ',\n 'KLJ': 'KJX',\n 'LSJ': 'CDD',\n 'QLJ': 'DSS',\n 'SGP': 'BKF',\n 'PSB': 'PHM',\n 'VNK': 'QLJ',\n 'JVH': 'SGT',\n 'GHR': 'TLK',\n 'FCD': 'NGM',\n 'JTX': 'RHJ',\n 'TDJ': 'GRD',\n 'MFR': 'BLZ',\n 'SNF': 'JHQ',\n 'JVQ': 'JPM',\n 'BHL': 'RFQ',\n 'QGB': 'NMB',\n 'KTM': 'SXK',\n 'TJP': 'RVJ',\n 'MRD': 'BMJ',\n 'LKS': 'VMH',\n 'QHT': 'BDX',\n 'VSN': 'GFC',\n 'SKG': 'KHD',\n 'JMB': 'LFB',\n 'DSS': 'HDH',\n 'JRH': 'TLK',\n 'LSA': 'GHD',\n 'FRC': 'KMK',\n 'JMJ': 'DDL',\n 'RRX': 'SVD',\n 'FTS': 'QKX',\n 'QTS': 'QXX',\n 'RQK': 'GNS',\n 'XTS': 'GRL',\n 'KKZ': 'NKQ',\n 'NDV': 'VSH',\n 'PNB': 'BBB',\n 'FPF': 'XVF',\n 'QFK': 'RND',\n 'MRS': 'RVR',\n 'RCP': 'JTX',\n 'HDH': 'PGM',\n 'TMF': 'XQK',\n 'PKS': 'NPT',\n 'FVB': 'XVM',\n 'VSA': 'LPN',\n 'BTD': 'HGT',\n 'FPP': 'PGM',\n 'NMB': 'BQR',\n 'SXM': 'VHH',\n 'LDL': 'LQD',\n 'HQJ': 'TMD',\n 'QFG': 'QPQ',\n 'CPX': 'JHH',\n 'QQF': 'JSG',\n 'SSC': 'CVF',\n 'KXH': 'RFP',\n 'KVM': 'CJB',\n 'DBJ': 'GQN',\n 'VDQ': 'KXH',\n 'LSK': 'NXK',\n 'KBM': 'XTS',\n 'QVA': 'VNN',\n 'PLV': 'CLX',\n 'FVG': 'PXS',\n 'QXJ': 'GXX',\n 'VQD': 'LXM',\n 'PCC': 'HJN',\n 'JTK': 'DSS',\n 'QHF': 'KPB',\n 'MRL': 'FTS',\n 'NMK': 'PHN',\n 'LMX': 'TVR',\n 'PTV': 'SQV',\n 'MHV': 'SXS',\n 'GTX': 'SXS',\n 'KCT': 'NQF',\n 'SNS': 'MNP',\n 'BCP': 'LCB',\n 'RRK': 'BQQ',\n 'DQM': 'MSD',\n 'VLJ': 'DKD',\n 'QLT': 'KCP',\n 'QTM': 'DDD',\n 'QQG': 'VCG',\n 'DST': 'FMJ',\n 'RGZ': 'GFH',\n 'SBB': 'MTD',\n 'DTT': 'DMV',\n 'FHP': 'NXP',\n 'FCH': 'XQF',\n 'LMQ': 'BGT',\n 'HHF': 'XVC',\n 'HXX': 'BBB',\n 'PGM': 'KTS',\n 'FXJ': 'QLJ',\n 'RBQ': 'NQT',\n 'XTQ': 'PFX',\n 'NGK': 'BPN',\n 'RVR': 'JBM',\n 'JCT': 'SBC',\n 'LHB': 'FVC',\n 'RSQ': 'DDX',\n 'BQF': 'XLQ',\n 'HXM': 'VXC',\n 'KDJ': 'BHS',\n 'MQB': 'PHV',\n 'AAA': 'NPT',\n 'XVC': 'QPT',\n 'PMP': 'JKF',\n 'XPQ': 'NST',\n 'LMF': 'KBM',\n 'CNG': 'RQG',\n 'LDJ': 'QBQ',\n 'XVQ': 'GDB',\n 'DKQ': 'HFS',\n 'SJV': 'MCH',\n 'HMX': 'FCK',\n 'SJX': 'TRB',\n 'QVG': 'LNC',\n 'NVK': 'VLJ',\n 'KPJ': 'CJB',\n 'RBX': 'PHV',\n 'MRT': 'BGT',\n 'FMF': 'QQG',\n 'JRR': 'LQD',\n 'RTX': 'RVR',\n 'HST': 'BCP',\n 'TDQ': 'JTQ',\n 'KTS': 'MTP',\n 'TMD': 'QGB',\n 'MDL': 'SST',\n 'PTH': 'DKQ',\n 'RFB': 'DDX',\n 'CDD': 'QQG',\n 'PTS': 'BDX',\n 'NPX': 'GQN',\n 'KBH': 'QNJ',\n 'QPQ': 'RQG',\n 'NXK': 'KVM',\n 'THF': 'BPN',\n 'KJN': 'BQR',\n 'LXC': 'JPM',\n 'KGC': 'JNQ',\n 'RLT': 'SHK',\n 'DPK': 'SCC',\n 'NST': 'MXG',\n 'FNG': 'XDB',\n 'XQK': 'HGD',\n 'JCC': 'FCV',\n 'TJB': 'GHC',\n 'GMX': 'FXH',\n 'SXH': 'DQM',\n 'KFB': 'SGG',\n 'QVV': 'SCC',\n 'RXQ': 'VFQ',\n 'NXN': 'XQL',\n 'DXV': 'HCS',\n 'KVC': 'PHN',\n 'TMN': 'GLV',\n 'BQQ': 'GTK',\n 'RVX': 'RGZ',\n 'NQT': 'LVJ',\n 'XGH': 'TJB',\n 'VQZ': 'GHD',\n 'LPN': 'XKD',\n 'JNQ': 'FCK',\n 'RRN': 'GQG',\n 'HHG': 'DKC',\n 'VHJ': 'NST',\n 'KPB': 'MMP',\n 'KMK': 'HCQ',\n 'TPX': 'HGX',\n 'KTH': 'LLJ',\n 'VMX': 'VNN',\n 'RBL': 'QGB',\n 'NBN': 'LKS',\n 'RLJ': 'RRL',\n 'HMV': 'NPX',\n 'FJM': 'JMJ',\n 'XVK': 'JJD',\n 'DDN': 'TTT',\n 'PFM': 'JPL',\n 'HFS': 'HMV',\n 'BVX': 'KKZ',\n 'HFB': 'PHK',\n 'MTP': 'MFF',\n 'GLF': 'LNB',\n 'MSD': 'NGK',\n 'LLB': 'BHS',\n 'KFV': 'GRL',\n 'FJD': 'HTK',\n 'PGC': 'MTP',\n 'KCB': 'DXV',\n 'GFC': 'DQM',\n 'SLN': 'NXJ',\n 'LFT': 'VXX',\n 'PFX': 'NBN',\n 'GRL': 'BCP',\n 'XLQ': 'LLF',\n 'DKD': 'PXS',\n 'SLF': 'XVF',\n 'BXH': 'BFJ',\n 'LLF': 'JLS',\n 'TSN': 'GQQ',\n 'RFQ': 'VLJ',\n 'KSK': 'MTL',\n 'TCQ': 'XQJ',\n 'SLD': 'RPR',\n 'VRQ': 'JVM',\n 'GBB': 'MJR',\n 'THH': 'TVJ',\n 'QCN': 'DFL',\n 'TQS': 'BTD',\n 'QNJ': 'GXX',\n 'MCX': 'SQV',\n 'NKK': 'RFJ',\n 'QKX': 'KMK',\n 'XSZ': 'VNN',\n 'TMK': 'KGC',\n 'LDD': 'FCV',\n 'GHC': 'KVJ',\n 'QXX': 'BXH',\n 'JLJ': 'LCB',\n 'LJH': 'XBX',\n 'PKG': 'QST',\n 'KGF': 'MXG',\n 'FBC': 'SVC',\n 'DDL': 'VHN',\n 'CMR': 'MVL',\n 'NGC': 'FBC',\n 'PCL': 'GFH',\n 'THB': 'XDH',\n 'LMM': 'TPX',\n 'PXS': 'JSG',\n 'LXM': 'TCD',\n 'TXG': 'LQF',\n 'JLM': 'TFD',\n 'PJX': 'KFD',\n 'DJG': 'PTV',\n 'CKV': 'MFF',\n 'CTX': 'HHG',\n 'SHF': 'MMP',\n 'GDB': 'XKL',\n 'QPT': 'THB',\n 'GPC': 'DSB',\n 'XNH': 'QFK',\n 'JLC': 'FJM',\n 'NJH': 'QPQ',\n 'RQJ': 'CCQ',\n 'SNM': 'JBL',\n 'LNN': 'PNR',\n 'MFS': 'KMG',\n 'PHV': 'JJH',\n 'XNS': 'NPX',\n 'VCG': 'VHH',\n 'KJJ': 'RRX',\n 'LCB': 'GLV',\n 'BTF': 'FVC',\n 'RKK': 'JKX',\n 'GFH': 'CPX',\n 'VHH': 'NLC',\n 'RFP': 'RGZ',\n 'BNM': 'PTS',\n 'BPH': 'FSK',\n 'JFP': 'LMF',\n 'NLR': 'HCB',\n 'TRG': 'GTK',\n 'BMJ': 'VSH',\n 'HBB': 'KTS',\n 'KSN': 'RSQ',\n 'FCK': 'HSM',\n 'LSS': 'VQZ',\n 'TSV': 'DMV',\n 'RFN': 'KXH',\n 'XKD': 'SVJ',\n 'QBQ': 'SGG',\n 'SQV': 'HXM',\n 'MMF': 'BCV',\n 'FCJ': 'LNN',\n 'XQJ': 'VGN',\n 'BRB': 'LFX',\n 'JGN': 'MDX',\n 'SHQ': 'GQV',\n 'RQG': 'HHF',\n 'PCB': 'GLJ',\n 'KBJ': 'NGK',\n 'JPV': 'CXX',\n 'CRS': 'JGD',\n 'LNF': 'FHP',\n 'JCM': 'SRH',\n 'KXN': 'PSD',\n 'RSC': 'FBC',\n 'KGQ': 'FQT',\n 'RDT': 'XBX',\n 'RXL': 'QVG',\n 'PHM': 'JTQ',\n 'QQM': 'NJH',\n 'CHK': 'PQL',\n 'GVF': 'NXP',\n 'PDM': 'QFK',\n 'FVD': 'KDJ',\n 'MTN': 'TPV',\n 'NFM': 'HGX',\n 'BXL': 'KDJ',\n 'LGB': 'QBC',\n 'BHS': 'KCP',\n 'SPN': 'TMD',\n 'XBX': 'KVC',\n 'KCV': 'RND',\n 'HCB': 'QDD',\n 'HCS': 'KJX',\n 'PQL': 'SJG',\n 'MCH': 'DSB',\n 'CHB': 'LSK',\n 'LMK': 'NXK',\n 'XLP': 'CXX',\n 'TVR': 'GFX',\n 'BQB': 'LNB',\n 'DSB': 'SXK',\n 'BPL': 'GQQ',\n 'DKC': 'LPS',\n 'TPV': 'FLR',\n 'TCD': 'XQF',\n 'SCC': 'CFK',\n 'RNG': 'RFP',\n 'GFX': 'JRH',\n 'HBS': 'PSB',\n 'HSM': 'TPX',\n 'KCH': 'RFH',\n 'MQR': 'BLZ',\n 'JBM': 'RFN',\n 'TFJ': 'RGR',\n 'JKX': 'FHH',\n 'NVX': 'PCB',\n 'MJR': 'BTD',\n 'XLG': 'LVJ',\n 'GFN': 'DKD',\n 'NRS': 'CPX',\n 'JFX': 'HXX',\n 'VNN': 'KGC',\n 'PDT': 'HLS',\n 'BVK': 'HCQ',\n 'VGN': 'SBC',\n 'PTM': 'JNQ',\n 'RKL': 'KHD',\n 'VLN': 'QDD',\n 'FKX': 'QTM',\n 'RHJ': 'GTX',\n 'VXC': 'PFM',\n 'RPH': 'TFV',\n 'GNC': 'XQL',\n 'PMS': 'HCS',\n 'BDL': 'RFN',\n 'XTB': 'KSK',\n 'BGT': 'ZZZ',\n 'GXH': 'PQT',\n 'NSL': 'NKQ',\n 'MTD': 'GLF',\n 'SST': 'FSK',\n 'CCQ': 'BPL',\n 'MVX': 'KFD',\n 'KCM': 'QXX',\n 'GFK': 'BXH',\n 'XBJ': 'VNK',\n 'VCX': 'PFM',\n 'HGD': 'THH',\n 'SPT': 'SVJ',\n 'CJF': 'QKV',\n 'RCS': 'PSD',\n 'FDC': 'RLT',\n 'BFS': 'XBJ',\n 'JJH': 'JJD',\n 'DRM': 'PFQ',\n 'QXN': 'GHD',\n 'FMP': 'QTS',\n 'QLC': 'SPL',\n 'SQK': 'LDL',\n 'BPN': 'DXV',\n 'VCL': 'DFL',\n 'DTM': 'RHC',\n 'VPR': 'QDQ',\n 'NXJ': 'RDT',\n 'XGQ': 'MTN',\n 'XDH': 'TFJ',\n 'MDX': 'PHK',\n 'QKV': 'RBX',\n 'DMV': 'GPL',\n 'SBC': 'PCB',\n 'DQC': 'PTV',\n 'VSH': 'TVR',\n 'NKJ': 'NLC',\n 'QST': 'KMG',\n 'KXS': 'HDH',\n 'RMP': 'JMH',\n 'QDQ': 'JKX',\n 'PHK': 'NGH',\n 'PCQ': 'PHM',\n 'QBC': 'MXH',\n 'SPL': 'BXL',\n 'PQN': 'JLS',\n 'LXS': 'JBM',\n 'PGF': 'HGD',\n 'LFB': 'RLT',\n 'FHH': 'NGM',\n 'TTM': 'BTF',\n 'GNG': 'FPS',\n 'MCT': 'LNC',\n 'JHH': 'GNG',\n 'SXN': 'KVC',\n 'XQF': 'HJX',\n 'BSG': 'FHR',\n 'MMP': 'SLF',\n 'VHN': 'GDB',\n 'MDD': 'TFJ',\n 'BDX': 'MVL',\n 'KJK': 'VTF',\n 'KNJ': 'GNC',\n 'PPL': 'KQJ',\n 'JJD': 'RDR',\n 'JHQ': 'CLX',\n 'RHC': 'VSN',\n 'GLS': 'DKC',\n 'GLJ': 'QTM',\n 'VCR': 'PFX',\n 'CCR': 'SPG',\n 'PVJ': 'KBM',\n 'SGG': 'GQG',\n 'CLX': 'NQT',\n 'XCG': 'CFK',\n 'GHD': 'QVG',\n 'NKQ': 'XLQ',\n 'TLK': 'JGD',\n 'CPP': 'VHN',\n 'TGX': 'MTL',\n 'LLJ': 'JGN',\n 'LQL': 'VMH',\n 'MDH': 'HGC',\n 'SJG': 'TFD',\n 'NKP': 'QBQ',\n 'FDF': 'NNM',\n 'HFQ': 'ZZZ',\n 'FLR': 'NRG',\n 'PNR': 'VXX',\n 'QPD': 'HXS',\n 'NLC': 'NLR',\n 'HXS': 'XDB',\n 'DMH': 'RDT',\n 'NHQ': 'HQJ',\n 'LBQ': 'NPD',\n 'BQR': 'XXH',\n 'LVJ': 'RRL',\n 'QGD': 'KXN',\n 'HGC': 'KSK',\n 'KNX': 'JMJ',\n 'KXL': 'SPG',\n 'FBN': 'LMQ',\n 'LPS': 'VQZ',\n 'XHV': 'VXC',\n 'SRH': 'DTT',\n 'GPL': 'QPD',\n 'HHC': 'LPN',\n 'FGC': 'DGL',\n 'TTT': 'RHC',\n 'MMR': 'XSZ',\n 'VRT': 'RDR',\n 'BBB': 'MFR',\n 'VKA': 'NKQ',\n 'GSH': 'XVC',\n 'MFF': 'QLD',\n 'TDK': 'BPL',\n 'KVJ': 'MNP',\n 'SGM': 'HXM',\n 'JHJ': 'QRT',\n 'JQG': 'NRG',\n 'VPX': 'NGH',\n 'SCF': 'PPL',\n 'FVC': 'BCV',\n 'VBL': 'GLF',\n 'JKF': 'LMF',\n 'FXH': 'NQF',\n 'GHQ': 'RDF',\n 'SPG': 'RFQ',\n 'JCJ': 'TJF',\n 'TNL': 'BMJ',\n 'SMT': 'HSM',\n 'NPT': 'VSG',\n 'MNP': 'SRH',\n 'SDS': 'MVJ',\n 'LTR': 'NXJ',\n 'RVJ': 'HJN',\n 'SVJ': 'TNL',\n 'HTK': 'FMJ',\n 'FHJ': 'LGB',\n 'LNB': 'BSG',\n 'TGL': 'BFJ',\n 'XFB': 'PJX',\n 'XJV': 'HHF',\n 'QPF': 'CCQ',\n 'NNM': 'RQJ',\n 'JBL': 'HHG',\n 'MCC': 'VSG',\n 'RXC': 'NBN',\n 'NVV': 'THB',\n 'DLL': 'RHJ',\n 'VSG': 'GQV',\n 'VLV': 'HJX',\n 'KGL': 'GFC',\n 'LRB': 'XKL',\n 'HGT': 'HLS',\n 'FMJ': 'QNJ',\n 'FSK': 'FHP',\n 'RLS': 'XPQ',\n 'FQT': 'XQJ',\n 'XVJ': 'XKD'}"
     },
     "execution_count": 16,
     "metadata": {},
     "output_type": "execute_result"
    }
   ],
   "source": [
    "full_map = {k: k for k in map.keys()}\n",
    "end_map = {k: [] for k in map.keys()}\n",
    "# current = \"AAA\"\n",
    "for i, dir in enumerate(rl):\n",
    "    for k in end_map.keys():\n",
    "        if full_map[k][-1] == \"Z\":\n",
    "            end_map[k].append(i)\n",
    "    full_map = {k: map[v][0 if dir == \"L\" else 1] for k, v in full_map.items()}\n",
    "\n",
    "full_map"
   ],
   "metadata": {
    "collapsed": false,
    "ExecuteTime": {
     "end_time": "2023-12-08T23:07:43.333378100Z",
     "start_time": "2023-12-08T23:07:43.285379200Z"
    }
   },
   "id": "f0e976a0cb04af54"
  },
  {
   "cell_type": "code",
   "execution_count": 17,
   "outputs": [
    {
     "data": {
      "text/plain": "{'VJN': [],\n 'MJD': [],\n 'GHK': [],\n 'GQG': [],\n 'RDL': [],\n 'BDV': [],\n 'TFD': [],\n 'CVF': [],\n 'PSD': [],\n 'BLZ': [0],\n 'BFJ': [],\n 'PQM': [],\n 'BKF': [],\n 'RDF': [],\n 'DCF': [],\n 'KCP': [],\n 'CDG': [],\n 'XDB': [],\n 'ZZZ': [0],\n 'MPK': [],\n 'GLV': [],\n 'HMD': [],\n 'TTS': [],\n 'NHD': [],\n 'RRL': [],\n 'PHN': [],\n 'NXP': [],\n 'SFX': [],\n 'XQL': [],\n 'PBA': [],\n 'LLN': [],\n 'LLK': [],\n 'LQF': [],\n 'JGD': [],\n 'VMH': [],\n 'SVD': [],\n 'VMS': [],\n 'RGR': [],\n 'VTF': [],\n 'HVC': [],\n 'MXG': [],\n 'GQN': [],\n 'RKN': [],\n 'DDD': [],\n 'DGF': [],\n 'TFV': [],\n 'CFK': [],\n 'HPG': [],\n 'RSL': [],\n 'JSG': [],\n 'XBK': [],\n 'QQD': [],\n 'DJD': [],\n 'LFP': [],\n 'TRB': [],\n 'KJX': [],\n 'FPR': [],\n 'RDR': [],\n 'LNC': [],\n 'SKV': [],\n 'KCF': [],\n 'SFH': [],\n 'RPR': [],\n 'HXH': [],\n 'JLS': [],\n 'LCX': [],\n 'KGV': [],\n 'KKM': [],\n 'GXX': [],\n 'CTH': [],\n 'QVN': [],\n 'NGM': [],\n 'TJF': [],\n 'NNJ': [],\n 'GNS': [],\n 'SPP': [],\n 'FCV': [],\n 'HJX': [],\n 'SVC': [],\n 'KHD': [],\n 'NQM': [],\n 'MHD': [],\n 'NVG': [],\n 'DJM': [],\n 'TVJ': [],\n 'CMV': [],\n 'DQR': [],\n 'XXH': [],\n 'GQQ': [],\n 'JPM': [],\n 'GFS': [],\n 'JMH': [],\n 'VBQ': [],\n 'RPQ': [],\n 'GQV': [],\n 'HGX': [],\n 'VRC': [],\n 'XHF': [],\n 'KFD': [],\n 'NKM': [],\n 'CXX': [],\n 'SXK': [],\n 'NQF': [],\n 'RND': [],\n 'LFX': [],\n 'SXS': [],\n 'MKF': [],\n 'PFQ': [],\n 'SGT': [],\n 'NXM': [],\n 'DGL': [],\n 'JTQ': [],\n 'DFL': [],\n 'MXH': [],\n 'HPV': [],\n 'LSC': [],\n 'VFQ': [],\n 'GLP': [],\n 'DDX': [],\n 'HRX': [],\n 'KJL': [],\n 'HJN': [],\n 'FPS': [],\n 'HLS': [],\n 'XHT': [],\n 'RCC': [],\n 'NXL': [],\n 'PDX': [],\n 'JPL': [],\n 'CNH': [],\n 'CJB': [],\n 'GHX': [],\n 'MSG': [],\n 'PQQ': [],\n 'QGG': [],\n 'QBL': [],\n 'FQQ': [],\n 'QRD': [],\n 'JKD': [],\n 'DJX': [],\n 'LCV': [],\n 'BCF': [],\n 'TXR': [],\n 'BDH': [],\n 'GTK': [],\n 'HHP': [],\n 'QLD': [],\n 'RFJ': [],\n 'KFR': [],\n 'VBD': [],\n 'MVL': [],\n 'SHK': [],\n 'XQB': [],\n 'LQD': [],\n 'DMS': [],\n 'FXQ': [],\n 'MXJ': [],\n 'FHM': [],\n 'MKB': [],\n 'QDD': [],\n 'PTF': [],\n 'RFH': [],\n 'GRD': [],\n 'DMD': [],\n 'HCQ': [],\n 'VPV': [],\n 'PDV': [],\n 'CCT': [],\n 'BCV': [],\n 'VKG': [],\n 'NGH': [],\n 'JVM': [],\n 'KMG': [],\n 'MPD': [],\n 'QHK': [],\n 'HHK': [],\n 'MTL': [],\n 'PJM': [],\n 'BTM': [],\n 'QKM': [],\n 'XVF': [],\n 'NHG': [],\n 'KQJ': [],\n 'XKL': [],\n 'VXX': [],\n 'MVJ': [],\n 'SJP': [],\n 'QRT': [],\n 'XFM': [],\n 'RQH': [],\n 'QDG': [],\n 'PQT': [],\n 'FHR': [],\n 'DTV': [],\n 'RGX': [],\n 'XVM': [],\n 'KPV': [],\n 'NRG': [],\n 'NPD': [],\n 'KLJ': [],\n 'LSJ': [],\n 'QLJ': [],\n 'SGP': [],\n 'PSB': [],\n 'VNK': [],\n 'JVH': [],\n 'GHR': [],\n 'FCD': [],\n 'JTX': [],\n 'TDJ': [],\n 'MFR': [],\n 'SNF': [],\n 'JVQ': [],\n 'BHL': [],\n 'QGB': [],\n 'KTM': [],\n 'TJP': [],\n 'MRD': [],\n 'LKS': [],\n 'QHT': [],\n 'VSN': [],\n 'SKG': [],\n 'JMB': [],\n 'DSS': [],\n 'JRH': [],\n 'LSA': [],\n 'FRC': [],\n 'JMJ': [],\n 'RRX': [],\n 'FTS': [],\n 'QTS': [],\n 'RQK': [],\n 'XTS': [],\n 'KKZ': [0],\n 'NDV': [],\n 'PNB': [],\n 'FPF': [],\n 'QFK': [],\n 'MRS': [],\n 'RCP': [],\n 'HDH': [],\n 'TMF': [],\n 'PKS': [],\n 'FVB': [],\n 'VSA': [],\n 'BTD': [],\n 'FPP': [],\n 'NMB': [],\n 'SXM': [],\n 'LDL': [],\n 'HQJ': [],\n 'QFG': [],\n 'CPX': [],\n 'QQF': [],\n 'SSC': [],\n 'KXH': [],\n 'KVM': [],\n 'DBJ': [],\n 'VDQ': [],\n 'LSK': [],\n 'KBM': [],\n 'QVA': [],\n 'PLV': [],\n 'FVG': [],\n 'QXJ': [],\n 'VQD': [],\n 'PCC': [],\n 'JTK': [],\n 'QHF': [],\n 'MRL': [],\n 'NMK': [],\n 'LMX': [],\n 'PTV': [],\n 'MHV': [],\n 'GTX': [],\n 'KCT': [],\n 'SNS': [],\n 'BCP': [],\n 'RRK': [],\n 'DQM': [],\n 'VLJ': [],\n 'QLT': [],\n 'QTM': [],\n 'QQG': [],\n 'DST': [],\n 'RGZ': [0],\n 'SBB': [],\n 'DTT': [],\n 'FHP': [],\n 'FCH': [],\n 'LMQ': [],\n 'HHF': [],\n 'HXX': [],\n 'PGM': [],\n 'FXJ': [],\n 'RBQ': [],\n 'XTQ': [],\n 'NGK': [],\n 'RVR': [],\n 'JCT': [],\n 'LHB': [],\n 'RSQ': [],\n 'BQF': [],\n 'HXM': [],\n 'KDJ': [],\n 'MQB': [],\n 'AAA': [],\n 'XVC': [],\n 'PMP': [],\n 'XPQ': [],\n 'LMF': [],\n 'CNG': [],\n 'LDJ': [],\n 'XVQ': [],\n 'DKQ': [],\n 'SJV': [],\n 'HMX': [],\n 'SJX': [],\n 'QVG': [],\n 'NVK': [],\n 'KPJ': [],\n 'RBX': [],\n 'MRT': [],\n 'FMF': [],\n 'JRR': [],\n 'RTX': [],\n 'HST': [],\n 'TDQ': [],\n 'KTS': [],\n 'TMD': [],\n 'MDL': [],\n 'PTH': [],\n 'RFB': [],\n 'CDD': [],\n 'PTS': [],\n 'NPX': [],\n 'KBH': [],\n 'QPQ': [],\n 'NXK': [],\n 'THF': [],\n 'KJN': [],\n 'LXC': [],\n 'KGC': [],\n 'RLT': [],\n 'DPK': [],\n 'NST': [],\n 'FNG': [],\n 'XQK': [],\n 'JCC': [],\n 'TJB': [],\n 'GMX': [],\n 'SXH': [],\n 'KFB': [],\n 'QVV': [],\n 'RXQ': [],\n 'NXN': [],\n 'DXV': [],\n 'KVC': [],\n 'TMN': [],\n 'BQQ': [],\n 'RVX': [],\n 'NQT': [],\n 'XGH': [],\n 'VQZ': [0],\n 'LPN': [],\n 'JNQ': [],\n 'RRN': [],\n 'HHG': [],\n 'VHJ': [],\n 'KPB': [],\n 'KMK': [],\n 'TPX': [],\n 'KTH': [],\n 'VMX': [],\n 'RBL': [],\n 'NBN': [],\n 'RLJ': [],\n 'HMV': [],\n 'FJM': [],\n 'XVK': [],\n 'DDN': [],\n 'PFM': [],\n 'HFS': [],\n 'BVX': [],\n 'HFB': [],\n 'MTP': [],\n 'GLF': [],\n 'MSD': [],\n 'LLB': [],\n 'KFV': [],\n 'FJD': [],\n 'PGC': [],\n 'KCB': [],\n 'GFC': [],\n 'SLN': [],\n 'LFT': [],\n 'PFX': [],\n 'GRL': [],\n 'XLQ': [],\n 'DKD': [],\n 'SLF': [],\n 'BXH': [],\n 'LLF': [],\n 'TSN': [],\n 'RFQ': [],\n 'KSK': [],\n 'TCQ': [],\n 'SLD': [],\n 'VRQ': [],\n 'GBB': [],\n 'THH': [],\n 'QCN': [],\n 'TQS': [],\n 'QNJ': [],\n 'MCX': [],\n 'NKK': [],\n 'QKX': [],\n 'XSZ': [0],\n 'TMK': [],\n 'LDD': [],\n 'GHC': [],\n 'QXX': [],\n 'JLJ': [],\n 'LJH': [],\n 'PKG': [],\n 'KGF': [],\n 'FBC': [],\n 'DDL': [],\n 'CMR': [],\n 'NGC': [],\n 'PCL': [],\n 'THB': [],\n 'LMM': [],\n 'PXS': [],\n 'LXM': [],\n 'TXG': [],\n 'JLM': [],\n 'PJX': [],\n 'DJG': [],\n 'CKV': [],\n 'CTX': [],\n 'SHF': [],\n 'GDB': [],\n 'QPT': [],\n 'GPC': [],\n 'XNH': [],\n 'JLC': [],\n 'NJH': [],\n 'RQJ': [],\n 'SNM': [],\n 'LNN': [],\n 'MFS': [],\n 'PHV': [],\n 'XNS': [],\n 'VCG': [],\n 'KJJ': [],\n 'LCB': [],\n 'BTF': [],\n 'RKK': [],\n 'GFH': [],\n 'VHH': [],\n 'RFP': [],\n 'BNM': [],\n 'BPH': [],\n 'JFP': [],\n 'NLR': [],\n 'TRG': [],\n 'BMJ': [],\n 'HBB': [],\n 'KSN': [],\n 'FCK': [],\n 'LSS': [],\n 'TSV': [],\n 'RFN': [],\n 'XKD': [],\n 'QBQ': [],\n 'SQV': [],\n 'MMF': [],\n 'FCJ': [],\n 'XQJ': [],\n 'BRB': [],\n 'JGN': [],\n 'SHQ': [],\n 'RQG': [],\n 'PCB': [],\n 'KBJ': [],\n 'JPV': [],\n 'CRS': [],\n 'LNF': [],\n 'JCM': [],\n 'KXN': [],\n 'RSC': [],\n 'KGQ': [],\n 'RDT': [],\n 'RXL': [],\n 'PHM': [],\n 'QQM': [],\n 'CHK': [],\n 'GVF': [],\n 'PDM': [],\n 'FVD': [],\n 'MTN': [],\n 'NFM': [],\n 'BXL': [],\n 'LGB': [],\n 'BHS': [],\n 'SPN': [],\n 'XBX': [],\n 'KCV': [],\n 'HCB': [],\n 'HCS': [],\n 'PQL': [],\n 'MCH': [],\n 'CHB': [],\n 'LMK': [],\n 'XLP': [],\n 'TVR': [],\n 'BQB': [],\n 'DSB': [],\n 'BPL': [],\n 'DKC': [],\n 'TPV': [],\n 'TCD': [],\n 'SCC': [],\n 'RNG': [],\n 'GFX': [],\n 'HBS': [],\n 'HSM': [],\n 'KCH': [],\n 'MQR': [],\n 'JBM': [],\n 'TFJ': [],\n 'JKX': [],\n 'NVX': [],\n 'MJR': [],\n 'XLG': [],\n 'GFN': [],\n 'NRS': [],\n 'JFX': [],\n 'VNN': [],\n 'PDT': [],\n 'BVK': [],\n 'VGN': [],\n 'PTM': [],\n 'RKL': [],\n 'VLN': [],\n 'FKX': [],\n 'RHJ': [],\n 'VXC': [],\n 'RPH': [],\n 'GNC': [],\n 'PMS': [],\n 'BDL': [],\n 'XTB': [],\n 'BGT': [],\n 'GXH': [],\n 'NSL': [],\n 'MTD': [],\n 'SST': [],\n 'CCQ': [],\n 'MVX': [],\n 'KCM': [],\n 'GFK': [],\n 'XBJ': [],\n 'VCX': [],\n 'HGD': [],\n 'SPT': [],\n 'CJF': [],\n 'RCS': [],\n 'FDC': [],\n 'BFS': [],\n 'JJH': [],\n 'DRM': [],\n 'QXN': [],\n 'FMP': [],\n 'QLC': [],\n 'SQK': [],\n 'BPN': [],\n 'VCL': [],\n 'DTM': [],\n 'VPR': [],\n 'NXJ': [],\n 'XGQ': [],\n 'XDH': [],\n 'MDX': [],\n 'QKV': [],\n 'DMV': [],\n 'SBC': [],\n 'DQC': [],\n 'VSH': [],\n 'NKJ': [],\n 'QST': [],\n 'KXS': [],\n 'RMP': [],\n 'QDQ': [],\n 'PHK': [],\n 'PCQ': [],\n 'QBC': [],\n 'SPL': [],\n 'PQN': [],\n 'LXS': [],\n 'PGF': [],\n 'LFB': [],\n 'FHH': [],\n 'TTM': [],\n 'GNG': [],\n 'MCT': [],\n 'JHH': [],\n 'SXN': [],\n 'XQF': [],\n 'BSG': [],\n 'MMP': [],\n 'VHN': [],\n 'MDD': [],\n 'BDX': [],\n 'KJK': [],\n 'KNJ': [],\n 'PPL': [],\n 'JJD': [],\n 'JHQ': [],\n 'RHC': [],\n 'GLS': [],\n 'GLJ': [],\n 'VCR': [],\n 'CCR': [],\n 'PVJ': [],\n 'SGG': [],\n 'CLX': [],\n 'XCG': [],\n 'GHD': [],\n 'NKQ': [],\n 'TLK': [],\n 'CPP': [],\n 'TGX': [],\n 'LLJ': [],\n 'LQL': [],\n 'MDH': [],\n 'SJG': [],\n 'NKP': [],\n 'FDF': [],\n 'HFQ': [],\n 'FLR': [],\n 'PNR': [],\n 'QPD': [],\n 'NLC': [],\n 'HXS': [],\n 'DMH': [],\n 'NHQ': [],\n 'LBQ': [],\n 'BQR': [],\n 'LVJ': [],\n 'QGD': [],\n 'HGC': [],\n 'KNX': [],\n 'KXL': [],\n 'FBN': [],\n 'LPS': [],\n 'XHV': [],\n 'SRH': [],\n 'GPL': [],\n 'HHC': [],\n 'FGC': [],\n 'TTT': [],\n 'MMR': [],\n 'VRT': [],\n 'BBB': [],\n 'VKA': [],\n 'GSH': [],\n 'MFF': [],\n 'TDK': [],\n 'KVJ': [],\n 'SGM': [],\n 'JHJ': [],\n 'JQG': [],\n 'VPX': [],\n 'SCF': [],\n 'FVC': [],\n 'VBL': [],\n 'JKF': [],\n 'FXH': [],\n 'GHQ': [],\n 'SPG': [],\n 'JCJ': [],\n 'TNL': [],\n 'SMT': [],\n 'NPT': [],\n 'MNP': [],\n 'SDS': [],\n 'LTR': [],\n 'RVJ': [],\n 'SVJ': [],\n 'HTK': [],\n 'FHJ': [],\n 'LNB': [],\n 'TGL': [],\n 'XFB': [],\n 'XJV': [],\n 'QPF': [],\n 'NNM': [],\n 'JBL': [],\n 'MCC': [],\n 'RXC': [],\n 'NVV': [],\n 'DLL': [],\n 'VSG': [],\n 'VLV': [],\n 'KGL': [],\n 'LRB': [],\n 'HGT': [],\n 'FMJ': [],\n 'FSK': [],\n 'RLS': [],\n 'FQT': [],\n 'XVJ': []}"
     },
     "execution_count": 17,
     "metadata": {},
     "output_type": "execute_result"
    }
   ],
   "source": [
    "end_map"
   ],
   "metadata": {
    "collapsed": false,
    "ExecuteTime": {
     "end_time": "2023-12-08T23:07:44.094473900Z",
     "start_time": "2023-12-08T23:07:44.063473500Z"
    }
   },
   "id": "720c6d322fc4b663"
  },
  {
   "cell_type": "markdown",
   "source": [
    "It appears that the end nodes (ones ending with z) only ever show up right at the end of any given rl string,\n",
    "so we can completely ignore what's happening inbetween and just use the full_map"
   ],
   "metadata": {
    "collapsed": false
   },
   "id": "acdf62404ff46689"
  },
  {
   "cell_type": "code",
   "execution_count": 8,
   "outputs": [
    {
     "data": {
      "text/plain": "['PBA', 'LSA', 'VSA', 'QVA', 'AAA', 'VKA']"
     },
     "execution_count": 8,
     "metadata": {},
     "output_type": "execute_result"
    }
   ],
   "source": [
    "starts = [k for k in full_map.keys() if k[-1] == \"A\"]\n",
    "starts"
   ],
   "metadata": {
    "collapsed": false,
    "ExecuteTime": {
     "end_time": "2023-12-08T22:23:34.727778500Z",
     "start_time": "2023-12-08T22:23:34.714779Z"
    }
   },
   "id": "86591d1904a3bb0"
  },
  {
   "cell_type": "code",
   "execution_count": 56,
   "outputs": [
    {
     "data": {
      "text/plain": "{'PBA': {'count': 72,\n  'set': {'BFJ',\n   'BKF',\n   'BPN',\n   'BTD',\n   'BXH',\n   'CDD',\n   'CJB',\n   'CPX',\n   'DQM',\n   'DSB',\n   'DXV',\n   'FHP',\n   'FMJ',\n   'FPS',\n   'FSK',\n   'GBB',\n   'GFC',\n   'GFH',\n   'GNG',\n   'GXX',\n   'HCB',\n   'HCS',\n   'HGT',\n   'HJX',\n   'HLS',\n   'HTK',\n   'JBM',\n   'JHH',\n   'JMH',\n   'KJX',\n   'KMG',\n   'KVM',\n   'KXH',\n   'LFB',\n   'LQF',\n   'LSK',\n   'LXM',\n   'MCH',\n   'MJR',\n   'MRS',\n   'MSD',\n   'MXG',\n   'NGK',\n   'NLC',\n   'NLR',\n   'NST',\n   'NXK',\n   'NXP',\n   'PBA',\n   'PQM',\n   'QDD',\n   'QNJ',\n   'QQG',\n   'QST',\n   'QTS',\n   'QXX',\n   'RFN',\n   'RFP',\n   'RGZ',\n   'RHC',\n   'RLT',\n   'RVR',\n   'SHK',\n   'SST',\n   'SXK',\n   'TCD',\n   'TTT',\n   'VCG',\n   'VHH',\n   'VSN',\n   'XPQ',\n   'XQF'},\n  'repeat': 'GFH',\n  'cycle': ['GFH',\n   'CPX',\n   'JHH',\n   'GNG',\n   'FPS',\n   'PQM',\n   'LFB',\n   'RLT',\n   'SHK',\n   'SST',\n   'FSK',\n   'FHP',\n   'NXP',\n   'MCH',\n   'DSB',\n   'SXK',\n   'TTT',\n   'RHC',\n   'VSN',\n   'GFC',\n   'DQM',\n   'MSD',\n   'NGK',\n   'BPN',\n   'DXV',\n   'HCS',\n   'KJX',\n   'LXM',\n   'TCD',\n   'XQF',\n   'HJX',\n   'XPQ',\n   'NST',\n   'MXG',\n   'GBB',\n   'MJR',\n   'BTD',\n   'HGT',\n   'HLS',\n   'QST',\n   'KMG',\n   'BKF',\n   'HTK',\n   'FMJ',\n   'QNJ',\n   'GXX',\n   'LQF',\n   'CDD',\n   'QQG',\n   'VCG',\n   'VHH',\n   'NLC',\n   'NLR',\n   'HCB',\n   'QDD',\n   'QTS',\n   'QXX',\n   'BXH',\n   'BFJ',\n   'JMH',\n   'LSK',\n   'NXK',\n   'KVM',\n   'CJB',\n   'MRS',\n   'RVR',\n   'JBM',\n   'RFN',\n   'KXH',\n   'RFP',\n   'RGZ'],\n  'offset': 1},\n 'LSA': {'count': 44,\n  'set': {'BCV',\n   'BPL',\n   'BQQ',\n   'BTF',\n   'CCQ',\n   'DDX',\n   'DKC',\n   'FDF',\n   'FVC',\n   'GHD',\n   'GQQ',\n   'GTK',\n   'HGD',\n   'HHG',\n   'JBL',\n   'JJD',\n   'JJH',\n   'JPM',\n   'JVM',\n   'LFX',\n   'LGB',\n   'LNC',\n   'LPS',\n   'LSA',\n   'LXC',\n   'MXH',\n   'NNM',\n   'PDM',\n   'PHV',\n   'QBC',\n   'QFK',\n   'QKV',\n   'QVG',\n   'RBX',\n   'RDR',\n   'RND',\n   'RQJ',\n   'RSQ',\n   'THH',\n   'TJF',\n   'TVJ',\n   'VQZ',\n   'VTF',\n   'XQK'},\n  'repeat': 'GHD',\n  'cycle': ['GHD',\n   'QVG',\n   'LNC',\n   'BQQ',\n   'GTK',\n   'LXC',\n   'JPM',\n   'BTF',\n   'FVC',\n   'BCV',\n   'TJF',\n   'PDM',\n   'QFK',\n   'RND',\n   'FDF',\n   'NNM',\n   'RQJ',\n   'CCQ',\n   'BPL',\n   'GQQ',\n   'VTF',\n   'XQK',\n   'HGD',\n   'THH',\n   'TVJ',\n   'QKV',\n   'RBX',\n   'PHV',\n   'JJH',\n   'JJD',\n   'RDR',\n   'JVM',\n   'LFX',\n   'LGB',\n   'QBC',\n   'MXH',\n   'RSQ',\n   'DDX',\n   'JBL',\n   'HHG',\n   'DKC',\n   'LPS',\n   'VQZ'],\n  'offset': 1},\n 'VSA': {'count': 48,\n  'set': {'BBB',\n   'BLZ',\n   'BMJ',\n   'BQR',\n   'CFK',\n   'CXX',\n   'DKQ',\n   'DSS',\n   'FBC',\n   'FHM',\n   'GFX',\n   'GQN',\n   'HDH',\n   'HFS',\n   'HMV',\n   'HQJ',\n   'HXX',\n   'JFX',\n   'JGD',\n   'JPV',\n   'JRH',\n   'KTS',\n   'LPN',\n   'MFF',\n   'MFR',\n   'MTP',\n   'NMB',\n   'NPX',\n   'PGM',\n   'QGB',\n   'QLD',\n   'QLJ',\n   'QVV',\n   'RDF',\n   'RSC',\n   'SCC',\n   'SVC',\n   'SVJ',\n   'TLK',\n   'TMD',\n   'TNL',\n   'TVR',\n   'VNK',\n   'VSA',\n   'VSH',\n   'XBJ',\n   'XKD',\n   'XXH'},\n  'repeat': 'LPN',\n  'cycle': ['LPN',\n   'XKD',\n   'SVJ',\n   'TNL',\n   'BMJ',\n   'VSH',\n   'TVR',\n   'GFX',\n   'JRH',\n   'TLK',\n   'JGD',\n   'FHM',\n   'HQJ',\n   'TMD',\n   'QGB',\n   'NMB',\n   'BQR',\n   'XXH',\n   'JPV',\n   'CXX',\n   'XBJ',\n   'VNK',\n   'QLJ',\n   'DSS',\n   'HDH',\n   'PGM',\n   'KTS',\n   'MTP',\n   'MFF',\n   'QLD',\n   'RDF',\n   'DKQ',\n   'HFS',\n   'HMV',\n   'NPX',\n   'GQN',\n   'RSC',\n   'FBC',\n   'SVC',\n   'QVV',\n   'SCC',\n   'CFK',\n   'JFX',\n   'HXX',\n   'BBB',\n   'MFR',\n   'BLZ'],\n  'offset': 1},\n 'QVA': {'count': 74,\n  'set': {'BCP',\n   'BDX',\n   'CCR',\n   'DDD',\n   'DGL',\n   'DKD',\n   'FCK',\n   'FHH',\n   'FQT',\n   'GLJ',\n   'GLV',\n   'GNS',\n   'GRD',\n   'GRL',\n   'HGX',\n   'HSM',\n   'JGN',\n   'JKF',\n   'JKX',\n   'JNQ',\n   'JSG',\n   'JTQ',\n   'KBM',\n   'KGC',\n   'KHD',\n   'KVC',\n   'LCB',\n   'LDL',\n   'LKS',\n   'LLJ',\n   'LMF',\n   'LQD',\n   'MDX',\n   'MMR',\n   'MVL',\n   'NBN',\n   'NGH',\n   'NGM',\n   'NXJ',\n   'PCB',\n   'PFQ',\n   'PFX',\n   'PHK',\n   'PHM',\n   'PHN',\n   'PSB',\n   'PTS',\n   'PXS',\n   'QDQ',\n   'QRT',\n   'QTM',\n   'QVA',\n   'RDT',\n   'RFH',\n   'RFQ',\n   'RKL',\n   'RQK',\n   'SBC',\n   'SLN',\n   'SPG',\n   'TFV',\n   'TPX',\n   'TRB',\n   'VCR',\n   'VFQ',\n   'VGN',\n   'VLJ',\n   'VMH',\n   'VNN',\n   'XBX',\n   'XQJ',\n   'XSZ',\n   'XTS',\n   'XVM'},\n  'repeat': 'VNN',\n  'cycle': ['VNN',\n   'KGC',\n   'JNQ',\n   'FCK',\n   'HSM',\n   'TPX',\n   'HGX',\n   'XVM',\n   'VCR',\n   'PFX',\n   'NBN',\n   'LKS',\n   'VMH',\n   'RFH',\n   'LDL',\n   'LQD',\n   'SLN',\n   'NXJ',\n   'RDT',\n   'XBX',\n   'KVC',\n   'PHN',\n   'QRT',\n   'CCR',\n   'SPG',\n   'RFQ',\n   'VLJ',\n   'DKD',\n   'PXS',\n   'JSG',\n   'GRD',\n   'RQK',\n   'GNS',\n   'PTS',\n   'BDX',\n   'MVL',\n   'RKL',\n   'KHD',\n   'PFQ',\n   'JKF',\n   'LMF',\n   'KBM',\n   'XTS',\n   'GRL',\n   'BCP',\n   'LCB',\n   'GLV',\n   'TRB',\n   'FQT',\n   'XQJ',\n   'VGN',\n   'SBC',\n   'PCB',\n   'GLJ',\n   'QTM',\n   'DDD',\n   'LLJ',\n   'JGN',\n   'MDX',\n   'PHK',\n   'NGH',\n   'TFV',\n   'QDQ',\n   'JKX',\n   'FHH',\n   'NGM',\n   'VFQ',\n   'PSB',\n   'PHM',\n   'JTQ',\n   'DGL',\n   'MMR',\n   'XSZ'],\n  'offset': 1},\n 'AAA': {'count': 60,\n  'set': {'AAA',\n   'BGT',\n   'CLX',\n   'FLR',\n   'FTS',\n   'GHK',\n   'GNC',\n   'GQG',\n   'GQV',\n   'GTX',\n   'HCQ',\n   'HGC',\n   'HHF',\n   'HJN',\n   'JHQ',\n   'JTX',\n   'KFD',\n   'KMK',\n   'KSK',\n   'KXN',\n   'LMQ',\n   'LVJ',\n   'MTL',\n   'MTN',\n   'MVJ',\n   'NJH',\n   'NKP',\n   'NPD',\n   'NPT',\n   'NQT',\n   'NRG',\n   'PJX',\n   'PQL',\n   'PQT',\n   'PSD',\n   'QBQ',\n   'QGD',\n   'QKX',\n   'QPQ',\n   'QPT',\n   'RGR',\n   'RHJ',\n   'RQG',\n   'RRL',\n   'RRX',\n   'RVJ',\n   'SGG',\n   'SGT',\n   'SJG',\n   'SVD',\n   'SXS',\n   'TFD',\n   'TFJ',\n   'THB',\n   'TPV',\n   'VSG',\n   'XDH',\n   'XQL',\n   'XVC',\n   'ZZZ'},\n  'repeat': 'NPT',\n  'cycle': ['NPT',\n   'VSG',\n   'GQV',\n   'RVJ',\n   'HJN',\n   'JTX',\n   'RHJ',\n   'GTX',\n   'SXS',\n   'NPD',\n   'MVJ',\n   'NJH',\n   'QPQ',\n   'RQG',\n   'HHF',\n   'XVC',\n   'QPT',\n   'THB',\n   'XDH',\n   'TFJ',\n   'RGR',\n   'SGT',\n   'NKP',\n   'QBQ',\n   'SGG',\n   'GQG',\n   'JHQ',\n   'CLX',\n   'NQT',\n   'LVJ',\n   'RRL',\n   'PQL',\n   'SJG',\n   'TFD',\n   'MTN',\n   'TPV',\n   'FLR',\n   'NRG',\n   'FTS',\n   'QKX',\n   'KMK',\n   'HCQ',\n   'RRX',\n   'SVD',\n   'PQT',\n   'QGD',\n   'KXN',\n   'PSD',\n   'PJX',\n   'KFD',\n   'GHK',\n   'HGC',\n   'KSK',\n   'MTL',\n   'GNC',\n   'XQL',\n   'LMQ',\n   'BGT',\n   'ZZZ'],\n  'offset': 1},\n 'VKA': {'count': 62,\n  'set': {'BHS',\n   'BSG',\n   'BXL',\n   'CVF',\n   'DDL',\n   'DFL',\n   'DJD',\n   'DJG',\n   'DMV',\n   'DTT',\n   'FCV',\n   'FHR',\n   'FJM',\n   'FXH',\n   'GDB',\n   'GHC',\n   'GLF',\n   'GPL',\n   'HXM',\n   'HXS',\n   'JLC',\n   'JLS',\n   'JMJ',\n   'JPL',\n   'KCP',\n   'KDJ',\n   'KKZ',\n   'KPB',\n   'KQJ',\n   'KVJ',\n   'LDD',\n   'LFP',\n   'LLF',\n   'LNB',\n   'LNN',\n   'MMP',\n   'MNP',\n   'MTD',\n   'NKQ',\n   'NQF',\n   'PFM',\n   'PNR',\n   'PPL',\n   'PTV',\n   'QPD',\n   'RFJ',\n   'RPR',\n   'SBB',\n   'SLF',\n   'SPL',\n   'SQV',\n   'SRH',\n   'TJB',\n   'VCL',\n   'VHN',\n   'VKA',\n   'VXC',\n   'VXX',\n   'XDB',\n   'XKL',\n   'XLQ',\n   'XVF'},\n  'repeat': 'NKQ',\n  'cycle': ['NKQ',\n   'XLQ',\n   'LLF',\n   'JLS',\n   'DJG',\n   'PTV',\n   'SQV',\n   'HXM',\n   'VXC',\n   'PFM',\n   'JPL',\n   'LFP',\n   'SPL',\n   'BXL',\n   'KDJ',\n   'BHS',\n   'KCP',\n   'FXH',\n   'NQF',\n   'RPR',\n   'LDD',\n   'FCV',\n   'PPL',\n   'KQJ',\n   'KPB',\n   'MMP',\n   'SLF',\n   'XVF',\n   'VCL',\n   'DFL',\n   'JLC',\n   'FJM',\n   'JMJ',\n   'DDL',\n   'VHN',\n   'GDB',\n   'XKL',\n   'RFJ',\n   'LNN',\n   'PNR',\n   'VXX',\n   'SBB',\n   'MTD',\n   'GLF',\n   'LNB',\n   'BSG',\n   'FHR',\n   'CVF',\n   'DJD',\n   'TJB',\n   'GHC',\n   'KVJ',\n   'MNP',\n   'SRH',\n   'DTT',\n   'DMV',\n   'GPL',\n   'QPD',\n   'HXS',\n   'XDB',\n   'KKZ'],\n  'offset': 1}}"
     },
     "execution_count": 56,
     "metadata": {},
     "output_type": "execute_result"
    }
   ],
   "source": [
    "res = {}\n",
    "\n",
    "for start in starts:\n",
    "    current = start\n",
    "    visited = {k: False for k in full_map.keys()}\n",
    "    order = []\n",
    "    while not visited[current]:\n",
    "        visited[current] = True\n",
    "        order.append(current)\n",
    "        current = full_map[current]\n",
    "        \n",
    "    res[start] = {\n",
    "        \"count\": len([1 for v in visited.values() if v]), \n",
    "        \"set\": set([k for k, v in visited.items() if v]), \n",
    "        \"repeat\": current, \n",
    "        \"cycle\": order[order.index(current):],\n",
    "        \"offset\": order.index(current)\n",
    "    }\n",
    "    \n",
    "res"
   ],
   "metadata": {
    "collapsed": false,
    "ExecuteTime": {
     "end_time": "2023-12-08T23:23:40.170995600Z",
     "start_time": "2023-12-08T23:23:40.154996200Z"
    }
   },
   "id": "676b8b7276f4f894"
  },
  {
   "cell_type": "code",
   "execution_count": 58,
   "outputs": [
    {
     "data": {
      "text/plain": "{'PBA': 1, 'LSA': 1, 'VSA': 1, 'QVA': 1, 'AAA': 1, 'VKA': 1}"
     },
     "execution_count": 58,
     "metadata": {},
     "output_type": "execute_result"
    }
   ],
   "source": [
    "{k: v[\"offset\"] for k, v in res.items()}"
   ],
   "metadata": {
    "collapsed": false,
    "ExecuteTime": {
     "end_time": "2023-12-08T23:24:01.757163100Z",
     "start_time": "2023-12-08T23:24:01.737162700Z"
    }
   },
   "id": "d71666e90eccb464"
  },
  {
   "cell_type": "code",
   "execution_count": 59,
   "outputs": [
    {
     "data": {
      "text/plain": "{'PBA': 1, 'LSA': 1, 'VSA': 1, 'QVA': 1, 'AAA': 1, 'VKA': 1}"
     },
     "execution_count": 59,
     "metadata": {},
     "output_type": "execute_result"
    }
   ],
   "source": [
    "{k: len({x for x in v[\"cycle\"] if x[-1] == \"Z\"}) for k, v in res.items()}"
   ],
   "metadata": {
    "collapsed": false,
    "ExecuteTime": {
     "end_time": "2023-12-08T23:25:13.386591700Z",
     "start_time": "2023-12-08T23:25:13.369834800Z"
    }
   },
   "id": "11dc7a0525c9a47c"
  },
  {
   "cell_type": "code",
   "execution_count": 11,
   "outputs": [
    {
     "data": {
      "text/plain": "{'PBA': 71, 'LSA': 43, 'VSA': 47, 'QVA': 73, 'AAA': 59, 'VKA': 61}"
     },
     "execution_count": 11,
     "metadata": {},
     "output_type": "execute_result"
    }
   ],
   "source": [
    "{k: len(v[\"cycle\"]) for k, v in res.items()}"
   ],
   "metadata": {
    "collapsed": false,
    "ExecuteTime": {
     "end_time": "2023-12-08T22:24:51.062788900Z",
     "start_time": "2023-12-08T22:24:51.000789400Z"
    }
   },
   "id": "9a5bc494f2abc2f1"
  },
  {
   "cell_type": "code",
   "execution_count": 28,
   "outputs": [
    {
     "data": {
      "text/plain": "37698959957"
     },
     "execution_count": 28,
     "metadata": {},
     "output_type": "execute_result"
    }
   ],
   "source": [
    "M = np.prod([len(v[\"cycle\"]) for v in res.values()], dtype=np.int64)\n",
    "M"
   ],
   "metadata": {
    "collapsed": false,
    "ExecuteTime": {
     "end_time": "2023-12-08T23:12:13.524641600Z",
     "start_time": "2023-12-08T23:12:13.503844200Z"
    }
   },
   "id": "58f540f507e24658"
  },
  {
   "cell_type": "code",
   "execution_count": 44,
   "outputs": [
    {
     "data": {
      "text/plain": "array([71, 43, 47, 73, 59, 61])"
     },
     "execution_count": 44,
     "metadata": {},
     "output_type": "execute_result"
    }
   ],
   "source": [
    "n = np.array([len(v[\"cycle\"]) for k, v in res.items()])\n",
    "n"
   ],
   "metadata": {
    "collapsed": false,
    "ExecuteTime": {
     "end_time": "2023-12-08T23:19:08.700995Z",
     "start_time": "2023-12-08T23:19:08.684994100Z"
    }
   },
   "id": "a8a1bbd327b2e52"
  },
  {
   "cell_type": "code",
   "execution_count": 45,
   "outputs": [
    {
     "data": {
      "text/plain": "array([530971267, 876719999, 802105531, 516424109, 638965423, 618015737],\n      dtype=int64)"
     },
     "execution_count": 45,
     "metadata": {},
     "output_type": "execute_result"
    }
   ],
   "source": [
    "Mi = M//n\n",
    "Mi"
   ],
   "metadata": {
    "collapsed": false,
    "ExecuteTime": {
     "end_time": "2023-12-08T23:19:12.306035300Z",
     "start_time": "2023-12-08T23:19:12.287037100Z"
    }
   },
   "id": "dde7e9152049d4bf"
  },
  {
   "cell_type": "code",
   "execution_count": 46,
   "outputs": [
    {
     "data": {
      "text/plain": "array([51, 27,  8, 51, 26, 21])"
     },
     "execution_count": 46,
     "metadata": {},
     "output_type": "execute_result"
    }
   ],
   "source": [
    "Minv = np.array([pow(int(Mi[i]), -1, int(n[i])) for i in range(len(n))])\n",
    "Minv"
   ],
   "metadata": {
    "collapsed": false,
    "ExecuteTime": {
     "end_time": "2023-12-08T23:19:53.579142900Z",
     "start_time": "2023-12-08T23:19:53.561142600Z"
    }
   },
   "id": "dce23978b1230025"
  },
  {
   "cell_type": "code",
   "execution_count": 67,
   "outputs": [
    {
     "data": {
      "text/plain": "array([71, 43, 47, 73, 59, 61])"
     },
     "execution_count": 67,
     "metadata": {},
     "output_type": "execute_result"
    }
   ],
   "source": [
    "end_in_cycle = np.array([next(y[0] for y in enumerate(x[\"cycle\"]) if y[1][-1] == \"Z\") for x in res.values()])\n",
    "offset = np.array([x[\"offset\"] for x in res.values()])\n",
    "\n",
    "a = end_in_cycle + offset\n",
    "a"
   ],
   "metadata": {
    "collapsed": false,
    "ExecuteTime": {
     "end_time": "2023-12-08T23:30:55.383465300Z",
     "start_time": "2023-12-08T23:30:55.364468200Z"
    }
   },
   "id": "c0a335f4a3ea96ea"
  },
  {
   "cell_type": "code",
   "execution_count": 68,
   "outputs": [
    {
     "data": {
      "text/plain": "10668805667831"
     },
     "execution_count": 68,
     "metadata": {},
     "output_type": "execute_result"
    }
   ],
   "source": [
    "M * len(rl)"
   ],
   "metadata": {
    "collapsed": false,
    "ExecuteTime": {
     "end_time": "2023-12-08T23:32:06.030764Z",
     "start_time": "2023-12-08T23:32:06.017737900Z"
    }
   },
   "id": "c64e64661a8cd99a"
  },
  {
   "cell_type": "markdown",
   "source": [
    "113096879872 too low"
   ],
   "metadata": {
    "collapsed": false
   },
   "id": "262b35c90f0631c"
  }
 ],
 "metadata": {
  "kernelspec": {
   "display_name": "Python 3",
   "language": "python",
   "name": "python3"
  },
  "language_info": {
   "codemirror_mode": {
    "name": "ipython",
    "version": 2
   },
   "file_extension": ".py",
   "mimetype": "text/x-python",
   "name": "python",
   "nbconvert_exporter": "python",
   "pygments_lexer": "ipython2",
   "version": "2.7.6"
  }
 },
 "nbformat": 4,
 "nbformat_minor": 5
}
