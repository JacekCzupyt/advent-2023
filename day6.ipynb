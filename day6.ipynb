{
 "cells": [
  {
   "cell_type": "code",
   "execution_count": 1,
   "id": "initial_id",
   "metadata": {
    "collapsed": true,
    "ExecuteTime": {
     "end_time": "2023-12-06T09:55:02.285912234Z",
     "start_time": "2023-12-06T09:55:02.077835802Z"
    }
   },
   "outputs": [],
   "source": [
    "import numpy as np\n",
    "import re"
   ]
  },
  {
   "cell_type": "code",
   "execution_count": 2,
   "outputs": [],
   "source": [
    "input = \"\"\"Time:      7  15   30\n",
    "Distance:  9  40  200\"\"\""
   ],
   "metadata": {
    "collapsed": false,
    "ExecuteTime": {
     "end_time": "2023-12-06T09:55:48.652757474Z",
     "start_time": "2023-12-06T09:55:48.601555592Z"
    }
   },
   "id": "57ff6b8bb54201d5"
  },
  {
   "cell_type": "code",
   "execution_count": 16,
   "outputs": [],
   "source": [
    "input = \"\"\"Time:        54     94     65     92\n",
    "Distance:   302   1476   1029   1404\"\"\""
   ],
   "metadata": {
    "collapsed": false,
    "ExecuteTime": {
     "end_time": "2023-12-06T10:11:11.138737819Z",
     "start_time": "2023-12-06T10:11:11.113527919Z"
    }
   },
   "id": "36ef6a0d713e48bb"
  },
  {
   "cell_type": "code",
   "execution_count": 22,
   "outputs": [
    {
     "data": {
      "text/plain": "([54, 94, 65, 92], [302, 1476, 1029, 1404])"
     },
     "execution_count": 22,
     "metadata": {},
     "output_type": "execute_result"
    }
   ],
   "source": [
    "time = [int(x) for x in input.split(\"\\n\")[0].split(\":\")[1].strip().split(\" \") if x]\n",
    "dist = [int(x) for x in input.split(\"\\n\")[1].split(\":\")[1].strip().split(\" \") if x]\n",
    "n = len(time)\n",
    "time, dist"
   ],
   "metadata": {
    "collapsed": false,
    "ExecuteTime": {
     "end_time": "2023-12-06T10:14:10.781049452Z",
     "start_time": "2023-12-06T10:14:10.752540892Z"
    }
   },
   "id": "21a802ccf443b905"
  },
  {
   "cell_type": "code",
   "execution_count": 23,
   "outputs": [
    {
     "data": {
      "text/plain": "([54946592], [302147610291404])"
     },
     "execution_count": 23,
     "metadata": {},
     "output_type": "execute_result"
    }
   ],
   "source": [
    "### Part 2\n",
    "time = [int(\"\".join([str(x) for x in time]))]\n",
    "dist = [int(\"\".join([str(x) for x in dist]))]\n",
    "n = len(time)\n",
    "time, dist"
   ],
   "metadata": {
    "collapsed": false,
    "ExecuteTime": {
     "end_time": "2023-12-06T10:14:11.432774412Z",
     "start_time": "2023-12-06T10:14:11.424573849Z"
    }
   },
   "id": "3d86a78bf8ccee5f"
  },
  {
   "cell_type": "code",
   "execution_count": 24,
   "outputs": [
    {
     "data": {
      "text/plain": "[42550411]"
     },
     "execution_count": 24,
     "metadata": {},
     "output_type": "execute_result"
    }
   ],
   "source": [
    "dv = 1\n",
    "res = []\n",
    "\n",
    "for i in range(n):\n",
    "    a = - dv\n",
    "    b = time[i] * dv\n",
    "    c = - dist[i]\n",
    "    delta = b**2 - 4*a*c\n",
    "    if delta <= 0:\n",
    "        res.append(0)\n",
    "    else:\n",
    "        x1 = (-b + np.sqrt(delta))/(2*a)\n",
    "        x2 = (-b - np.sqrt(delta))/(2*a)\n",
    "        if x2 < x1:\n",
    "            x1, x2 = x2, x1\n",
    "        x1 = int(np.floor(x1) + 1)\n",
    "        x2 = int(np.ceil(x2) - 1)\n",
    "        res.append(x2 - x1 + 1)\n",
    "res"
   ],
   "metadata": {
    "collapsed": false,
    "ExecuteTime": {
     "end_time": "2023-12-06T10:14:14.903940949Z",
     "start_time": "2023-12-06T10:14:14.848256407Z"
    }
   },
   "id": "698f6b38875781ae"
  },
  {
   "cell_type": "code",
   "execution_count": 19,
   "outputs": [
    {
     "data": {
      "text/plain": "1195150"
     },
     "execution_count": 19,
     "metadata": {},
     "output_type": "execute_result"
    }
   ],
   "source": [
    "np.prod(res)"
   ],
   "metadata": {
    "collapsed": false,
    "ExecuteTime": {
     "end_time": "2023-12-06T10:11:14.458565703Z",
     "start_time": "2023-12-06T10:11:14.352935278Z"
    }
   },
   "id": "452e3596a6120f20"
  },
  {
   "cell_type": "code",
   "execution_count": null,
   "outputs": [],
   "source": [],
   "metadata": {
    "collapsed": false
   },
   "id": "8b511ad8729042c2"
  }
 ],
 "metadata": {
  "kernelspec": {
   "display_name": "Python 3",
   "language": "python",
   "name": "python3"
  },
  "language_info": {
   "codemirror_mode": {
    "name": "ipython",
    "version": 2
   },
   "file_extension": ".py",
   "mimetype": "text/x-python",
   "name": "python",
   "nbconvert_exporter": "python",
   "pygments_lexer": "ipython2",
   "version": "2.7.6"
  }
 },
 "nbformat": 4,
 "nbformat_minor": 5
}
