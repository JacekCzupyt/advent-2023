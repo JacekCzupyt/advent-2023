{
 "cells": [
  {
   "cell_type": "code",
   "execution_count": 44,
   "id": "initial_id",
   "metadata": {
    "collapsed": true,
    "ExecuteTime": {
     "end_time": "2023-12-24T17:05:00.004698182Z",
     "start_time": "2023-12-24T17:04:59.957161540Z"
    }
   },
   "outputs": [],
   "source": [
    "import numpy as np\n",
    "from collections import deque\n",
    "import re\n",
    "from tqdm import tqdm"
   ]
  },
  {
   "cell_type": "code",
   "execution_count": 61,
   "outputs": [],
   "source": [
    "input = \"\"\"broadcaster -> a, b, c\n",
    "%a -> b\n",
    "%b -> c\n",
    "%c -> inv\n",
    "&inv -> a\"\"\""
   ],
   "metadata": {
    "collapsed": false,
    "ExecuteTime": {
     "end_time": "2023-12-24T17:34:55.681361584Z",
     "start_time": "2023-12-24T17:34:55.635491925Z"
    }
   },
   "id": "680dea744f49f1a5"
  },
  {
   "cell_type": "code",
   "execution_count": 30,
   "outputs": [],
   "source": [
    "input = \"\"\"broadcaster -> a\n",
    "%a -> inv, con\n",
    "&inv -> b\n",
    "%b -> con\n",
    "&con -> output\"\"\""
   ],
   "metadata": {
    "collapsed": false,
    "ExecuteTime": {
     "end_time": "2023-12-24T17:00:24.188368271Z",
     "start_time": "2023-12-24T17:00:24.174511784Z"
    }
   },
   "id": "f8dfe4617f98ee6c"
  },
  {
   "cell_type": "code",
   "execution_count": 87,
   "outputs": [],
   "source": [
    "input = \"\"\"%cf -> tz\n",
    "%kr -> xn, gq\n",
    "%cp -> sq, bd\n",
    "broadcaster -> vn, sj, tg, kn\n",
    "%hc -> pm\n",
    "%fd -> xn, mj\n",
    "%qz -> xf\n",
    "%vf -> mc, pm\n",
    "%zm -> rz, pm\n",
    "%cn -> bd, qz\n",
    "%jj -> bp\n",
    "%ks -> ff\n",
    "%nb -> xn, ks\n",
    "%bm -> pm, vf\n",
    "&xn -> kc, jb, cb, tg, ks, tx\n",
    "%lm -> rk\n",
    "%dn -> bd, cn\n",
    "%ft -> dn\n",
    "%pn -> pm, ll\n",
    "%rk -> bp, fs\n",
    "%tz -> bp, gp\n",
    "%mc -> jx\n",
    "%fs -> kx\n",
    "%jf -> bd, fm\n",
    "%rz -> hc, pm\n",
    "%tg -> cb, xn\n",
    "&hf -> rx\n",
    "%vp -> pn\n",
    "&pm -> ll, mc, sj, vd, vp\n",
    "%rn -> kc, xn\n",
    "%vn -> bd, cp\n",
    "&nd -> hf\n",
    "%fm -> bd, gc\n",
    "%ff -> xn, fd\n",
    "&bp -> cf, fh, pc, kn, fs, gn, lm\n",
    "&pc -> hf\n",
    "%mj -> xn\n",
    "%qg -> bd\n",
    "%fh -> lm\n",
    "%kc -> nb\n",
    "%xf -> bd, jf\n",
    "%gc -> qg, bd\n",
    "&bd -> vn, sq, qz, ft, nd\n",
    "%jb -> kr\n",
    "%gp -> bp, rp\n",
    "%gq -> xn, rn\n",
    "%sj -> pm, bm\n",
    "%rp -> bp, jj\n",
    "%sq -> ft\n",
    "%cb -> jb\n",
    "&vd -> hf\n",
    "%gn -> cf\n",
    "%kx -> gn, bp\n",
    "%ll -> zm\n",
    "&tx -> hf\n",
    "%jx -> md, pm\n",
    "%md -> pm, vp\n",
    "%kn -> fh, bp\"\"\""
   ],
   "metadata": {
    "collapsed": false,
    "ExecuteTime": {
     "end_time": "2023-12-24T18:04:35.216898009Z",
     "start_time": "2023-12-24T18:04:35.205010241Z"
    }
   },
   "id": "3f7e35cb7ec4bd26"
  },
  {
   "cell_type": "code",
   "execution_count": 88,
   "outputs": [],
   "source": [
    "from dataclasses import dataclass\n",
    "\n",
    "\n",
    "@dataclass\n",
    "class Signal:\n",
    "    source: str\n",
    "    node: str\n",
    "    input: int\n",
    "    state: bool\n",
    "\n",
    "class Node:\n",
    "    def __init__(self, name):\n",
    "        self.name = name\n",
    "        self.inputs = []\n",
    "        self.outputs = []\n",
    "    \n",
    "class Broadcaster(Node):\n",
    "    def __init__(self, name):\n",
    "        super().__init__(name)\n",
    "\n",
    "    def handle_signal(self, signal: Signal):\n",
    "        for output in self.outputs:\n",
    "            yield Signal(self.name, output[0], output[1], signal.state)\n",
    "            \n",
    "class FlipFlop(Node):\n",
    "    def __init__(self, name):\n",
    "        super().__init__(name)\n",
    "        self.state = True\n",
    "        \n",
    "    def handle_signal(self, signal: Signal):\n",
    "        if signal.state:\n",
    "            self.state = not self.state\n",
    "            for output in self.outputs:\n",
    "                yield Signal(self.name, output[0], output[1], self.state)\n",
    "                \n",
    "class Conjugation(Node):\n",
    "    def __init__(self, name):\n",
    "        super().__init__(name)\n",
    "        \n",
    "    def handle_signal(self, signal: Signal):\n",
    "        self.inputs[signal.input] = signal.state\n",
    "        sig = not any(self.inputs)\n",
    "        for output in self.outputs:\n",
    "            yield Signal(self.name, output[0], output[1], sig)"
   ],
   "metadata": {
    "collapsed": false,
    "ExecuteTime": {
     "end_time": "2023-12-24T18:04:35.713707431Z",
     "start_time": "2023-12-24T18:04:35.705206270Z"
    }
   },
   "id": "e1d0e7c6f518b752"
  },
  {
   "cell_type": "code",
   "execution_count": 73,
   "outputs": [],
   "source": [
    "lines = input.split(\"\\n\")\n",
    "nodes = {}\n",
    "for line in lines:\n",
    "    name = line.split(' ')[0]\n",
    "    if name[0] == '%':\n",
    "        nodes[name[1:]] = FlipFlop(name[1:])\n",
    "    elif name[0] == '&':\n",
    "        nodes[name[1:]] = Conjugation(name[1:])\n",
    "    elif name == 'broadcaster':\n",
    "        nodes[name] = Broadcaster(name)\n",
    "\n",
    "for line in lines:\n",
    "    (source, targets) = line.split(' -> ')\n",
    "    if source[0] in ['%', '&']:\n",
    "        source = source[1:]\n",
    "    \n",
    "    for target in targets.split(', '):\n",
    "        if target in nodes:\n",
    "            idx = len(nodes[target].inputs)\n",
    "            nodes[target].inputs.append(True)\n",
    "        else:\n",
    "            idx = 0\n",
    "        nodes[source].outputs.append((target, idx))"
   ],
   "metadata": {
    "collapsed": false,
    "ExecuteTime": {
     "end_time": "2023-12-24T17:35:42.803954154Z",
     "start_time": "2023-12-24T17:35:42.799320922Z"
    }
   },
   "id": "7aeacc0ef8806ca"
  },
  {
   "cell_type": "code",
   "execution_count": 74,
   "outputs": [
    {
     "name": "stderr",
     "output_type": "stream",
     "text": [
      "100%|██████████| 1000/1000 [00:00<00:00, 8825.90it/s]\n"
     ]
    }
   ],
   "source": [
    "count = {\n",
    "    True: 0,\n",
    "    False: 0\n",
    "}\n",
    "\n",
    "q = deque()\n",
    "\n",
    "for i in tqdm(range(1000)):\n",
    "    q.append(Signal('button', 'broadcaster', 0, True))\n",
    "    while len(q):\n",
    "        sig: Signal = q.popleft()\n",
    "        count[sig.state] += 1\n",
    "        \n",
    "        # if i<1:\n",
    "        #     print(f\"{sig.source} -{'low' if sig.state else 'high'}-> {sig.node}\")\n",
    "        \n",
    "        if sig.node in nodes:\n",
    "            for new_sig in nodes[sig.node].handle_signal(sig):\n",
    "                q.append(new_sig)\n",
    "        if sig.node == 'rx' and sig.state == True:\n",
    "            print(i)\n",
    "            i=10000000\n",
    "            break\n",
    "    "
   ],
   "metadata": {
    "collapsed": false,
    "ExecuteTime": {
     "end_time": "2023-12-24T17:35:43.433883169Z",
     "start_time": "2023-12-24T17:35:43.313997813Z"
    }
   },
   "id": "d73c5db4032207be"
  },
  {
   "cell_type": "code",
   "execution_count": 75,
   "outputs": [
    {
     "data": {
      "text/plain": "{True: 17730, False: 45520}"
     },
     "execution_count": 75,
     "metadata": {},
     "output_type": "execute_result"
    }
   ],
   "source": [
    "count"
   ],
   "metadata": {
    "collapsed": false,
    "ExecuteTime": {
     "end_time": "2023-12-24T17:35:43.944921995Z",
     "start_time": "2023-12-24T17:35:43.936164977Z"
    }
   },
   "id": "b06d53fb4c71c733"
  },
  {
   "cell_type": "code",
   "execution_count": 76,
   "outputs": [
    {
     "data": {
      "text/plain": "807069600"
     },
     "execution_count": 76,
     "metadata": {},
     "output_type": "execute_result"
    }
   ],
   "source": [
    "np.prod(list(count.values()))"
   ],
   "metadata": {
    "collapsed": false,
    "ExecuteTime": {
     "end_time": "2023-12-24T17:35:44.546941380Z",
     "start_time": "2023-12-24T17:35:44.527786173Z"
    }
   },
   "id": "74abec38250ac588"
  },
  {
   "cell_type": "markdown",
   "source": [
    "## Part 2"
   ],
   "metadata": {
    "collapsed": false
   },
   "id": "b6ca83e0e952c7ea"
  },
  {
   "cell_type": "code",
   "execution_count": 89,
   "outputs": [],
   "source": [
    "import networkx as nx"
   ],
   "metadata": {
    "collapsed": false,
    "ExecuteTime": {
     "end_time": "2023-12-24T18:04:43.428010969Z",
     "start_time": "2023-12-24T18:04:43.382141493Z"
    }
   },
   "id": "8edfc40b9aacc87b"
  },
  {
   "cell_type": "code",
   "execution_count": 90,
   "outputs": [
    {
     "data": {
      "text/plain": "<Figure size 640x480 with 1 Axes>",
      "image/png": "[encoded data removed]"
     },
     "metadata": {},
     "output_type": "display_data"
    }
   ],
   "source": [
    "g = nx.DiGraph([edge for node in nodes.values() for edge in [(node.name, output[0]) for output in node.outputs]])\n",
    "# g.nodes =   \n",
    "# g.edges = [*[(node, node[])] for node in nodes.values()]\n",
    "nx.draw(g, with_labels=True)"
   ],
   "metadata": {
    "collapsed": false,
    "ExecuteTime": {
     "end_time": "2023-12-24T18:04:44.763822033Z",
     "start_time": "2023-12-24T18:04:43.730669261Z"
    }
   },
   "id": "d9a3d48a90a539ba"
  },
  {
   "cell_type": "code",
   "execution_count": 91,
   "outputs": [],
   "source": [
    "lines = input.split(\"\\n\")\n",
    "nodes = {}\n",
    "for line in lines:\n",
    "    name = line.split(' ')[0]\n",
    "    if name[0] == '%':\n",
    "        nodes[name[1:]] = FlipFlop(name[1:])\n",
    "    elif name[0] == '&':\n",
    "        nodes[name[1:]] = Conjugation(name[1:])\n",
    "    elif name == 'broadcaster':\n",
    "        nodes[name] = Broadcaster(name)\n",
    "\n",
    "for line in lines:\n",
    "    (source, targets) = line.split(' -> ')\n",
    "    if source[0] in ['%', '&']:\n",
    "        source = source[1:]\n",
    "    \n",
    "    for target in targets.split(', '):\n",
    "        if target in nodes:\n",
    "            idx = len(nodes[target].inputs)\n",
    "            nodes[target].inputs.append(True)\n",
    "        else:\n",
    "            idx = 0\n",
    "        nodes[source].outputs.append((target, idx))"
   ],
   "metadata": {
    "collapsed": false,
    "ExecuteTime": {
     "end_time": "2023-12-24T18:04:46.168835395Z",
     "start_time": "2023-12-24T18:04:46.155631144Z"
    }
   },
   "id": "3df61477a1719b27"
  },
  {
   "cell_type": "code",
   "execution_count": 92,
   "outputs": [
    {
     "name": "stderr",
     "output_type": "stream",
     "text": [
      "  6%|▌         | 5707/100000 [00:00<00:09, 9471.14it/s]"
     ]
    },
    {
     "name": "stdout",
     "output_type": "stream",
     "text": [
      "vd: 3766\n",
      "tx: 3768\n",
      "pc: 3880\n",
      "nd: 4018\n"
     ]
    },
    {
     "name": "stderr",
     "output_type": "stream",
     "text": [
      "  9%|▉         | 8814/100000 [00:00<00:09, 9883.95it/s]"
     ]
    },
    {
     "name": "stdout",
     "output_type": "stream",
     "text": [
      "vd: 7533\n",
      "tx: 7537\n",
      "pc: 7761\n",
      "nd: 8037\n"
     ]
    },
    {
     "name": "stderr",
     "output_type": "stream",
     "text": [
      " 13%|█▎        | 13137/100000 [00:01<00:08, 10593.59it/s]"
     ]
    },
    {
     "name": "stdout",
     "output_type": "stream",
     "text": [
      "vd: 11300\n",
      "tx: 11306\n",
      "pc: 11642\n",
      "nd: 12056\n"
     ]
    },
    {
     "name": "stderr",
     "output_type": "stream",
     "text": [
      " 16%|█▋        | 16332/100000 [00:01<00:08, 10332.32it/s]"
     ]
    },
    {
     "name": "stdout",
     "output_type": "stream",
     "text": [
      "vd: 15067\n",
      "tx: 15075\n",
      "pc: 15523\n",
      "nd: 16075\n"
     ]
    },
    {
     "name": "stderr",
     "output_type": "stream",
     "text": [
      " 21%|██        | 20938/100000 [00:02<00:06, 11344.80it/s]"
     ]
    },
    {
     "name": "stdout",
     "output_type": "stream",
     "text": [
      "vd: 18834\n",
      "tx: 18844\n",
      "pc: 19404\n",
      "nd: 20094\n"
     ]
    },
    {
     "name": "stderr",
     "output_type": "stream",
     "text": [
      " 24%|██▍       | 24278/100000 [00:02<00:07, 10548.94it/s]"
     ]
    },
    {
     "name": "stdout",
     "output_type": "stream",
     "text": [
      "vd: 22601\n",
      "tx: 22613\n",
      "pc: 23285\n",
      "nd: 24113\n"
     ]
    },
    {
     "name": "stderr",
     "output_type": "stream",
     "text": [
      " 28%|██▊       | 27756/100000 [00:02<00:06, 11109.23it/s]"
     ]
    },
    {
     "name": "stdout",
     "output_type": "stream",
     "text": [
      "vd: 26368\n",
      "tx: 26382\n",
      "pc: 27166\n",
      "nd: 28132\n"
     ]
    },
    {
     "name": "stderr",
     "output_type": "stream",
     "text": [
      " 32%|███▏      | 32442/100000 [00:03<00:06, 11178.31it/s]"
     ]
    },
    {
     "name": "stdout",
     "output_type": "stream",
     "text": [
      "vd: 30135\n",
      "tx: 30151\n",
      "pc: 31047\n",
      "nd: 32151\n"
     ]
    },
    {
     "name": "stderr",
     "output_type": "stream",
     "text": [
      " 36%|███▌      | 35802/100000 [00:03<00:06, 10230.70it/s]"
     ]
    },
    {
     "name": "stdout",
     "output_type": "stream",
     "text": [
      "vd: 33902\n",
      "tx: 33920\n",
      "pc: 34928\n"
     ]
    },
    {
     "name": "stderr",
     "output_type": "stream",
     "text": [
      " 38%|███▊      | 37858/100000 [00:03<00:06, 9836.78it/s] "
     ]
    },
    {
     "name": "stdout",
     "output_type": "stream",
     "text": [
      "nd: 36170\n",
      "vd: 37669\n",
      "tx: 37689\n"
     ]
    },
    {
     "name": "stderr",
     "output_type": "stream",
     "text": [
      " 40%|████      | 40025/100000 [00:03<00:05, 10288.94it/s]"
     ]
    },
    {
     "name": "stdout",
     "output_type": "stream",
     "text": [
      "pc: 38809\n",
      "nd: 40189\n"
     ]
    },
    {
     "name": "stderr",
     "output_type": "stream",
     "text": [
      " 42%|████▏     | 42323/100000 [00:04<00:05, 9872.67it/s] "
     ]
    },
    {
     "name": "stdout",
     "output_type": "stream",
     "text": [
      "vd: 41436\n",
      "tx: 41458\n",
      "pc: 42690\n"
     ]
    },
    {
     "name": "stderr",
     "output_type": "stream",
     "text": [
      " 45%|████▌     | 45367/100000 [00:04<00:05, 9749.35it/s]"
     ]
    },
    {
     "name": "stdout",
     "output_type": "stream",
     "text": [
      "nd: 44208\n",
      "vd: 45203\n",
      "tx: 45227\n"
     ]
    },
    {
     "name": "stderr",
     "output_type": "stream",
     "text": [
      " 48%|████▊     | 47559/100000 [00:04<00:05, 10103.14it/s]"
     ]
    },
    {
     "name": "stdout",
     "output_type": "stream",
     "text": [
      "pc: 46571\n",
      "nd: 48227\n"
     ]
    },
    {
     "name": "stderr",
     "output_type": "stream",
     "text": [
      " 51%|█████     | 50652/100000 [00:04<00:05, 9652.96it/s] "
     ]
    },
    {
     "name": "stdout",
     "output_type": "stream",
     "text": [
      "vd: 48970\n",
      "tx: 48996\n",
      "pc: 50452\n"
     ]
    },
    {
     "name": "stderr",
     "output_type": "stream",
     "text": [
      " 54%|█████▍    | 53928/100000 [00:05<00:04, 10103.40it/s]"
     ]
    },
    {
     "name": "stdout",
     "output_type": "stream",
     "text": [
      "nd: 52246\n",
      "vd: 52737\n",
      "tx: 52765\n",
      "pc: 54333\n"
     ]
    },
    {
     "name": "stderr",
     "output_type": "stream",
     "text": [
      " 58%|█████▊    | 57980/100000 [00:05<00:04, 9851.41it/s] "
     ]
    },
    {
     "name": "stdout",
     "output_type": "stream",
     "text": [
      "nd: 56265\n",
      "vd: 56504\n",
      "tx: 56534\n",
      "pc: 58214\n"
     ]
    },
    {
     "name": "stderr",
     "output_type": "stream",
     "text": [
      " 62%|██████▏   | 62214/100000 [00:06<00:03, 10006.02it/s]"
     ]
    },
    {
     "name": "stdout",
     "output_type": "stream",
     "text": [
      "vd: 60271\n",
      "nd: 60284\n",
      "tx: 60303\n",
      "pc: 62095\n"
     ]
    },
    {
     "name": "stderr",
     "output_type": "stream",
     "text": [
      " 65%|██████▌   | 65262/100000 [00:06<00:03, 9987.21it/s] "
     ]
    },
    {
     "name": "stdout",
     "output_type": "stream",
     "text": [
      "vd: 64038\n",
      "tx: 64072\n",
      "nd: 64303\n",
      "pc: 65976\n"
     ]
    },
    {
     "name": "stderr",
     "output_type": "stream",
     "text": [
      " 70%|██████▉   | 69606/100000 [00:06<00:02, 10379.43it/s]"
     ]
    },
    {
     "name": "stdout",
     "output_type": "stream",
     "text": [
      "vd: 67805\n",
      "tx: 67841\n",
      "nd: 68322\n",
      "pc: 69857\n"
     ]
    },
    {
     "name": "stderr",
     "output_type": "stream",
     "text": [
      " 73%|███████▎  | 72581/100000 [00:07<00:03, 8900.66it/s] "
     ]
    },
    {
     "name": "stdout",
     "output_type": "stream",
     "text": [
      "vd: 71572\n",
      "tx: 71610\n",
      "nd: 72341\n"
     ]
    },
    {
     "name": "stderr",
     "output_type": "stream",
     "text": [
      " 76%|███████▌  | 75738/100000 [00:07<00:02, 9938.92it/s]"
     ]
    },
    {
     "name": "stdout",
     "output_type": "stream",
     "text": [
      "pc: 73738\n",
      "vd: 75339\n",
      "tx: 75379\n"
     ]
    },
    {
     "name": "stderr",
     "output_type": "stream",
     "text": [
      " 78%|███████▊  | 77853/100000 [00:07<00:02, 9632.40it/s] "
     ]
    },
    {
     "name": "stdout",
     "output_type": "stream",
     "text": [
      "nd: 76360\n",
      "pc: 77619\n"
     ]
    },
    {
     "name": "stderr",
     "output_type": "stream",
     "text": [
      " 81%|████████  | 80942/100000 [00:08<00:01, 10098.76it/s]"
     ]
    },
    {
     "name": "stdout",
     "output_type": "stream",
     "text": [
      "vd: 79106\n",
      "tx: 79148\n",
      "nd: 80379\n",
      "pc: 81500\n"
     ]
    },
    {
     "name": "stderr",
     "output_type": "stream",
     "text": [
      " 84%|████████▍ | 84097/100000 [00:08<00:01, 9740.52it/s] "
     ]
    },
    {
     "name": "stdout",
     "output_type": "stream",
     "text": [
      "vd: 82873\n",
      "tx: 82917\n",
      "nd: 84398\n"
     ]
    },
    {
     "name": "stderr",
     "output_type": "stream",
     "text": [
      " 87%|████████▋ | 87231/100000 [00:08<00:01, 9975.64it/s]"
     ]
    },
    {
     "name": "stdout",
     "output_type": "stream",
     "text": [
      "pc: 85381\n",
      "vd: 86640\n",
      "tx: 86686\n"
     ]
    },
    {
     "name": "stderr",
     "output_type": "stream",
     "text": [
      " 89%|████████▉ | 89424/100000 [00:08<00:01, 9856.00it/s] "
     ]
    },
    {
     "name": "stdout",
     "output_type": "stream",
     "text": [
      "nd: 88417\n",
      "pc: 89262\n"
     ]
    },
    {
     "name": "stderr",
     "output_type": "stream",
     "text": [
      " 91%|█████████▏| 91406/100000 [00:09<00:00, 9352.34it/s]"
     ]
    },
    {
     "name": "stdout",
     "output_type": "stream",
     "text": [
      "vd: 90407\n",
      "tx: 90455\n"
     ]
    },
    {
     "name": "stderr",
     "output_type": "stream",
     "text": [
      " 95%|█████████▍| 94697/100000 [00:09<00:00, 10414.14it/s]"
     ]
    },
    {
     "name": "stdout",
     "output_type": "stream",
     "text": [
      "nd: 92436\n",
      "pc: 93143\n",
      "vd: 94174\n",
      "tx: 94224\n"
     ]
    },
    {
     "name": "stderr",
     "output_type": "stream",
     "text": [
      " 98%|█████████▊| 97949/100000 [00:09<00:00, 9852.31it/s] "
     ]
    },
    {
     "name": "stdout",
     "output_type": "stream",
     "text": [
      "nd: 96455\n",
      "pc: 97024\n",
      "vd: 97941\n",
      "tx: 97993\n"
     ]
    },
    {
     "name": "stderr",
     "output_type": "stream",
     "text": [
      "100%|██████████| 100000/100000 [00:09<00:00, 10059.48it/s]\n"
     ]
    }
   ],
   "source": [
    "key_nodes = ['pc', 'tx', 'vd', 'nd']\n",
    "res = {\n",
    "    k: []\n",
    "    for k in key_nodes\n",
    "}\n",
    "\n",
    "q = deque()\n",
    "\n",
    "for i in tqdm(range(100000)):\n",
    "    q.append(Signal('button', 'broadcaster', 0, True))\n",
    "    while len(q):\n",
    "        sig: Signal = q.popleft()\n",
    "        count[sig.state] += 1\n",
    "        \n",
    "        # if i<1:\n",
    "        #     print(f\"{sig.source} -{'low' if sig.state else 'high'}-> {sig.node}\")\n",
    "        \n",
    "        if sig.node in nodes:\n",
    "            for new_sig in nodes[sig.node].handle_signal(sig):\n",
    "                q.append(new_sig)\n",
    "        if sig.node in key_nodes and sig.state == True:\n",
    "            print(f\"{sig.node}: {i}\")\n",
    "            res[sig.node].append(i)\n",
    "    "
   ],
   "metadata": {
    "collapsed": false,
    "ExecuteTime": {
     "end_time": "2023-12-24T18:04:57.535311850Z",
     "start_time": "2023-12-24T18:04:47.550794197Z"
    }
   },
   "id": "8cf3db553ad4f8eb"
  },
  {
   "cell_type": "code",
   "execution_count": 93,
   "outputs": [
    {
     "data": {
      "text/plain": "{'pc': array([3880, 3881, 3881, 3881, 3881, 3881, 3881, 3881, 3881, 3881, 3881,\n        3881, 3881, 3881, 3881, 3881, 3881, 3881, 3881, 3881, 3881, 3881,\n        3881, 3881, 3881]),\n 'tx': array([3768, 3769, 3769, 3769, 3769, 3769, 3769, 3769, 3769, 3769, 3769,\n        3769, 3769, 3769, 3769, 3769, 3769, 3769, 3769, 3769, 3769, 3769,\n        3769, 3769, 3769, 3769]),\n 'vd': array([3766, 3767, 3767, 3767, 3767, 3767, 3767, 3767, 3767, 3767, 3767,\n        3767, 3767, 3767, 3767, 3767, 3767, 3767, 3767, 3767, 3767, 3767,\n        3767, 3767, 3767, 3767]),\n 'nd': array([4018, 4019, 4019, 4019, 4019, 4019, 4019, 4019, 4019, 4019, 4019,\n        4019, 4019, 4019, 4019, 4019, 4019, 4019, 4019, 4019, 4019, 4019,\n        4019, 4019])}"
     },
     "execution_count": 93,
     "metadata": {},
     "output_type": "execute_result"
    }
   ],
   "source": [
    "diff = {\n",
    "    k: np.array(val) - np.array([0] + val[:-1])\n",
    "    for k, val in res.items()\n",
    "}\n",
    "diff"
   ],
   "metadata": {
    "collapsed": false,
    "ExecuteTime": {
     "end_time": "2023-12-24T18:05:01.452923149Z",
     "start_time": "2023-12-24T18:05:01.443662197Z"
    }
   },
   "id": "f480183ae2680b15"
  },
  {
   "cell_type": "code",
   "execution_count": 94,
   "outputs": [
    {
     "data": {
      "text/plain": "221453937522197"
     },
     "execution_count": 94,
     "metadata": {},
     "output_type": "execute_result"
    }
   ],
   "source": [
    "np.prod([ar[1] for ar in diff.values()], dtype=np.int64)"
   ],
   "metadata": {
    "collapsed": false,
    "ExecuteTime": {
     "end_time": "2023-12-24T18:05:12.203492467Z",
     "start_time": "2023-12-24T18:05:12.128437897Z"
    }
   },
   "id": "2f197a994004903c"
  },
  {
   "cell_type": "markdown",
   "source": [
    "221453937521197 is too low\n",
    "221453937521297 is too low"
   ],
   "metadata": {
    "collapsed": false
   },
   "id": "243a64866436087e"
  },
  {
   "cell_type": "code",
   "execution_count": null,
   "outputs": [],
   "source": [],
   "metadata": {
    "collapsed": false
   },
   "id": "bc49536bc09240d"
  }
 ],
 "metadata": {
  "kernelspec": {
   "display_name": "Python 3",
   "language": "python",
   "name": "python3"
  },
  "language_info": {
   "codemirror_mode": {
    "name": "ipython",
    "version": 2
   },
   "file_extension": ".py",
   "mimetype": "text/x-python",
   "name": "python",
   "nbconvert_exporter": "python",
   "pygments_lexer": "ipython2",
   "version": "2.7.6"
  }
 },
 "nbformat": 4,
 "nbformat_minor": 5
}
